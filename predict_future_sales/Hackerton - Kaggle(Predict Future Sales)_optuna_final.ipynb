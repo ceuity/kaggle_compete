{
 "cells": [
  {
   "cell_type": "markdown",
   "id": "renewable-arbor",
   "metadata": {},
   "source": [
    "# Hackerton 01 : Predict Future Sales    \n",
    "\n",
    "Team Name : LeeMoonLee   \n",
    "Team Nember : 이현승, 이시은, 문석빈\n",
    "\n",
    "Period : 2021.02.09 ~ 02.10"
   ]
  },
  {
   "cell_type": "markdown",
   "id": "distant-effectiveness",
   "metadata": {},
   "source": [
    "### Preview of Project"
   ]
  },
  {
   "cell_type": "markdown",
   "id": "atlantic-police",
   "metadata": {},
   "source": [
    "매출액에 영향을 미치는 다양한 요소를 카테고리로 생성한 2013년 01월 부터 2015년 10월까지의 데이터를 활용하여 **2015년 11월 매출액 예측**하는 프로젝트이다.  \n",
    "\n",
    "러시아 내의 도시별/지역별 상점에서 판매한 판매 물품별 관련 데이터로 구성되어 있고, 시계열 데이터이므로 **시기별/계절별로 상품의 판매량과 매출액이 서로 연관이 있을 것이라는 가설**을 세웠다.   \n",
    "\n",
    "또한, 데이터를 분석하는 과정에서 전반적인 매출액이 점차 하락세를 이루고 있는 추세이고, 매년 같은 월에 해당하는 매출액이 감소하는 추세를 보였다.   \n",
    "\n",
    "데이터에 해당하는 러시아 회사의 경우, 매년 매출액이 감소하는 이유를 파악하여 마케팅 관점 및 소비자의 성향을 파악하여 해결 방안을 만들어야 할 것으로 보인다. 더불어, 러시아 지역별/도시별 상점마다 매출액이 높은 상점을 대표적으로 남기고 매출액이 낮은 상점의 경우, 원인을 파악하여 마케팅을 진행하는 방안 및 폐점을 고려해야 할 것으로 보인다."
   ]
  },
  {
   "cell_type": "markdown",
   "id": "classified-indie",
   "metadata": {},
   "source": [
    "### Data Descriptions"
   ]
  },
  {
   "cell_type": "markdown",
   "id": "yellow-render",
   "metadata": {},
   "source": [
    "- sales_train.csv - **training set.** 2013년 1월부터 2015년 10월까지의 일일 기록 데이터\n",
    "- test.csv - **test set.** 2015년 11월의 주어진 데이터를 이용하여 상점의 매출을 예측\n",
    "- sample_submission.csv - 제출 파일 포맷\n",
    "- items.csv - 항목/제품에 대한 추가 정보\n",
    "- item_categories.csv  - 항목의 범주에 대한 추가 정보\n",
    "- shops.csv- 상점에 대한 추가 정보"
   ]
  },
  {
   "cell_type": "markdown",
   "id": "opponent-communist",
   "metadata": {},
   "source": [
    "### Data Fields"
   ]
  },
  {
   "cell_type": "markdown",
   "id": "false-madagascar",
   "metadata": {},
   "source": [
    "- ID - an Id that represents a (Shop, Item) tuple within the test set\n",
    "- shop_id - unique identifier of a shop\n",
    "- item_id - unique identifier of a product\n",
    "- item_category_id - unique identifier of item category\n",
    "- item_cnt_day - number of products sold. You are predicting a monthly amount of this measure\n",
    "- item_price - current price of an item\n",
    "- date - date in format dd/mm/yyyy\n",
    "- date_block_num - 편의상 붙여진 각 월별 index. 2013년 1월은 0, 2월은 1, 2015년 10월은 33이다.\n",
    "- item_name - name of item\n",
    "- shop_name - name of shop\n",
    "- item_category_name - name of item category"
   ]
  },
  {
   "cell_type": "markdown",
   "id": "permanent-traffic",
   "metadata": {},
   "source": [
    "### Pipeline"
   ]
  },
  {
   "cell_type": "markdown",
   "id": "motivated-arthur",
   "metadata": {},
   "source": [
    "1) 데이터 로드   \n",
    "2) 데이터 전처리 및 가공     \n",
    "* data preprocessing and remove outliers\n",
    "* work with shops/items/categories objects and features : 컬럼명 데이터 처리\n",
    "    * test dataset에서 월 매출액을 예측하기 위한 월별 매출액 dataframe 생성\n",
    "* create matrix as product of item/shop pairs within each month in the train set \n",
    "* get monthly sales for each item/shop pair in the train set and merge it to the matrix : 월 별 데이터 사용을 위한 matrix 생성\n",
    "* clip item_cnt_month by (0,20) : 데이터 정규화 \n",
    "* append test to the matrix, fill 34 month nans with zeros\n",
    "* merge shops/items/cats to the matrix\n",
    "* add target lag features : 전월 매출액 features 뽑기\n",
    "* add mean encoded features : 컬럼별 관계를 위한 matrix \n",
    "* add price trend features\n",
    "\n",
    "* add month : 데이터 정규화\n",
    "* add days : 데이터 정규화 \n",
    "* add months since last sale/months since first sale features\n",
    "\n",
    "* cut first year and drop columns which can not be calculated for the test set\n",
    "     * 첫번째 2013년 데이터는 2012년 데이터가 없기 때문에 삭제하여 시계열 데이터 특성 고려하여 삭제\n",
    "\n",
    "* select best features : 가장 영향을 많이 끼치는 features 채택\n",
    "\n",
    "3) 데이터 시각화   \n",
    "4) 모델 생성  \n",
    "5) 모델 학습   \n",
    "6) 모델 예측    "
   ]
  },
  {
   "cell_type": "markdown",
   "id": "animated-sheet",
   "metadata": {},
   "source": [
    "##### 필요한 모듈 import"
   ]
  },
  {
   "cell_type": "code",
   "execution_count": 2,
   "id": "proved-sierra",
   "metadata": {},
   "outputs": [],
   "source": [
    "import os\n",
    "import pandas as pd\n",
    "import numpy as np\n",
    "import random as rd\n",
    "import datetime\n",
    "import seaborn as sns\n",
    "import tensorflow as tf\n",
    "import matplotlib.pyplot as plt\n",
    "from itertools import product\n",
    "from sklearn.preprocessing import LabelEncoder # 문자를 수치로, 수치를 문자로 변환해주는 encoder\n",
    "import time\n",
    "import sys\n",
    "import gc\n",
    "import pickle\n",
    "import warnings \n",
    "warnings.filterwarnings('ignore')\n",
    "%matplotlib inline\n",
    "\n",
    "from xgboost import XGBRegressor\n",
    "from xgboost import plot_importance\n",
    "\n",
    "# TIME SERIES\n",
    "from statsmodels.tsa.arima_model import ARIMA\n",
    "from statsmodels.tsa.statespace.sarimax import SARIMAX\n",
    "from pandas.plotting import autocorrelation_plot\n",
    "from statsmodels.tsa.stattools import adfuller, acf, pacf,arma_order_select_ic\n",
    "import statsmodels.formula.api as smf\n",
    "import statsmodels.tsa.api as smt\n",
    "import statsmodels.api as sm\n",
    "import scipy.stats as scs"
   ]
  },
  {
   "cell_type": "markdown",
   "id": "immediate-midwest",
   "metadata": {},
   "source": [
    "### 1) 데이터 로드"
   ]
  },
  {
   "cell_type": "code",
   "execution_count": 11,
   "id": "activated-german",
   "metadata": {},
   "outputs": [],
   "source": [
    "train = pd.read_csv('./data/sales_train.csv')\n",
    "test = pd.read_csv('./data/test.csv')\n",
    "sub = pd.read_csv('./data/sample_submission.csv')\n",
    "items = pd.read_csv('./data/items.csv')\n",
    "shops = pd.read_csv('./data/shops.csv')\n",
    "cats= pd.read_csv('./data/item_categories.csv')"
   ]
  },
  {
   "cell_type": "code",
   "execution_count": 3,
   "id": "similar-communist",
   "metadata": {
    "scrolled": true
   },
   "outputs": [
    {
     "data": {
      "text/html": [
       "<div>\n",
       "<style scoped>\n",
       "    .dataframe tbody tr th:only-of-type {\n",
       "        vertical-align: middle;\n",
       "    }\n",
       "\n",
       "    .dataframe tbody tr th {\n",
       "        vertical-align: top;\n",
       "    }\n",
       "\n",
       "    .dataframe thead th {\n",
       "        text-align: right;\n",
       "    }\n",
       "</style>\n",
       "<table border=\"1\" class=\"dataframe\">\n",
       "  <thead>\n",
       "    <tr style=\"text-align: right;\">\n",
       "      <th></th>\n",
       "      <th>date</th>\n",
       "      <th>date_block_num</th>\n",
       "      <th>shop_id</th>\n",
       "      <th>item_id</th>\n",
       "      <th>item_price</th>\n",
       "      <th>item_cnt_day</th>\n",
       "    </tr>\n",
       "  </thead>\n",
       "  <tbody>\n",
       "    <tr>\n",
       "      <th>0</th>\n",
       "      <td>02.01.2013</td>\n",
       "      <td>0</td>\n",
       "      <td>59</td>\n",
       "      <td>22154</td>\n",
       "      <td>999.00</td>\n",
       "      <td>1.0</td>\n",
       "    </tr>\n",
       "    <tr>\n",
       "      <th>1</th>\n",
       "      <td>03.01.2013</td>\n",
       "      <td>0</td>\n",
       "      <td>25</td>\n",
       "      <td>2552</td>\n",
       "      <td>899.00</td>\n",
       "      <td>1.0</td>\n",
       "    </tr>\n",
       "    <tr>\n",
       "      <th>2</th>\n",
       "      <td>05.01.2013</td>\n",
       "      <td>0</td>\n",
       "      <td>25</td>\n",
       "      <td>2552</td>\n",
       "      <td>899.00</td>\n",
       "      <td>-1.0</td>\n",
       "    </tr>\n",
       "    <tr>\n",
       "      <th>3</th>\n",
       "      <td>06.01.2013</td>\n",
       "      <td>0</td>\n",
       "      <td>25</td>\n",
       "      <td>2554</td>\n",
       "      <td>1709.05</td>\n",
       "      <td>1.0</td>\n",
       "    </tr>\n",
       "    <tr>\n",
       "      <th>4</th>\n",
       "      <td>15.01.2013</td>\n",
       "      <td>0</td>\n",
       "      <td>25</td>\n",
       "      <td>2555</td>\n",
       "      <td>1099.00</td>\n",
       "      <td>1.0</td>\n",
       "    </tr>\n",
       "  </tbody>\n",
       "</table>\n",
       "</div>"
      ],
      "text/plain": [
       "         date  date_block_num  shop_id  item_id  item_price  item_cnt_day\n",
       "0  02.01.2013               0       59    22154      999.00           1.0\n",
       "1  03.01.2013               0       25     2552      899.00           1.0\n",
       "2  05.01.2013               0       25     2552      899.00          -1.0\n",
       "3  06.01.2013               0       25     2554     1709.05           1.0\n",
       "4  15.01.2013               0       25     2555     1099.00           1.0"
      ]
     },
     "execution_count": 3,
     "metadata": {},
     "output_type": "execute_result"
    }
   ],
   "source": [
    "train.head()"
   ]
  },
  {
   "cell_type": "code",
   "execution_count": 4,
   "id": "structured-coral",
   "metadata": {},
   "outputs": [],
   "source": [
    "# date 형식 변경\n",
    "# strptime(x, format) 함수는 x를 format 형식으로 parsing하여 datatime 객체로 반환\n",
    "train.date = train.date.apply(lambda x:datetime.datetime.strptime(x, '%d.%m.%Y'))"
   ]
  },
  {
   "cell_type": "markdown",
   "id": "round-bennett",
   "metadata": {},
   "source": [
    "### 2) 데이터 전처리 및 가공"
   ]
  },
  {
   "cell_type": "markdown",
   "id": "controlling-compilation",
   "metadata": {},
   "source": [
    "### 이상치 제거\n",
    "\n",
    "* boxplot 생성했을 때, 평균적으로 분포된 값이 아닌 데이터를 제거하거나 다른 데이터로 대체하는 방법 적용   \n",
    "* 음수 및 이상치"
   ]
  },
  {
   "cell_type": "code",
   "execution_count": 5,
   "id": "aggressive-youth",
   "metadata": {},
   "outputs": [
    {
     "data": {
      "text/plain": [
       "<AxesSubplot:xlabel='item_price'>"
      ]
     },
     "execution_count": 5,
     "metadata": {},
     "output_type": "execute_result"
    },
    {
     "data": {
      "image/png": "[encoded data removed]",
      "text/plain": [
       "<Figure size 720x288 with 1 Axes>"
      ]
     },
     "metadata": {
      "needs_background": "light"
     },
     "output_type": "display_data"
    },
    {
     "data": {
      "image/png": "[encoded data removed]",
      "text/plain": [
       "<Figure size 720x288 with 1 Axes>"
      ]
     },
     "metadata": {
      "needs_background": "light"
     },
     "output_type": "display_data"
    }
   ],
   "source": [
    "# item_cnt_day\n",
    "plt.figure(figsize=(10,4))\n",
    "plt.xlim(-100, 3000)\n",
    "sns.boxplot(x=train.item_cnt_day)\n",
    "\n",
    "# item_price\n",
    "plt.figure(figsize=(10,4))\n",
    "plt.xlim(train.item_price.min(), train.item_price.max()*1.1)\n",
    "sns.boxplot(x=train.item_price)"
   ]
  },
  {
   "cell_type": "markdown",
   "id": "developing-desperate",
   "metadata": {},
   "source": [
    "- item_cnt_day에서 2000 근처에 있는 data는 이상치인 것으로 간주하고 삭제한다.\n",
    "- item_price에서 300000만 근처에 있는 data는 이상치인 것으로 간주하고 삭제한다."
   ]
  },
  {
   "cell_type": "code",
   "execution_count": 6,
   "id": "geographic-salon",
   "metadata": {},
   "outputs": [],
   "source": [
    "train = train[train.item_price<100000]\n",
    "train = train[train.item_cnt_day<1001]"
   ]
  },
  {
   "cell_type": "markdown",
   "id": "oriented-security",
   "metadata": {},
   "source": [
    "- item_price가 -1인 이상치를 발견하여 해당 값을 해당 날짜에 다른 지점에서 판매한 가격으로 수정하였다."
   ]
  },
  {
   "cell_type": "code",
   "execution_count": 7,
   "id": "resistant-actor",
   "metadata": {},
   "outputs": [
    {
     "data": {
      "text/html": [
       "<div>\n",
       "<style scoped>\n",
       "    .dataframe tbody tr th:only-of-type {\n",
       "        vertical-align: middle;\n",
       "    }\n",
       "\n",
       "    .dataframe tbody tr th {\n",
       "        vertical-align: top;\n",
       "    }\n",
       "\n",
       "    .dataframe thead th {\n",
       "        text-align: right;\n",
       "    }\n",
       "</style>\n",
       "<table border=\"1\" class=\"dataframe\">\n",
       "  <thead>\n",
       "    <tr style=\"text-align: right;\">\n",
       "      <th></th>\n",
       "      <th>date</th>\n",
       "      <th>date_block_num</th>\n",
       "      <th>shop_id</th>\n",
       "      <th>item_id</th>\n",
       "      <th>item_price</th>\n",
       "      <th>item_cnt_day</th>\n",
       "    </tr>\n",
       "  </thead>\n",
       "  <tbody>\n",
       "    <tr>\n",
       "      <th>484683</th>\n",
       "      <td>2013-05-15</td>\n",
       "      <td>4</td>\n",
       "      <td>32</td>\n",
       "      <td>2973</td>\n",
       "      <td>-1.0</td>\n",
       "      <td>1.0</td>\n",
       "    </tr>\n",
       "  </tbody>\n",
       "</table>\n",
       "</div>"
      ],
      "text/plain": [
       "             date  date_block_num  shop_id  item_id  item_price  item_cnt_day\n",
       "484683 2013-05-15               4       32     2973        -1.0           1.0"
      ]
     },
     "execution_count": 7,
     "metadata": {},
     "output_type": "execute_result"
    }
   ],
   "source": [
    "train.loc[(train['item_price'] < 0)]"
   ]
  },
  {
   "cell_type": "markdown",
   "id": "superb-small",
   "metadata": {},
   "source": [
    "* 음수인 이상치를 대체하기 위해 동일 shop_id / item_id 리스트를 검색하여 item_price를 파악"
   ]
  },
  {
   "cell_type": "code",
   "execution_count": 8,
   "id": "successful-credits",
   "metadata": {},
   "outputs": [
    {
     "data": {
      "text/html": [
       "<div>\n",
       "<style scoped>\n",
       "    .dataframe tbody tr th:only-of-type {\n",
       "        vertical-align: middle;\n",
       "    }\n",
       "\n",
       "    .dataframe tbody tr th {\n",
       "        vertical-align: top;\n",
       "    }\n",
       "\n",
       "    .dataframe thead th {\n",
       "        text-align: right;\n",
       "    }\n",
       "</style>\n",
       "<table border=\"1\" class=\"dataframe\">\n",
       "  <thead>\n",
       "    <tr style=\"text-align: right;\">\n",
       "      <th></th>\n",
       "      <th>date</th>\n",
       "      <th>date_block_num</th>\n",
       "      <th>shop_id</th>\n",
       "      <th>item_id</th>\n",
       "      <th>item_price</th>\n",
       "      <th>item_cnt_day</th>\n",
       "    </tr>\n",
       "  </thead>\n",
       "  <tbody>\n",
       "    <tr>\n",
       "      <th>67427</th>\n",
       "      <td>2013-01-29</td>\n",
       "      <td>0</td>\n",
       "      <td>32</td>\n",
       "      <td>2973</td>\n",
       "      <td>2499.0</td>\n",
       "      <td>1.0</td>\n",
       "    </tr>\n",
       "    <tr>\n",
       "      <th>67428</th>\n",
       "      <td>2013-01-25</td>\n",
       "      <td>0</td>\n",
       "      <td>32</td>\n",
       "      <td>2973</td>\n",
       "      <td>2499.0</td>\n",
       "      <td>1.0</td>\n",
       "    </tr>\n",
       "    <tr>\n",
       "      <th>67429</th>\n",
       "      <td>2013-01-22</td>\n",
       "      <td>0</td>\n",
       "      <td>32</td>\n",
       "      <td>2973</td>\n",
       "      <td>2499.0</td>\n",
       "      <td>1.0</td>\n",
       "    </tr>\n",
       "    <tr>\n",
       "      <th>67430</th>\n",
       "      <td>2013-01-21</td>\n",
       "      <td>0</td>\n",
       "      <td>32</td>\n",
       "      <td>2973</td>\n",
       "      <td>2499.0</td>\n",
       "      <td>1.0</td>\n",
       "    </tr>\n",
       "    <tr>\n",
       "      <th>67431</th>\n",
       "      <td>2013-01-18</td>\n",
       "      <td>0</td>\n",
       "      <td>32</td>\n",
       "      <td>2973</td>\n",
       "      <td>2499.0</td>\n",
       "      <td>1.0</td>\n",
       "    </tr>\n",
       "    <tr>\n",
       "      <th>67432</th>\n",
       "      <td>2013-01-17</td>\n",
       "      <td>0</td>\n",
       "      <td>32</td>\n",
       "      <td>2973</td>\n",
       "      <td>2499.0</td>\n",
       "      <td>1.0</td>\n",
       "    </tr>\n",
       "    <tr>\n",
       "      <th>67433</th>\n",
       "      <td>2013-01-15</td>\n",
       "      <td>0</td>\n",
       "      <td>32</td>\n",
       "      <td>2973</td>\n",
       "      <td>2499.0</td>\n",
       "      <td>3.0</td>\n",
       "    </tr>\n",
       "    <tr>\n",
       "      <th>187844</th>\n",
       "      <td>2013-02-05</td>\n",
       "      <td>1</td>\n",
       "      <td>32</td>\n",
       "      <td>2973</td>\n",
       "      <td>2499.0</td>\n",
       "      <td>1.0</td>\n",
       "    </tr>\n",
       "    <tr>\n",
       "      <th>187845</th>\n",
       "      <td>2013-02-14</td>\n",
       "      <td>1</td>\n",
       "      <td>32</td>\n",
       "      <td>2973</td>\n",
       "      <td>2499.0</td>\n",
       "      <td>1.0</td>\n",
       "    </tr>\n",
       "    <tr>\n",
       "      <th>484682</th>\n",
       "      <td>2013-05-23</td>\n",
       "      <td>4</td>\n",
       "      <td>32</td>\n",
       "      <td>2973</td>\n",
       "      <td>1249.0</td>\n",
       "      <td>1.0</td>\n",
       "    </tr>\n",
       "    <tr>\n",
       "      <th>484683</th>\n",
       "      <td>2013-05-15</td>\n",
       "      <td>4</td>\n",
       "      <td>32</td>\n",
       "      <td>2973</td>\n",
       "      <td>-1.0</td>\n",
       "      <td>1.0</td>\n",
       "    </tr>\n",
       "    <tr>\n",
       "      <th>484684</th>\n",
       "      <td>2013-05-06</td>\n",
       "      <td>4</td>\n",
       "      <td>32</td>\n",
       "      <td>2973</td>\n",
       "      <td>2499.0</td>\n",
       "      <td>1.0</td>\n",
       "    </tr>\n",
       "    <tr>\n",
       "      <th>555026</th>\n",
       "      <td>2013-06-05</td>\n",
       "      <td>5</td>\n",
       "      <td>32</td>\n",
       "      <td>2973</td>\n",
       "      <td>1249.5</td>\n",
       "      <td>1.0</td>\n",
       "    </tr>\n",
       "  </tbody>\n",
       "</table>\n",
       "</div>"
      ],
      "text/plain": [
       "             date  date_block_num  shop_id  item_id  item_price  item_cnt_day\n",
       "67427  2013-01-29               0       32     2973      2499.0           1.0\n",
       "67428  2013-01-25               0       32     2973      2499.0           1.0\n",
       "67429  2013-01-22               0       32     2973      2499.0           1.0\n",
       "67430  2013-01-21               0       32     2973      2499.0           1.0\n",
       "67431  2013-01-18               0       32     2973      2499.0           1.0\n",
       "67432  2013-01-17               0       32     2973      2499.0           1.0\n",
       "67433  2013-01-15               0       32     2973      2499.0           3.0\n",
       "187844 2013-02-05               1       32     2973      2499.0           1.0\n",
       "187845 2013-02-14               1       32     2973      2499.0           1.0\n",
       "484682 2013-05-23               4       32     2973      1249.0           1.0\n",
       "484683 2013-05-15               4       32     2973        -1.0           1.0\n",
       "484684 2013-05-06               4       32     2973      2499.0           1.0\n",
       "555026 2013-06-05               5       32     2973      1249.5           1.0"
      ]
     },
     "execution_count": 8,
     "metadata": {},
     "output_type": "execute_result"
    }
   ],
   "source": [
    "train.loc[(train['shop_id'] == 32) & (train['item_id'] == 2973)]"
   ]
  },
  {
   "cell_type": "markdown",
   "id": "strategic-nudist",
   "metadata": {},
   "source": [
    "* 더불어, 같은 시기에 (년/월)에 해당하는 item_id를 검색하여 item_price 파악"
   ]
  },
  {
   "cell_type": "code",
   "execution_count": 9,
   "id": "adjacent-yukon",
   "metadata": {
    "scrolled": true
   },
   "outputs": [
    {
     "data": {
      "text/html": [
       "<div>\n",
       "<style scoped>\n",
       "    .dataframe tbody tr th:only-of-type {\n",
       "        vertical-align: middle;\n",
       "    }\n",
       "\n",
       "    .dataframe tbody tr th {\n",
       "        vertical-align: top;\n",
       "    }\n",
       "\n",
       "    .dataframe thead th {\n",
       "        text-align: right;\n",
       "    }\n",
       "</style>\n",
       "<table border=\"1\" class=\"dataframe\">\n",
       "  <thead>\n",
       "    <tr style=\"text-align: right;\">\n",
       "      <th></th>\n",
       "      <th>date</th>\n",
       "      <th>date_block_num</th>\n",
       "      <th>shop_id</th>\n",
       "      <th>item_id</th>\n",
       "      <th>item_price</th>\n",
       "      <th>item_cnt_day</th>\n",
       "    </tr>\n",
       "  </thead>\n",
       "  <tbody>\n",
       "    <tr>\n",
       "      <th>442065</th>\n",
       "      <td>2013-05-04</td>\n",
       "      <td>4</td>\n",
       "      <td>28</td>\n",
       "      <td>2973</td>\n",
       "      <td>2499.0</td>\n",
       "      <td>1.0</td>\n",
       "    </tr>\n",
       "    <tr>\n",
       "      <th>442083</th>\n",
       "      <td>2013-05-24</td>\n",
       "      <td>4</td>\n",
       "      <td>28</td>\n",
       "      <td>2973</td>\n",
       "      <td>1249.5</td>\n",
       "      <td>1.0</td>\n",
       "    </tr>\n",
       "    <tr>\n",
       "      <th>442084</th>\n",
       "      <td>2013-05-16</td>\n",
       "      <td>4</td>\n",
       "      <td>28</td>\n",
       "      <td>2973</td>\n",
       "      <td>1249.0</td>\n",
       "      <td>1.0</td>\n",
       "    </tr>\n",
       "    <tr>\n",
       "      <th>445020</th>\n",
       "      <td>2013-05-05</td>\n",
       "      <td>4</td>\n",
       "      <td>27</td>\n",
       "      <td>2973</td>\n",
       "      <td>2499.0</td>\n",
       "      <td>1.0</td>\n",
       "    </tr>\n",
       "    <tr>\n",
       "      <th>445021</th>\n",
       "      <td>2013-05-20</td>\n",
       "      <td>4</td>\n",
       "      <td>27</td>\n",
       "      <td>2973</td>\n",
       "      <td>1249.0</td>\n",
       "      <td>1.0</td>\n",
       "    </tr>\n",
       "    <tr>\n",
       "      <th>...</th>\n",
       "      <td>...</td>\n",
       "      <td>...</td>\n",
       "      <td>...</td>\n",
       "      <td>...</td>\n",
       "      <td>...</td>\n",
       "      <td>...</td>\n",
       "    </tr>\n",
       "    <tr>\n",
       "      <th>528018</th>\n",
       "      <td>2013-05-19</td>\n",
       "      <td>4</td>\n",
       "      <td>7</td>\n",
       "      <td>2973</td>\n",
       "      <td>1249.0</td>\n",
       "      <td>1.0</td>\n",
       "    </tr>\n",
       "    <tr>\n",
       "      <th>528897</th>\n",
       "      <td>2013-05-18</td>\n",
       "      <td>4</td>\n",
       "      <td>5</td>\n",
       "      <td>2973</td>\n",
       "      <td>1249.5</td>\n",
       "      <td>1.0</td>\n",
       "    </tr>\n",
       "    <tr>\n",
       "      <th>529456</th>\n",
       "      <td>2013-05-23</td>\n",
       "      <td>4</td>\n",
       "      <td>50</td>\n",
       "      <td>2973</td>\n",
       "      <td>1249.0</td>\n",
       "      <td>1.0</td>\n",
       "    </tr>\n",
       "    <tr>\n",
       "      <th>531332</th>\n",
       "      <td>2013-05-08</td>\n",
       "      <td>4</td>\n",
       "      <td>6</td>\n",
       "      <td>2973</td>\n",
       "      <td>2499.0</td>\n",
       "      <td>1.0</td>\n",
       "    </tr>\n",
       "    <tr>\n",
       "      <th>531333</th>\n",
       "      <td>2013-05-03</td>\n",
       "      <td>4</td>\n",
       "      <td>6</td>\n",
       "      <td>2973</td>\n",
       "      <td>2499.0</td>\n",
       "      <td>1.0</td>\n",
       "    </tr>\n",
       "  </tbody>\n",
       "</table>\n",
       "<p>64 rows × 6 columns</p>\n",
       "</div>"
      ],
      "text/plain": [
       "             date  date_block_num  shop_id  item_id  item_price  item_cnt_day\n",
       "442065 2013-05-04               4       28     2973      2499.0           1.0\n",
       "442083 2013-05-24               4       28     2973      1249.5           1.0\n",
       "442084 2013-05-16               4       28     2973      1249.0           1.0\n",
       "445020 2013-05-05               4       27     2973      2499.0           1.0\n",
       "445021 2013-05-20               4       27     2973      1249.0           1.0\n",
       "...           ...             ...      ...      ...         ...           ...\n",
       "528018 2013-05-19               4        7     2973      1249.0           1.0\n",
       "528897 2013-05-18               4        5     2973      1249.5           1.0\n",
       "529456 2013-05-23               4       50     2973      1249.0           1.0\n",
       "531332 2013-05-08               4        6     2973      2499.0           1.0\n",
       "531333 2013-05-03               4        6     2973      2499.0           1.0\n",
       "\n",
       "[64 rows x 6 columns]"
      ]
     },
     "execution_count": 9,
     "metadata": {},
     "output_type": "execute_result"
    }
   ],
   "source": [
    "train.loc[(train['date_block_num'] == 4) & (train['item_id'] == 2973)]"
   ]
  },
  {
   "cell_type": "code",
   "execution_count": 10,
   "id": "still-disaster",
   "metadata": {},
   "outputs": [
    {
     "data": {
      "text/html": [
       "<div>\n",
       "<style scoped>\n",
       "    .dataframe tbody tr th:only-of-type {\n",
       "        vertical-align: middle;\n",
       "    }\n",
       "\n",
       "    .dataframe tbody tr th {\n",
       "        vertical-align: top;\n",
       "    }\n",
       "\n",
       "    .dataframe thead th {\n",
       "        text-align: right;\n",
       "    }\n",
       "</style>\n",
       "<table border=\"1\" class=\"dataframe\">\n",
       "  <thead>\n",
       "    <tr style=\"text-align: right;\">\n",
       "      <th></th>\n",
       "      <th>date</th>\n",
       "      <th>date_block_num</th>\n",
       "      <th>shop_id</th>\n",
       "      <th>item_id</th>\n",
       "      <th>item_price</th>\n",
       "      <th>item_cnt_day</th>\n",
       "    </tr>\n",
       "  </thead>\n",
       "  <tbody>\n",
       "    <tr>\n",
       "      <th>453034</th>\n",
       "      <td>2013-05-15</td>\n",
       "      <td>4</td>\n",
       "      <td>25</td>\n",
       "      <td>2973</td>\n",
       "      <td>1249.5</td>\n",
       "      <td>1.0</td>\n",
       "    </tr>\n",
       "    <tr>\n",
       "      <th>469026</th>\n",
       "      <td>2013-05-15</td>\n",
       "      <td>4</td>\n",
       "      <td>46</td>\n",
       "      <td>2973</td>\n",
       "      <td>1249.5</td>\n",
       "      <td>1.0</td>\n",
       "    </tr>\n",
       "    <tr>\n",
       "      <th>469951</th>\n",
       "      <td>2013-05-15</td>\n",
       "      <td>4</td>\n",
       "      <td>45</td>\n",
       "      <td>2973</td>\n",
       "      <td>1249.0</td>\n",
       "      <td>1.0</td>\n",
       "    </tr>\n",
       "    <tr>\n",
       "      <th>484683</th>\n",
       "      <td>2013-05-15</td>\n",
       "      <td>4</td>\n",
       "      <td>32</td>\n",
       "      <td>2973</td>\n",
       "      <td>-1.0</td>\n",
       "      <td>1.0</td>\n",
       "    </tr>\n",
       "  </tbody>\n",
       "</table>\n",
       "</div>"
      ],
      "text/plain": [
       "             date  date_block_num  shop_id  item_id  item_price  item_cnt_day\n",
       "453034 2013-05-15               4       25     2973      1249.5           1.0\n",
       "469026 2013-05-15               4       46     2973      1249.5           1.0\n",
       "469951 2013-05-15               4       45     2973      1249.0           1.0\n",
       "484683 2013-05-15               4       32     2973        -1.0           1.0"
      ]
     },
     "execution_count": 10,
     "metadata": {},
     "output_type": "execute_result"
    }
   ],
   "source": [
    "train.loc[(train['date'] == \"2013-05-15\") & (train['item_id'] == 2973)]"
   ]
  },
  {
   "cell_type": "markdown",
   "id": "liable-dominican",
   "metadata": {},
   "source": [
    "* **결론적으로, 실제 가격이 2499.0 인 상품을 할인했던 시기(50% 할인가에 판매한 것으로 가설 지정)에 1249.0 가격으로 판매했고, 동일 년/월/일 에 동일 상점/동일 아이템을 판매한 실적을 찾아 해당 가격으로 데이터 이상치를 대체한다.**"
   ]
  },
  {
   "cell_type": "code",
   "execution_count": 11,
   "id": "alive-therapy",
   "metadata": {},
   "outputs": [],
   "source": [
    "train.loc[train.item_price < 0, 'item_price'] = 1249.0"
   ]
  },
  {
   "cell_type": "markdown",
   "id": "polished-aruba",
   "metadata": {},
   "source": [
    "### 중복되는 shop_id 제거"
   ]
  },
  {
   "cell_type": "markdown",
   "id": "adequate-password",
   "metadata": {},
   "source": [
    "* 동일한 도시명을 가지고 있는 shop_id 대체 "
   ]
  },
  {
   "cell_type": "code",
   "execution_count": 12,
   "id": "yellow-malawi",
   "metadata": {},
   "outputs": [],
   "source": [
    "# Якутск Орджоникидзе, 56\n",
    "train.loc[train.shop_id == 0, 'shop_id'] = 57\n",
    "test.loc[test.shop_id == 0, 'shop_id'] = 57\n",
    "# Якутск ТЦ \"Центральный\"\n",
    "train.loc[train.shop_id == 1, 'shop_id'] = 58\n",
    "test.loc[test.shop_id == 1, 'shop_id'] = 58\n",
    "# Жуковский ул. Чкалова 39м²\n",
    "train.loc[train.shop_id == 10, 'shop_id'] = 11\n",
    "test.loc[test.shop_id == 10, 'shop_id'] = 11"
   ]
  },
  {
   "cell_type": "markdown",
   "id": "inappropriate-hartford",
   "metadata": {},
   "source": [
    "### shops/categories/items 전처리\n",
    "\n",
    "* 불필요한 띄어쓰기가 되어있는 데이터 처리   \n",
    "* 불필요한 부호가 들어간 데이터 처리"
   ]
  },
  {
   "cell_type": "code",
   "execution_count": 13,
   "id": "hearing-aruba",
   "metadata": {},
   "outputs": [],
   "source": [
    "shops.loc[shops.shop_name == 'Сергиев Посад ТЦ \"7Я\"', 'shop_name'] = 'СергиевПосад ТЦ \"7Я\"'\n",
    "shops['city'] = shops['shop_name'].str.split(' ').map(lambda x: x[0])\n",
    "shops.loc[shops.city == '!Якутск', 'city'] = 'Якутск' # ! 제거\n",
    "shops['city_code'] = LabelEncoder().fit_transform(shops['city'])\n",
    "shops = shops[['shop_id','city_code']]"
   ]
  },
  {
   "cell_type": "code",
   "execution_count": 14,
   "id": "spoken-reset",
   "metadata": {},
   "outputs": [],
   "source": [
    "cats['split'] = cats['item_category_name'].str.split('-') # 띄어쓰기 수정\n",
    "cats['type'] = cats['split'].map(lambda x: x[0].strip())\n",
    "cats['type_code'] = LabelEncoder().fit_transform(cats['type']) # 아이템 카테고리 이름을 숫자로 encoder (정수형)\n",
    "# if subtype is nan then type\n",
    "cats['subtype'] = cats['split'].map(lambda x: x[1].strip() if len(x) > 1 else x[0].strip())\n",
    "cats['subtype_code'] = LabelEncoder().fit_transform(cats['subtype']) \n",
    "cats = cats[['item_category_id','type_code', 'subtype_code']]\n",
    "\n",
    "items.drop(['item_name'], axis=1, inplace=True)"
   ]
  },
  {
   "cell_type": "markdown",
   "id": "infectious-weapon",
   "metadata": {},
   "source": [
    "### 월별 매출 전처리\n",
    "\n",
    "* Test data를 활용하여 2015년 11월에 해당하는 **월별 매출액**을 예측해야 하기 때문에, 일별로 되어있는 Train data를 월별로 계산   \n",
    "* data_block_num 컬럼을 활용하여 동일한 인덱스 (== 동일 년/월) 를 반복하면서 리스트 matrix 생성\n",
    "* 각 진행 과정별 연산 소요 시간을 체크하기 위해 time 라이브러리 활용"
   ]
  },
  {
   "cell_type": "code",
   "execution_count": 15,
   "id": "organic-alberta",
   "metadata": {},
   "outputs": [
    {
     "data": {
      "text/plain": [
       "13.548097133636475"
      ]
     },
     "execution_count": 15,
     "metadata": {},
     "output_type": "execute_result"
    }
   ],
   "source": [
    "ts = time.time()\n",
    "matrix = []\n",
    "cols = ['date_block_num','shop_id','item_id']\n",
    "for i in range(34):\n",
    "    sales = train[train.date_block_num == i]\n",
    "    matrix.append(np.array(list(product([i], sales.shop_id.unique(), sales.item_id.unique())), dtype='int16'))\n",
    "    \n",
    "# 생성한 matrix를 DataFrame화한 다음, 각 컬럼별 데이터 타입을 일정하게 변경\n",
    "matrix = pd.DataFrame(np.vstack(matrix), columns=cols)\n",
    "matrix['date_block_num'] = matrix['date_block_num'].astype(np.int8)\n",
    "matrix['shop_id'] = matrix['shop_id'].astype(np.int8)\n",
    "matrix['item_id'] = matrix['item_id'].astype(np.int16)\n",
    "matrix.sort_values(cols,inplace=True)\n",
    "time.time() - ts"
   ]
  },
  {
   "cell_type": "code",
   "execution_count": 16,
   "id": "alpha-ensemble",
   "metadata": {},
   "outputs": [
    {
     "data": {
      "text/html": [
       "<div>\n",
       "<style scoped>\n",
       "    .dataframe tbody tr th:only-of-type {\n",
       "        vertical-align: middle;\n",
       "    }\n",
       "\n",
       "    .dataframe tbody tr th {\n",
       "        vertical-align: top;\n",
       "    }\n",
       "\n",
       "    .dataframe thead th {\n",
       "        text-align: right;\n",
       "    }\n",
       "</style>\n",
       "<table border=\"1\" class=\"dataframe\">\n",
       "  <thead>\n",
       "    <tr style=\"text-align: right;\">\n",
       "      <th></th>\n",
       "      <th>date_block_num</th>\n",
       "      <th>shop_id</th>\n",
       "      <th>item_id</th>\n",
       "    </tr>\n",
       "  </thead>\n",
       "  <tbody>\n",
       "    <tr>\n",
       "      <th>114910</th>\n",
       "      <td>0</td>\n",
       "      <td>2</td>\n",
       "      <td>19</td>\n",
       "    </tr>\n",
       "    <tr>\n",
       "      <th>117150</th>\n",
       "      <td>0</td>\n",
       "      <td>2</td>\n",
       "      <td>27</td>\n",
       "    </tr>\n",
       "    <tr>\n",
       "      <th>120623</th>\n",
       "      <td>0</td>\n",
       "      <td>2</td>\n",
       "      <td>28</td>\n",
       "    </tr>\n",
       "    <tr>\n",
       "      <th>118316</th>\n",
       "      <td>0</td>\n",
       "      <td>2</td>\n",
       "      <td>29</td>\n",
       "    </tr>\n",
       "    <tr>\n",
       "      <th>114602</th>\n",
       "      <td>0</td>\n",
       "      <td>2</td>\n",
       "      <td>32</td>\n",
       "    </tr>\n",
       "    <tr>\n",
       "      <th>...</th>\n",
       "      <td>...</td>\n",
       "      <td>...</td>\n",
       "      <td>...</td>\n",
       "    </tr>\n",
       "    <tr>\n",
       "      <th>10768788</th>\n",
       "      <td>33</td>\n",
       "      <td>59</td>\n",
       "      <td>22162</td>\n",
       "    </tr>\n",
       "    <tr>\n",
       "      <th>10768978</th>\n",
       "      <td>33</td>\n",
       "      <td>59</td>\n",
       "      <td>22163</td>\n",
       "    </tr>\n",
       "    <tr>\n",
       "      <th>10769644</th>\n",
       "      <td>33</td>\n",
       "      <td>59</td>\n",
       "      <td>22164</td>\n",
       "    </tr>\n",
       "    <tr>\n",
       "      <th>10771170</th>\n",
       "      <td>33</td>\n",
       "      <td>59</td>\n",
       "      <td>22166</td>\n",
       "    </tr>\n",
       "    <tr>\n",
       "      <th>10770465</th>\n",
       "      <td>33</td>\n",
       "      <td>59</td>\n",
       "      <td>22167</td>\n",
       "    </tr>\n",
       "  </tbody>\n",
       "</table>\n",
       "<p>10913804 rows × 3 columns</p>\n",
       "</div>"
      ],
      "text/plain": [
       "          date_block_num  shop_id  item_id\n",
       "114910                 0        2       19\n",
       "117150                 0        2       27\n",
       "120623                 0        2       28\n",
       "118316                 0        2       29\n",
       "114602                 0        2       32\n",
       "...                  ...      ...      ...\n",
       "10768788              33       59    22162\n",
       "10768978              33       59    22163\n",
       "10769644              33       59    22164\n",
       "10771170              33       59    22166\n",
       "10770465              33       59    22167\n",
       "\n",
       "[10913804 rows x 3 columns]"
      ]
     },
     "execution_count": 16,
     "metadata": {},
     "output_type": "execute_result"
    }
   ],
   "source": [
    "matrix"
   ]
  },
  {
   "cell_type": "markdown",
   "id": "mathematical-editing",
   "metadata": {},
   "source": [
    "* 가격 X 일별 판매 개수 == \"revenue\" == 판매 금액 (매출액을 유추하기 위해 컬럼 생성)   \n",
    "* 각 일별 판매량을 합해서 연산을 하고, 월별 판매량 컬럼 추가하여 데이터 처리    \n",
    "\n",
    "* 데이터 분석을 할 때, **아이템에 해당하는 금액이 0 이하인 항목을 보고, 고객이 구매 후 환불한 항목이라고 판단하였고, 환불 금액 관련하여 어떻게 전처리를 하면 좋을지 토론을 진행**    \n",
    "* 환불 금액이 언제 구매한 제품의 환불 금액인지 정확하지 않아 데이터를 제거하지 못했고, 구매금액과 환불금액이 매칭되지 않은 경우도 있어 전처리가 까다로웠다.   \n",
    "\n",
    "* 결론적으로, 환불 금액에 대한 전처리를 따로 거치지 않고, 캐글 Data/Overview/Data evaluation에 언급된 조건에 따라 clip(0,20)으로 데이터 정규화 처리로 진행하였다."
   ]
  },
  {
   "cell_type": "code",
   "execution_count": 17,
   "id": "romantic-token",
   "metadata": {},
   "outputs": [],
   "source": [
    "train['revenue'] = train['item_price'] *  train['item_cnt_day']"
   ]
  },
  {
   "cell_type": "code",
   "execution_count": 18,
   "id": "secondary-cinema",
   "metadata": {},
   "outputs": [],
   "source": [
    "group = train.groupby(['date_block_num','shop_id','item_id']).agg({'item_cnt_day': ['sum']})\n",
    "group.columns = ['item_cnt_month']\n",
    "group.reset_index(inplace=True)\n",
    "\n",
    "matrix = pd.merge(matrix, group, on=cols, how='left')\n",
    "matrix['item_cnt_month'] = (matrix['item_cnt_month']\n",
    "                                .fillna(0) # 결측치 0으로 예외처리 과정 추가\n",
    "                                .clip(0,20) # NB clip target here :: 0~20 사이로 데이터 정규화\n",
    "                                .astype(np.float16)) # 데이터 타입 균일하게 지정"
   ]
  },
  {
   "cell_type": "code",
   "execution_count": 19,
   "id": "covered-lodging",
   "metadata": {},
   "outputs": [
    {
     "data": {
      "text/html": [
       "<div>\n",
       "<style scoped>\n",
       "    .dataframe tbody tr th:only-of-type {\n",
       "        vertical-align: middle;\n",
       "    }\n",
       "\n",
       "    .dataframe tbody tr th {\n",
       "        vertical-align: top;\n",
       "    }\n",
       "\n",
       "    .dataframe thead th {\n",
       "        text-align: right;\n",
       "    }\n",
       "</style>\n",
       "<table border=\"1\" class=\"dataframe\">\n",
       "  <thead>\n",
       "    <tr style=\"text-align: right;\">\n",
       "      <th></th>\n",
       "      <th>date_block_num</th>\n",
       "      <th>shop_id</th>\n",
       "      <th>item_id</th>\n",
       "      <th>item_cnt_month</th>\n",
       "    </tr>\n",
       "  </thead>\n",
       "  <tbody>\n",
       "    <tr>\n",
       "      <th>0</th>\n",
       "      <td>0</td>\n",
       "      <td>2</td>\n",
       "      <td>27</td>\n",
       "      <td>1.0</td>\n",
       "    </tr>\n",
       "    <tr>\n",
       "      <th>1</th>\n",
       "      <td>0</td>\n",
       "      <td>2</td>\n",
       "      <td>33</td>\n",
       "      <td>1.0</td>\n",
       "    </tr>\n",
       "    <tr>\n",
       "      <th>2</th>\n",
       "      <td>0</td>\n",
       "      <td>2</td>\n",
       "      <td>317</td>\n",
       "      <td>1.0</td>\n",
       "    </tr>\n",
       "    <tr>\n",
       "      <th>3</th>\n",
       "      <td>0</td>\n",
       "      <td>2</td>\n",
       "      <td>438</td>\n",
       "      <td>1.0</td>\n",
       "    </tr>\n",
       "    <tr>\n",
       "      <th>4</th>\n",
       "      <td>0</td>\n",
       "      <td>2</td>\n",
       "      <td>471</td>\n",
       "      <td>2.0</td>\n",
       "    </tr>\n",
       "    <tr>\n",
       "      <th>...</th>\n",
       "      <td>...</td>\n",
       "      <td>...</td>\n",
       "      <td>...</td>\n",
       "      <td>...</td>\n",
       "    </tr>\n",
       "    <tr>\n",
       "      <th>1609118</th>\n",
       "      <td>33</td>\n",
       "      <td>59</td>\n",
       "      <td>22087</td>\n",
       "      <td>6.0</td>\n",
       "    </tr>\n",
       "    <tr>\n",
       "      <th>1609119</th>\n",
       "      <td>33</td>\n",
       "      <td>59</td>\n",
       "      <td>22088</td>\n",
       "      <td>2.0</td>\n",
       "    </tr>\n",
       "    <tr>\n",
       "      <th>1609120</th>\n",
       "      <td>33</td>\n",
       "      <td>59</td>\n",
       "      <td>22091</td>\n",
       "      <td>1.0</td>\n",
       "    </tr>\n",
       "    <tr>\n",
       "      <th>1609121</th>\n",
       "      <td>33</td>\n",
       "      <td>59</td>\n",
       "      <td>22100</td>\n",
       "      <td>1.0</td>\n",
       "    </tr>\n",
       "    <tr>\n",
       "      <th>1609122</th>\n",
       "      <td>33</td>\n",
       "      <td>59</td>\n",
       "      <td>22102</td>\n",
       "      <td>1.0</td>\n",
       "    </tr>\n",
       "  </tbody>\n",
       "</table>\n",
       "<p>1609123 rows × 4 columns</p>\n",
       "</div>"
      ],
      "text/plain": [
       "         date_block_num  shop_id  item_id  item_cnt_month\n",
       "0                     0        2       27             1.0\n",
       "1                     0        2       33             1.0\n",
       "2                     0        2      317             1.0\n",
       "3                     0        2      438             1.0\n",
       "4                     0        2      471             2.0\n",
       "...                 ...      ...      ...             ...\n",
       "1609118              33       59    22087             6.0\n",
       "1609119              33       59    22088             2.0\n",
       "1609120              33       59    22091             1.0\n",
       "1609121              33       59    22100             1.0\n",
       "1609122              33       59    22102             1.0\n",
       "\n",
       "[1609123 rows x 4 columns]"
      ]
     },
     "execution_count": 19,
     "metadata": {},
     "output_type": "execute_result"
    }
   ],
   "source": [
    "group"
   ]
  },
  {
   "cell_type": "markdown",
   "id": "difficult-convertible",
   "metadata": {},
   "source": [
    "### Test Dataset 전처리"
   ]
  },
  {
   "cell_type": "markdown",
   "id": "blank-cheat",
   "metadata": {},
   "source": [
    "* Train Data에서 2015년 10월의 date_block_num이 33까지 였기 때문에, 예측해야 하는 2015년 11월 인덱스를 34로 지정   \n",
    "* Test Data의 컬럼 형태 "
   ]
  },
  {
   "cell_type": "code",
   "execution_count": 20,
   "id": "flush-contrary",
   "metadata": {},
   "outputs": [],
   "source": [
    "test['date_block_num'] = 34\n",
    "test['date_block_num'] = test['date_block_num'].astype(np.int8)\n",
    "test['shop_id'] = test['shop_id'].astype(np.int8)\n",
    "test['item_id'] = test['item_id'].astype(np.int16)"
   ]
  },
  {
   "cell_type": "markdown",
   "id": "collect-longitude",
   "metadata": {},
   "source": [
    "* 가공한 Train Data 인 matrix와 가공한 Test Data인 test를 concat하여 Train Data에 예측해야 하는 월의 컬럼과 로우 추가"
   ]
  },
  {
   "cell_type": "code",
   "execution_count": 21,
   "id": "blind-ecuador",
   "metadata": {},
   "outputs": [
    {
     "data": {
      "text/plain": [
       "0.11499762535095215"
      ]
     },
     "execution_count": 21,
     "metadata": {},
     "output_type": "execute_result"
    }
   ],
   "source": [
    "ts = time.time()\n",
    "matrix = pd.concat([matrix, test], ignore_index=True, sort=False, keys=cols)\n",
    "matrix.fillna(0, inplace=True) # 34 month 모든 데이터 0으로 대체\n",
    "time.time() - ts"
   ]
  },
  {
   "cell_type": "markdown",
   "id": "protected-startup",
   "metadata": {},
   "source": [
    "### shops/categories/items feature"
   ]
  },
  {
   "cell_type": "code",
   "execution_count": 22,
   "id": "simplified-calgary",
   "metadata": {},
   "outputs": [
    {
     "name": "stdout",
     "output_type": "stream",
     "text": [
      "<class 'pandas.core.frame.DataFrame'>\n",
      "Int64Index: 11128004 entries, 0 to 11128003\n",
      "Data columns (total 9 columns):\n",
      " #   Column            Dtype  \n",
      "---  ------            -----  \n",
      " 0   date_block_num    int8   \n",
      " 1   shop_id           int8   \n",
      " 2   item_id           int16  \n",
      " 3   item_cnt_month    float16\n",
      " 4   ID                float64\n",
      " 5   city_code         int32  \n",
      " 6   item_category_id  int64  \n",
      " 7   type_code         int32  \n",
      " 8   subtype_code      int32  \n",
      "dtypes: float16(1), float64(1), int16(1), int32(3), int64(1), int8(2)\n",
      "memory usage: 445.7 MB\n"
     ]
    }
   ],
   "source": [
    "matrix = pd.merge(matrix, shops, on=['shop_id'], how='left')\n",
    "matrix = pd.merge(matrix, items, on=['item_id'], how='left')\n",
    "matrix = pd.merge(matrix, cats, on=['item_category_id'], how='left')\n",
    "matrix.info()"
   ]
  },
  {
   "cell_type": "code",
   "execution_count": 23,
   "id": "pointed-kruger",
   "metadata": {},
   "outputs": [],
   "source": [
    "matrix['city_code'] = matrix['city_code'].astype(np.int8)\n",
    "matrix['item_category_id'] = matrix['item_category_id'].astype(np.int8)\n",
    "matrix['type_code'] = matrix['type_code'].astype(np.int8)\n",
    "matrix['subtype_code'] = matrix['subtype_code'].astype(np.int8)"
   ]
  },
  {
   "cell_type": "code",
   "execution_count": 24,
   "id": "mature-snowboard",
   "metadata": {},
   "outputs": [
    {
     "data": {
      "text/html": [
       "<div>\n",
       "<style scoped>\n",
       "    .dataframe tbody tr th:only-of-type {\n",
       "        vertical-align: middle;\n",
       "    }\n",
       "\n",
       "    .dataframe tbody tr th {\n",
       "        vertical-align: top;\n",
       "    }\n",
       "\n",
       "    .dataframe thead th {\n",
       "        text-align: right;\n",
       "    }\n",
       "</style>\n",
       "<table border=\"1\" class=\"dataframe\">\n",
       "  <thead>\n",
       "    <tr style=\"text-align: right;\">\n",
       "      <th></th>\n",
       "      <th>date_block_num</th>\n",
       "      <th>shop_id</th>\n",
       "      <th>item_id</th>\n",
       "      <th>item_cnt_month</th>\n",
       "      <th>ID</th>\n",
       "      <th>city_code</th>\n",
       "      <th>item_category_id</th>\n",
       "      <th>type_code</th>\n",
       "      <th>subtype_code</th>\n",
       "    </tr>\n",
       "  </thead>\n",
       "  <tbody>\n",
       "    <tr>\n",
       "      <th>0</th>\n",
       "      <td>0</td>\n",
       "      <td>2</td>\n",
       "      <td>19</td>\n",
       "      <td>0.0</td>\n",
       "      <td>0.0</td>\n",
       "      <td>0</td>\n",
       "      <td>40</td>\n",
       "      <td>11</td>\n",
       "      <td>4</td>\n",
       "    </tr>\n",
       "    <tr>\n",
       "      <th>1</th>\n",
       "      <td>0</td>\n",
       "      <td>2</td>\n",
       "      <td>27</td>\n",
       "      <td>1.0</td>\n",
       "      <td>0.0</td>\n",
       "      <td>0</td>\n",
       "      <td>19</td>\n",
       "      <td>5</td>\n",
       "      <td>10</td>\n",
       "    </tr>\n",
       "    <tr>\n",
       "      <th>2</th>\n",
       "      <td>0</td>\n",
       "      <td>2</td>\n",
       "      <td>28</td>\n",
       "      <td>0.0</td>\n",
       "      <td>0.0</td>\n",
       "      <td>0</td>\n",
       "      <td>30</td>\n",
       "      <td>8</td>\n",
       "      <td>55</td>\n",
       "    </tr>\n",
       "    <tr>\n",
       "      <th>3</th>\n",
       "      <td>0</td>\n",
       "      <td>2</td>\n",
       "      <td>29</td>\n",
       "      <td>0.0</td>\n",
       "      <td>0.0</td>\n",
       "      <td>0</td>\n",
       "      <td>23</td>\n",
       "      <td>5</td>\n",
       "      <td>16</td>\n",
       "    </tr>\n",
       "    <tr>\n",
       "      <th>4</th>\n",
       "      <td>0</td>\n",
       "      <td>2</td>\n",
       "      <td>32</td>\n",
       "      <td>0.0</td>\n",
       "      <td>0.0</td>\n",
       "      <td>0</td>\n",
       "      <td>40</td>\n",
       "      <td>11</td>\n",
       "      <td>4</td>\n",
       "    </tr>\n",
       "    <tr>\n",
       "      <th>...</th>\n",
       "      <td>...</td>\n",
       "      <td>...</td>\n",
       "      <td>...</td>\n",
       "      <td>...</td>\n",
       "      <td>...</td>\n",
       "      <td>...</td>\n",
       "      <td>...</td>\n",
       "      <td>...</td>\n",
       "      <td>...</td>\n",
       "    </tr>\n",
       "    <tr>\n",
       "      <th>11127999</th>\n",
       "      <td>34</td>\n",
       "      <td>45</td>\n",
       "      <td>18454</td>\n",
       "      <td>0.0</td>\n",
       "      <td>214195.0</td>\n",
       "      <td>20</td>\n",
       "      <td>55</td>\n",
       "      <td>13</td>\n",
       "      <td>2</td>\n",
       "    </tr>\n",
       "    <tr>\n",
       "      <th>11128000</th>\n",
       "      <td>34</td>\n",
       "      <td>45</td>\n",
       "      <td>16188</td>\n",
       "      <td>0.0</td>\n",
       "      <td>214196.0</td>\n",
       "      <td>20</td>\n",
       "      <td>64</td>\n",
       "      <td>14</td>\n",
       "      <td>42</td>\n",
       "    </tr>\n",
       "    <tr>\n",
       "      <th>11128001</th>\n",
       "      <td>34</td>\n",
       "      <td>45</td>\n",
       "      <td>15757</td>\n",
       "      <td>0.0</td>\n",
       "      <td>214197.0</td>\n",
       "      <td>20</td>\n",
       "      <td>55</td>\n",
       "      <td>13</td>\n",
       "      <td>2</td>\n",
       "    </tr>\n",
       "    <tr>\n",
       "      <th>11128002</th>\n",
       "      <td>34</td>\n",
       "      <td>45</td>\n",
       "      <td>19648</td>\n",
       "      <td>0.0</td>\n",
       "      <td>214198.0</td>\n",
       "      <td>20</td>\n",
       "      <td>40</td>\n",
       "      <td>11</td>\n",
       "      <td>4</td>\n",
       "    </tr>\n",
       "    <tr>\n",
       "      <th>11128003</th>\n",
       "      <td>34</td>\n",
       "      <td>45</td>\n",
       "      <td>969</td>\n",
       "      <td>0.0</td>\n",
       "      <td>214199.0</td>\n",
       "      <td>20</td>\n",
       "      <td>37</td>\n",
       "      <td>11</td>\n",
       "      <td>1</td>\n",
       "    </tr>\n",
       "  </tbody>\n",
       "</table>\n",
       "<p>11128004 rows × 9 columns</p>\n",
       "</div>"
      ],
      "text/plain": [
       "          date_block_num  shop_id  item_id  item_cnt_month        ID  \\\n",
       "0                      0        2       19             0.0       0.0   \n",
       "1                      0        2       27             1.0       0.0   \n",
       "2                      0        2       28             0.0       0.0   \n",
       "3                      0        2       29             0.0       0.0   \n",
       "4                      0        2       32             0.0       0.0   \n",
       "...                  ...      ...      ...             ...       ...   \n",
       "11127999              34       45    18454             0.0  214195.0   \n",
       "11128000              34       45    16188             0.0  214196.0   \n",
       "11128001              34       45    15757             0.0  214197.0   \n",
       "11128002              34       45    19648             0.0  214198.0   \n",
       "11128003              34       45      969             0.0  214199.0   \n",
       "\n",
       "          city_code  item_category_id  type_code  subtype_code  \n",
       "0                 0                40         11             4  \n",
       "1                 0                19          5            10  \n",
       "2                 0                30          8            55  \n",
       "3                 0                23          5            16  \n",
       "4                 0                40         11             4  \n",
       "...             ...               ...        ...           ...  \n",
       "11127999         20                55         13             2  \n",
       "11128000         20                64         14            42  \n",
       "11128001         20                55         13             2  \n",
       "11128002         20                40         11             4  \n",
       "11128003         20                37         11             1  \n",
       "\n",
       "[11128004 rows x 9 columns]"
      ]
     },
     "execution_count": 24,
     "metadata": {},
     "output_type": "execute_result"
    }
   ],
   "source": [
    "matrix"
   ]
  },
  {
   "cell_type": "markdown",
   "id": "bacterial-value",
   "metadata": {},
   "source": [
    "### 이전달 데이터 활용"
   ]
  },
  {
   "cell_type": "code",
   "execution_count": 25,
   "id": "valuable-opera",
   "metadata": {},
   "outputs": [],
   "source": [
    "# 현재 달을 기준으로 이전 n개월 만큼의 데이터를 뽑아서 해당 컬럼을 생성하고, 데이터를 구성하는 함수 정의\n",
    "def lag_feature(df, lags, col):\n",
    "    tmp = df[['date_block_num','shop_id','item_id',col]]\n",
    "    for i in lags:\n",
    "        shifted = tmp.copy()\n",
    "        shifted.columns = ['date_block_num','shop_id','item_id', col+'_lag_'+str(i)]\n",
    "        shifted['date_block_num'] += i\n",
    "        df = pd.merge(df, shifted, on=['date_block_num','shop_id','item_id'], how='left')\n",
    "    return df"
   ]
  },
  {
   "cell_type": "markdown",
   "id": "authentic-direction",
   "metadata": {},
   "source": [
    "* 정의한 lag_feature 을 사용하여 1, 2, 3, 6, 12개월 전의 데이터 생성"
   ]
  },
  {
   "cell_type": "code",
   "execution_count": 26,
   "id": "featured-islam",
   "metadata": {},
   "outputs": [
    {
     "data": {
      "text/plain": [
       "30.747471809387207"
      ]
     },
     "execution_count": 26,
     "metadata": {},
     "output_type": "execute_result"
    }
   ],
   "source": [
    "ts = time.time()\n",
    "matrix = lag_feature(matrix, [1,2,3,6,12], 'item_cnt_month')\n",
    "time.time() - ts"
   ]
  },
  {
   "cell_type": "markdown",
   "id": "exempt-aruba",
   "metadata": {},
   "source": [
    "### [Data Feature 별 데이터 전처리]\n",
    "\n",
    "* 각 컬럼별 관계를 알아보기 위해 feature 별로 계산하여 기존 Train Data인 **\"matrix\"**에 새로운 컬럼을 생성하여 dataframe에 축적 생성\n",
    "\n",
    "### 월별 전체 판매 수량 평균 :: date_avg_item_cnt"
   ]
  },
  {
   "cell_type": "markdown",
   "id": "scientific-upset",
   "metadata": {},
   "source": [
    "* 각 월별 아이템 판매 수량을 평균을 생성하여 컬럼에 해당하는 데이터 삽입   "
   ]
  },
  {
   "cell_type": "code",
   "execution_count": 27,
   "id": "proper-border",
   "metadata": {},
   "outputs": [
    {
     "data": {
      "text/plain": [
       "9.77260446548462"
      ]
     },
     "execution_count": 27,
     "metadata": {},
     "output_type": "execute_result"
    }
   ],
   "source": [
    "ts = time.time()\n",
    "group = matrix.groupby(['date_block_num']).agg({'item_cnt_month': ['mean']})\n",
    "group.columns = [ 'date_avg_item_cnt' ]\n",
    "group.reset_index(inplace=True)\n",
    "\n",
    "matrix = pd.merge(matrix, group, on=['date_block_num'], how='left')\n",
    "matrix['date_avg_item_cnt'] = matrix['date_avg_item_cnt'].astype(np.float16)\n",
    "matrix = lag_feature(matrix, [1], 'date_avg_item_cnt')\n",
    "matrix.drop(['date_avg_item_cnt'], axis=1, inplace=True)\n",
    "time.time() - ts"
   ]
  },
  {
   "cell_type": "markdown",
   "id": "upper-intervention",
   "metadata": {},
   "source": [
    "### 월별 아이템 판매 수량 평균 :: date_item_avg_item_cnt"
   ]
  },
  {
   "cell_type": "code",
   "execution_count": 28,
   "id": "existing-neighborhood",
   "metadata": {},
   "outputs": [
    {
     "data": {
      "text/plain": [
       "37.52313232421875"
      ]
     },
     "execution_count": 28,
     "metadata": {},
     "output_type": "execute_result"
    }
   ],
   "source": [
    "ts = time.time()\n",
    "group = matrix.groupby(['date_block_num', 'item_id']).agg({'item_cnt_month': ['mean']})\n",
    "group.columns = [ 'date_item_avg_item_cnt' ]\n",
    "group.reset_index(inplace=True)\n",
    "\n",
    "matrix = pd.merge(matrix, group, on=['date_block_num','item_id'], how='left')\n",
    "matrix['date_item_avg_item_cnt'] = matrix['date_item_avg_item_cnt'].astype(np.float16)\n",
    "matrix = lag_feature(matrix, [1,2,3,6,12], 'date_item_avg_item_cnt')\n",
    "matrix.drop(['date_item_avg_item_cnt'], axis=1, inplace=True)\n",
    "time.time() - ts"
   ]
  },
  {
   "cell_type": "markdown",
   "id": "emerging-third",
   "metadata": {},
   "source": [
    "### 월별 상점 별 아이템 판매 평균 :: date_shop_avg_item_cnt"
   ]
  },
  {
   "cell_type": "code",
   "execution_count": 29,
   "id": "advanced-simpson",
   "metadata": {},
   "outputs": [
    {
     "data": {
      "text/plain": [
       "38.858869552612305"
      ]
     },
     "execution_count": 29,
     "metadata": {},
     "output_type": "execute_result"
    }
   ],
   "source": [
    "ts = time.time()\n",
    "group = matrix.groupby(['date_block_num', 'shop_id']).agg({'item_cnt_month': ['mean']})\n",
    "group.columns = [ 'date_shop_avg_item_cnt' ]\n",
    "group.reset_index(inplace=True)\n",
    "\n",
    "matrix = pd.merge(matrix, group, on=['date_block_num','shop_id'], how='left')\n",
    "matrix['date_shop_avg_item_cnt'] = matrix['date_shop_avg_item_cnt'].astype(np.float16)\n",
    "matrix = lag_feature(matrix, [1,2,3,6,12], 'date_shop_avg_item_cnt')\n",
    "matrix.drop(['date_shop_avg_item_cnt'], axis=1, inplace=True)\n",
    "time.time() - ts"
   ]
  },
  {
   "cell_type": "markdown",
   "id": "speaking-mason",
   "metadata": {},
   "source": [
    "### 월별 아이템 카테고리 판매 평균 :: date_cat_avg_item_cnt"
   ]
  },
  {
   "cell_type": "code",
   "execution_count": 30,
   "id": "ready-palmer",
   "metadata": {
    "scrolled": true
   },
   "outputs": [
    {
     "data": {
      "text/plain": [
       "13.578159809112549"
      ]
     },
     "execution_count": 30,
     "metadata": {},
     "output_type": "execute_result"
    }
   ],
   "source": [
    "ts = time.time()\n",
    "group = matrix.groupby(['date_block_num', 'item_category_id']).agg({'item_cnt_month': ['mean']})\n",
    "group.columns = [ 'date_cat_avg_item_cnt' ]\n",
    "group.reset_index(inplace=True)\n",
    "\n",
    "matrix = pd.merge(matrix, group, on=['date_block_num','item_category_id'], how='left')\n",
    "matrix['date_cat_avg_item_cnt'] = matrix['date_cat_avg_item_cnt'].astype(np.float16)\n",
    "matrix = lag_feature(matrix, [1], 'date_cat_avg_item_cnt')\n",
    "matrix.drop(['date_cat_avg_item_cnt'], axis=1, inplace=True)\n",
    "time.time() - ts"
   ]
  },
  {
   "cell_type": "markdown",
   "id": "consistent-expansion",
   "metadata": {},
   "source": [
    "### 월별 상점 별 판매 아이템 카테고리 평균 :: date_shop_cat_avg_item_cnt"
   ]
  },
  {
   "cell_type": "code",
   "execution_count": 31,
   "id": "organized-december",
   "metadata": {},
   "outputs": [
    {
     "data": {
      "text/plain": [
       "13.811009883880615"
      ]
     },
     "execution_count": 31,
     "metadata": {},
     "output_type": "execute_result"
    }
   ],
   "source": [
    "ts = time.time()\n",
    "group = matrix.groupby(['date_block_num', 'shop_id', 'item_category_id']).agg({'item_cnt_month': ['mean']})\n",
    "group.columns = ['date_shop_cat_avg_item_cnt']\n",
    "group.reset_index(inplace=True)\n",
    "\n",
    "matrix = pd.merge(matrix, group, on=['date_block_num', 'shop_id', 'item_category_id'], how='left')\n",
    "matrix['date_shop_cat_avg_item_cnt'] = matrix['date_shop_cat_avg_item_cnt'].astype(np.float16)\n",
    "matrix = lag_feature(matrix, [1], 'date_shop_cat_avg_item_cnt')\n",
    "matrix.drop(['date_shop_cat_avg_item_cnt'], axis=1, inplace=True)\n",
    "time.time() - ts"
   ]
  },
  {
   "cell_type": "markdown",
   "id": "atmospheric-essex",
   "metadata": {},
   "source": [
    "### 월별 상점 코드 별 판매 아이템 평균 :: date_shop_type_avg_item_cnt"
   ]
  },
  {
   "cell_type": "code",
   "execution_count": 32,
   "id": "effective-robin",
   "metadata": {},
   "outputs": [
    {
     "data": {
      "text/plain": [
       "14.072600364685059"
      ]
     },
     "execution_count": 32,
     "metadata": {},
     "output_type": "execute_result"
    }
   ],
   "source": [
    "ts = time.time()\n",
    "group = matrix.groupby(['date_block_num', 'shop_id', 'type_code']).agg({'item_cnt_month': ['mean']})\n",
    "group.columns = ['date_shop_type_avg_item_cnt']\n",
    "group.reset_index(inplace=True)\n",
    "\n",
    "matrix = pd.merge(matrix, group, on=['date_block_num', 'shop_id', 'type_code'], how='left')\n",
    "matrix['date_shop_type_avg_item_cnt'] = matrix['date_shop_type_avg_item_cnt'].astype(np.float16)\n",
    "matrix = lag_feature(matrix, [1], 'date_shop_type_avg_item_cnt')\n",
    "matrix.drop(['date_shop_type_avg_item_cnt'], axis=1, inplace=True)\n",
    "time.time() - ts"
   ]
  },
  {
   "cell_type": "markdown",
   "id": "loaded-electron",
   "metadata": {},
   "source": [
    "### 월별 상점 서브코드별 판매 아이템 평균 :: date_shop_subtype_avg_item_cnt"
   ]
  },
  {
   "cell_type": "code",
   "execution_count": 33,
   "id": "accessory-layout",
   "metadata": {},
   "outputs": [
    {
     "data": {
      "text/plain": [
       "14.444271326065063"
      ]
     },
     "execution_count": 33,
     "metadata": {},
     "output_type": "execute_result"
    }
   ],
   "source": [
    "ts = time.time()\n",
    "group = matrix.groupby(['date_block_num', 'shop_id', 'subtype_code']).agg({'item_cnt_month': ['mean']})\n",
    "group.columns = ['date_shop_subtype_avg_item_cnt']\n",
    "group.reset_index(inplace=True)\n",
    "\n",
    "matrix = pd.merge(matrix, group, on=['date_block_num', 'shop_id', 'subtype_code'], how='left')\n",
    "matrix['date_shop_subtype_avg_item_cnt'] = matrix['date_shop_subtype_avg_item_cnt'].astype(np.float16)\n",
    "matrix = lag_feature(matrix, [1], 'date_shop_subtype_avg_item_cnt')\n",
    "matrix.drop(['date_shop_subtype_avg_item_cnt'], axis=1, inplace=True)\n",
    "time.time() - ts"
   ]
  },
  {
   "cell_type": "markdown",
   "id": "editorial-richmond",
   "metadata": {},
   "source": [
    "### 월별 지역별 판매 아이템 평균 :: date_city_avg_item_cnt"
   ]
  },
  {
   "cell_type": "code",
   "execution_count": 34,
   "id": "incomplete-enforcement",
   "metadata": {},
   "outputs": [
    {
     "data": {
      "text/plain": [
       "14.335026264190674"
      ]
     },
     "execution_count": 34,
     "metadata": {},
     "output_type": "execute_result"
    }
   ],
   "source": [
    "ts = time.time()\n",
    "group = matrix.groupby(['date_block_num', 'city_code']).agg({'item_cnt_month': ['mean']})\n",
    "group.columns = [ 'date_city_avg_item_cnt' ]\n",
    "group.reset_index(inplace=True)\n",
    "\n",
    "matrix = pd.merge(matrix, group, on=['date_block_num', 'city_code'], how='left')\n",
    "matrix['date_city_avg_item_cnt'] = matrix['date_city_avg_item_cnt'].astype(np.float16)\n",
    "matrix = lag_feature(matrix, [1], 'date_city_avg_item_cnt')\n",
    "matrix.drop(['date_city_avg_item_cnt'], axis=1, inplace=True)\n",
    "time.time() - ts"
   ]
  },
  {
   "cell_type": "markdown",
   "id": "nasty-reynolds",
   "metadata": {},
   "source": [
    "### 월별 encoder된 코드로 연산된 값 :: date_type_avg_item_cnt"
   ]
  },
  {
   "cell_type": "code",
   "execution_count": 35,
   "id": "substantial-thompson",
   "metadata": {},
   "outputs": [
    {
     "data": {
      "text/plain": [
       "14.484779596328735"
      ]
     },
     "execution_count": 35,
     "metadata": {},
     "output_type": "execute_result"
    }
   ],
   "source": [
    "ts = time.time()\n",
    "group = matrix.groupby(['date_block_num', 'type_code']).agg({'item_cnt_month': ['mean']})\n",
    "group.columns = [ 'date_type_avg_item_cnt' ]\n",
    "group.reset_index(inplace=True)\n",
    "\n",
    "matrix = pd.merge(matrix, group, on=['date_block_num', 'type_code'], how='left')\n",
    "matrix['date_type_avg_item_cnt'] = matrix['date_type_avg_item_cnt'].astype(np.float16)\n",
    "matrix = lag_feature(matrix, [1], 'date_type_avg_item_cnt')\n",
    "matrix.drop(['date_type_avg_item_cnt'], axis=1, inplace=True)\n",
    "time.time() - ts\n"
   ]
  },
  {
   "cell_type": "markdown",
   "id": "square-gibson",
   "metadata": {},
   "source": [
    "### 월별 encoder된 서브코드로 연산된 값 :: date_subtype_avg_item_cnt"
   ]
  },
  {
   "cell_type": "code",
   "execution_count": 36,
   "id": "tutorial-bandwidth",
   "metadata": {},
   "outputs": [
    {
     "data": {
      "text/plain": [
       "14.640965938568115"
      ]
     },
     "execution_count": 36,
     "metadata": {},
     "output_type": "execute_result"
    }
   ],
   "source": [
    "ts = time.time()\n",
    "group = matrix.groupby(['date_block_num', 'subtype_code']).agg({'item_cnt_month': ['mean']})\n",
    "group.columns = [ 'date_subtype_avg_item_cnt' ]\n",
    "group.reset_index(inplace=True)\n",
    "\n",
    "matrix = pd.merge(matrix, group, on=['date_block_num', 'subtype_code'], how='left')\n",
    "matrix['date_subtype_avg_item_cnt'] = matrix['date_subtype_avg_item_cnt'].astype(np.float16)\n",
    "matrix = lag_feature(matrix, [1], 'date_subtype_avg_item_cnt')\n",
    "matrix.drop(['date_subtype_avg_item_cnt'], axis=1, inplace=True)\n",
    "time.time() - ts"
   ]
  },
  {
   "cell_type": "markdown",
   "id": "retired-terrorist",
   "metadata": {},
   "source": [
    "### [Getting Data Flow]"
   ]
  },
  {
   "cell_type": "markdown",
   "id": "suspected-russia",
   "metadata": {},
   "source": [
    "### 지난 6개월간 가격 추세"
   ]
  },
  {
   "cell_type": "code",
   "execution_count": 37,
   "id": "junior-table",
   "metadata": {},
   "outputs": [
    {
     "data": {
      "text/plain": [
       "155.47086715698242"
      ]
     },
     "execution_count": 37,
     "metadata": {},
     "output_type": "execute_result"
    }
   ],
   "source": [
    "ts = time.time()\n",
    "group = train.groupby(['item_id']).agg({'item_price': ['mean']})\n",
    "group.columns = ['item_avg_item_price']\n",
    "group.reset_index(inplace=True)\n",
    "\n",
    "matrix = pd.merge(matrix, group, on=['item_id'], how='left')\n",
    "matrix['item_avg_item_price'] = matrix['item_avg_item_price'].astype(np.float16)\n",
    "\n",
    "group = train.groupby(['date_block_num','item_id']).agg({'item_price': ['mean']})\n",
    "group.columns = ['date_item_avg_item_price']\n",
    "group.reset_index(inplace=True)\n",
    "\n",
    "matrix = pd.merge(matrix, group, on=['date_block_num','item_id'], how='left')\n",
    "matrix['date_item_avg_item_price'] = matrix['date_item_avg_item_price'].astype(np.float16)\n",
    "\n",
    "lags = [1,2,3,4,5,6]\n",
    "matrix = lag_feature(matrix, lags, 'date_item_avg_item_price')\n",
    "\n",
    "for i in lags:\n",
    "    matrix['delta_price_lag_'+str(i)] = \\\n",
    "        (matrix['date_item_avg_item_price_lag_'+str(i)] - matrix['item_avg_item_price']) / matrix['item_avg_item_price']\n",
    "\n",
    "def select_trend(row):\n",
    "    for i in lags:\n",
    "        if row['delta_price_lag_'+str(i)]:\n",
    "            return row['delta_price_lag_'+str(i)]\n",
    "    return 0\n",
    "    \n",
    "matrix['delta_price_lag'] = matrix.apply(select_trend, axis=1)\n",
    "matrix['delta_price_lag'] = matrix['delta_price_lag'].astype(np.float16)\n",
    "matrix['delta_price_lag'].fillna(0, inplace=True)\n",
    "\n",
    "# https://stackoverflow.com/questions/31828240/first-non-null-value-per-row-from-a-list-of-pandas-columns/31828559\n",
    "# matrix['price_trend'] = matrix[['delta_price_lag_1','delta_price_lag_2','delta_price_lag_3']].bfill(axis=1).iloc[:, 0]\n",
    "# Invalid dtype for backfill_2d [float16]\n",
    "\n",
    "fetures_to_drop = ['item_avg_item_price', 'date_item_avg_item_price']\n",
    "for i in lags:\n",
    "    fetures_to_drop += ['date_item_avg_item_price_lag_'+str(i)]\n",
    "    fetures_to_drop += ['delta_price_lag_'+str(i)]\n",
    "\n",
    "matrix.drop(fetures_to_drop, axis=1, inplace=True)\n",
    "\n",
    "time.time() - ts"
   ]
  },
  {
   "cell_type": "markdown",
   "id": "olive-telephone",
   "metadata": {},
   "source": [
    "### 이전 달 상점 매출 추세"
   ]
  },
  {
   "cell_type": "code",
   "execution_count": 38,
   "id": "juvenile-wound",
   "metadata": {},
   "outputs": [
    {
     "data": {
      "text/plain": [
       "19.05208969116211"
      ]
     },
     "execution_count": 38,
     "metadata": {},
     "output_type": "execute_result"
    }
   ],
   "source": [
    "ts = time.time()\n",
    "group = train.groupby(['date_block_num','shop_id']).agg({'revenue': ['sum']})\n",
    "group.columns = ['date_shop_revenue']\n",
    "group.reset_index(inplace=True)\n",
    "\n",
    "matrix = pd.merge(matrix, group, on=['date_block_num','shop_id'], how='left')\n",
    "matrix['date_shop_revenue'] = matrix['date_shop_revenue'].astype(np.float32)\n",
    "\n",
    "group = group.groupby(['shop_id']).agg({'date_shop_revenue': ['mean']})\n",
    "group.columns = ['shop_avg_revenue']\n",
    "group.reset_index(inplace=True)\n",
    "\n",
    "matrix = pd.merge(matrix, group, on=['shop_id'], how='left')\n",
    "matrix['shop_avg_revenue'] = matrix['shop_avg_revenue'].astype(np.float32)\n",
    "\n",
    "matrix['delta_revenue'] = (matrix['date_shop_revenue'] - matrix['shop_avg_revenue']) / matrix['shop_avg_revenue']\n",
    "matrix['delta_revenue'] = matrix['delta_revenue'].astype(np.float16)\n",
    "\n",
    "matrix = lag_feature(matrix, [1], 'delta_revenue')\n",
    "\n",
    "matrix.drop(['date_shop_revenue','shop_avg_revenue','delta_revenue'], axis=1, inplace=True)\n",
    "time.time() - ts"
   ]
  },
  {
   "cell_type": "code",
   "execution_count": 39,
   "id": "excessive-savings",
   "metadata": {},
   "outputs": [
    {
     "data": {
      "text/html": [
       "<div>\n",
       "<style scoped>\n",
       "    .dataframe tbody tr th:only-of-type {\n",
       "        vertical-align: middle;\n",
       "    }\n",
       "\n",
       "    .dataframe tbody tr th {\n",
       "        vertical-align: top;\n",
       "    }\n",
       "\n",
       "    .dataframe thead th {\n",
       "        text-align: right;\n",
       "    }\n",
       "</style>\n",
       "<table border=\"1\" class=\"dataframe\">\n",
       "  <thead>\n",
       "    <tr style=\"text-align: right;\">\n",
       "      <th></th>\n",
       "      <th>date_block_num</th>\n",
       "      <th>shop_id</th>\n",
       "      <th>item_id</th>\n",
       "      <th>item_cnt_month</th>\n",
       "      <th>ID</th>\n",
       "      <th>city_code</th>\n",
       "      <th>item_category_id</th>\n",
       "      <th>type_code</th>\n",
       "      <th>subtype_code</th>\n",
       "      <th>item_cnt_month_lag_1</th>\n",
       "      <th>...</th>\n",
       "      <th>date_shop_avg_item_cnt_lag_12</th>\n",
       "      <th>date_cat_avg_item_cnt_lag_1</th>\n",
       "      <th>date_shop_cat_avg_item_cnt_lag_1</th>\n",
       "      <th>date_shop_type_avg_item_cnt_lag_1</th>\n",
       "      <th>date_shop_subtype_avg_item_cnt_lag_1</th>\n",
       "      <th>date_city_avg_item_cnt_lag_1</th>\n",
       "      <th>date_type_avg_item_cnt_lag_1</th>\n",
       "      <th>date_subtype_avg_item_cnt_lag_1</th>\n",
       "      <th>delta_price_lag</th>\n",
       "      <th>delta_revenue_lag_1</th>\n",
       "    </tr>\n",
       "  </thead>\n",
       "  <tbody>\n",
       "    <tr>\n",
       "      <th>0</th>\n",
       "      <td>0</td>\n",
       "      <td>2</td>\n",
       "      <td>19</td>\n",
       "      <td>0.0</td>\n",
       "      <td>0.0</td>\n",
       "      <td>0</td>\n",
       "      <td>40</td>\n",
       "      <td>11</td>\n",
       "      <td>4</td>\n",
       "      <td>NaN</td>\n",
       "      <td>...</td>\n",
       "      <td>NaN</td>\n",
       "      <td>NaN</td>\n",
       "      <td>NaN</td>\n",
       "      <td>NaN</td>\n",
       "      <td>NaN</td>\n",
       "      <td>NaN</td>\n",
       "      <td>NaN</td>\n",
       "      <td>NaN</td>\n",
       "      <td>0.000000</td>\n",
       "      <td>NaN</td>\n",
       "    </tr>\n",
       "    <tr>\n",
       "      <th>1</th>\n",
       "      <td>0</td>\n",
       "      <td>2</td>\n",
       "      <td>27</td>\n",
       "      <td>1.0</td>\n",
       "      <td>0.0</td>\n",
       "      <td>0</td>\n",
       "      <td>19</td>\n",
       "      <td>5</td>\n",
       "      <td>10</td>\n",
       "      <td>NaN</td>\n",
       "      <td>...</td>\n",
       "      <td>NaN</td>\n",
       "      <td>NaN</td>\n",
       "      <td>NaN</td>\n",
       "      <td>NaN</td>\n",
       "      <td>NaN</td>\n",
       "      <td>NaN</td>\n",
       "      <td>NaN</td>\n",
       "      <td>NaN</td>\n",
       "      <td>0.000000</td>\n",
       "      <td>NaN</td>\n",
       "    </tr>\n",
       "    <tr>\n",
       "      <th>2</th>\n",
       "      <td>0</td>\n",
       "      <td>2</td>\n",
       "      <td>28</td>\n",
       "      <td>0.0</td>\n",
       "      <td>0.0</td>\n",
       "      <td>0</td>\n",
       "      <td>30</td>\n",
       "      <td>8</td>\n",
       "      <td>55</td>\n",
       "      <td>NaN</td>\n",
       "      <td>...</td>\n",
       "      <td>NaN</td>\n",
       "      <td>NaN</td>\n",
       "      <td>NaN</td>\n",
       "      <td>NaN</td>\n",
       "      <td>NaN</td>\n",
       "      <td>NaN</td>\n",
       "      <td>NaN</td>\n",
       "      <td>NaN</td>\n",
       "      <td>0.000000</td>\n",
       "      <td>NaN</td>\n",
       "    </tr>\n",
       "    <tr>\n",
       "      <th>3</th>\n",
       "      <td>0</td>\n",
       "      <td>2</td>\n",
       "      <td>29</td>\n",
       "      <td>0.0</td>\n",
       "      <td>0.0</td>\n",
       "      <td>0</td>\n",
       "      <td>23</td>\n",
       "      <td>5</td>\n",
       "      <td>16</td>\n",
       "      <td>NaN</td>\n",
       "      <td>...</td>\n",
       "      <td>NaN</td>\n",
       "      <td>NaN</td>\n",
       "      <td>NaN</td>\n",
       "      <td>NaN</td>\n",
       "      <td>NaN</td>\n",
       "      <td>NaN</td>\n",
       "      <td>NaN</td>\n",
       "      <td>NaN</td>\n",
       "      <td>0.000000</td>\n",
       "      <td>NaN</td>\n",
       "    </tr>\n",
       "    <tr>\n",
       "      <th>4</th>\n",
       "      <td>0</td>\n",
       "      <td>2</td>\n",
       "      <td>32</td>\n",
       "      <td>0.0</td>\n",
       "      <td>0.0</td>\n",
       "      <td>0</td>\n",
       "      <td>40</td>\n",
       "      <td>11</td>\n",
       "      <td>4</td>\n",
       "      <td>NaN</td>\n",
       "      <td>...</td>\n",
       "      <td>NaN</td>\n",
       "      <td>NaN</td>\n",
       "      <td>NaN</td>\n",
       "      <td>NaN</td>\n",
       "      <td>NaN</td>\n",
       "      <td>NaN</td>\n",
       "      <td>NaN</td>\n",
       "      <td>NaN</td>\n",
       "      <td>0.000000</td>\n",
       "      <td>NaN</td>\n",
       "    </tr>\n",
       "    <tr>\n",
       "      <th>...</th>\n",
       "      <td>...</td>\n",
       "      <td>...</td>\n",
       "      <td>...</td>\n",
       "      <td>...</td>\n",
       "      <td>...</td>\n",
       "      <td>...</td>\n",
       "      <td>...</td>\n",
       "      <td>...</td>\n",
       "      <td>...</td>\n",
       "      <td>...</td>\n",
       "      <td>...</td>\n",
       "      <td>...</td>\n",
       "      <td>...</td>\n",
       "      <td>...</td>\n",
       "      <td>...</td>\n",
       "      <td>...</td>\n",
       "      <td>...</td>\n",
       "      <td>...</td>\n",
       "      <td>...</td>\n",
       "      <td>...</td>\n",
       "      <td>...</td>\n",
       "    </tr>\n",
       "    <tr>\n",
       "      <th>11127999</th>\n",
       "      <td>34</td>\n",
       "      <td>45</td>\n",
       "      <td>18454</td>\n",
       "      <td>0.0</td>\n",
       "      <td>214195.0</td>\n",
       "      <td>20</td>\n",
       "      <td>55</td>\n",
       "      <td>13</td>\n",
       "      <td>2</td>\n",
       "      <td>1.0</td>\n",
       "      <td>...</td>\n",
       "      <td>NaN</td>\n",
       "      <td>0.196899</td>\n",
       "      <td>0.126831</td>\n",
       "      <td>0.089294</td>\n",
       "      <td>0.126831</td>\n",
       "      <td>0.135376</td>\n",
       "      <td>0.146973</td>\n",
       "      <td>0.196899</td>\n",
       "      <td>-0.475098</td>\n",
       "      <td>-0.290039</td>\n",
       "    </tr>\n",
       "    <tr>\n",
       "      <th>11128000</th>\n",
       "      <td>34</td>\n",
       "      <td>45</td>\n",
       "      <td>16188</td>\n",
       "      <td>0.0</td>\n",
       "      <td>214196.0</td>\n",
       "      <td>20</td>\n",
       "      <td>64</td>\n",
       "      <td>14</td>\n",
       "      <td>42</td>\n",
       "      <td>0.0</td>\n",
       "      <td>...</td>\n",
       "      <td>NaN</td>\n",
       "      <td>0.155884</td>\n",
       "      <td>0.094482</td>\n",
       "      <td>0.106201</td>\n",
       "      <td>0.094482</td>\n",
       "      <td>0.135376</td>\n",
       "      <td>0.237305</td>\n",
       "      <td>0.155884</td>\n",
       "      <td>0.081116</td>\n",
       "      <td>-0.290039</td>\n",
       "    </tr>\n",
       "    <tr>\n",
       "      <th>11128001</th>\n",
       "      <td>34</td>\n",
       "      <td>45</td>\n",
       "      <td>15757</td>\n",
       "      <td>0.0</td>\n",
       "      <td>214197.0</td>\n",
       "      <td>20</td>\n",
       "      <td>55</td>\n",
       "      <td>13</td>\n",
       "      <td>2</td>\n",
       "      <td>0.0</td>\n",
       "      <td>...</td>\n",
       "      <td>0.181274</td>\n",
       "      <td>0.196899</td>\n",
       "      <td>0.126831</td>\n",
       "      <td>0.089294</td>\n",
       "      <td>0.126831</td>\n",
       "      <td>0.135376</td>\n",
       "      <td>0.146973</td>\n",
       "      <td>0.196899</td>\n",
       "      <td>0.155884</td>\n",
       "      <td>-0.290039</td>\n",
       "    </tr>\n",
       "    <tr>\n",
       "      <th>11128002</th>\n",
       "      <td>34</td>\n",
       "      <td>45</td>\n",
       "      <td>19648</td>\n",
       "      <td>0.0</td>\n",
       "      <td>214198.0</td>\n",
       "      <td>20</td>\n",
       "      <td>40</td>\n",
       "      <td>11</td>\n",
       "      <td>4</td>\n",
       "      <td>0.0</td>\n",
       "      <td>...</td>\n",
       "      <td>NaN</td>\n",
       "      <td>0.220825</td>\n",
       "      <td>0.083740</td>\n",
       "      <td>0.097046</td>\n",
       "      <td>0.083740</td>\n",
       "      <td>0.135376</td>\n",
       "      <td>0.224243</td>\n",
       "      <td>0.220825</td>\n",
       "      <td>-0.091736</td>\n",
       "      <td>-0.290039</td>\n",
       "    </tr>\n",
       "    <tr>\n",
       "      <th>11128003</th>\n",
       "      <td>34</td>\n",
       "      <td>45</td>\n",
       "      <td>969</td>\n",
       "      <td>0.0</td>\n",
       "      <td>214199.0</td>\n",
       "      <td>20</td>\n",
       "      <td>37</td>\n",
       "      <td>11</td>\n",
       "      <td>1</td>\n",
       "      <td>0.0</td>\n",
       "      <td>...</td>\n",
       "      <td>0.181274</td>\n",
       "      <td>0.256836</td>\n",
       "      <td>0.128174</td>\n",
       "      <td>0.097046</td>\n",
       "      <td>0.126343</td>\n",
       "      <td>0.135376</td>\n",
       "      <td>0.224243</td>\n",
       "      <td>0.240967</td>\n",
       "      <td>-0.605957</td>\n",
       "      <td>-0.290039</td>\n",
       "    </tr>\n",
       "  </tbody>\n",
       "</table>\n",
       "<p>11128004 rows × 34 columns</p>\n",
       "</div>"
      ],
      "text/plain": [
       "          date_block_num  shop_id  item_id  item_cnt_month        ID  \\\n",
       "0                      0        2       19             0.0       0.0   \n",
       "1                      0        2       27             1.0       0.0   \n",
       "2                      0        2       28             0.0       0.0   \n",
       "3                      0        2       29             0.0       0.0   \n",
       "4                      0        2       32             0.0       0.0   \n",
       "...                  ...      ...      ...             ...       ...   \n",
       "11127999              34       45    18454             0.0  214195.0   \n",
       "11128000              34       45    16188             0.0  214196.0   \n",
       "11128001              34       45    15757             0.0  214197.0   \n",
       "11128002              34       45    19648             0.0  214198.0   \n",
       "11128003              34       45      969             0.0  214199.0   \n",
       "\n",
       "          city_code  item_category_id  type_code  subtype_code  \\\n",
       "0                 0                40         11             4   \n",
       "1                 0                19          5            10   \n",
       "2                 0                30          8            55   \n",
       "3                 0                23          5            16   \n",
       "4                 0                40         11             4   \n",
       "...             ...               ...        ...           ...   \n",
       "11127999         20                55         13             2   \n",
       "11128000         20                64         14            42   \n",
       "11128001         20                55         13             2   \n",
       "11128002         20                40         11             4   \n",
       "11128003         20                37         11             1   \n",
       "\n",
       "          item_cnt_month_lag_1  ...  date_shop_avg_item_cnt_lag_12  \\\n",
       "0                          NaN  ...                            NaN   \n",
       "1                          NaN  ...                            NaN   \n",
       "2                          NaN  ...                            NaN   \n",
       "3                          NaN  ...                            NaN   \n",
       "4                          NaN  ...                            NaN   \n",
       "...                        ...  ...                            ...   \n",
       "11127999                   1.0  ...                            NaN   \n",
       "11128000                   0.0  ...                            NaN   \n",
       "11128001                   0.0  ...                       0.181274   \n",
       "11128002                   0.0  ...                            NaN   \n",
       "11128003                   0.0  ...                       0.181274   \n",
       "\n",
       "          date_cat_avg_item_cnt_lag_1  date_shop_cat_avg_item_cnt_lag_1  \\\n",
       "0                                 NaN                               NaN   \n",
       "1                                 NaN                               NaN   \n",
       "2                                 NaN                               NaN   \n",
       "3                                 NaN                               NaN   \n",
       "4                                 NaN                               NaN   \n",
       "...                               ...                               ...   \n",
       "11127999                     0.196899                          0.126831   \n",
       "11128000                     0.155884                          0.094482   \n",
       "11128001                     0.196899                          0.126831   \n",
       "11128002                     0.220825                          0.083740   \n",
       "11128003                     0.256836                          0.128174   \n",
       "\n",
       "          date_shop_type_avg_item_cnt_lag_1  \\\n",
       "0                                       NaN   \n",
       "1                                       NaN   \n",
       "2                                       NaN   \n",
       "3                                       NaN   \n",
       "4                                       NaN   \n",
       "...                                     ...   \n",
       "11127999                           0.089294   \n",
       "11128000                           0.106201   \n",
       "11128001                           0.089294   \n",
       "11128002                           0.097046   \n",
       "11128003                           0.097046   \n",
       "\n",
       "          date_shop_subtype_avg_item_cnt_lag_1  date_city_avg_item_cnt_lag_1  \\\n",
       "0                                          NaN                           NaN   \n",
       "1                                          NaN                           NaN   \n",
       "2                                          NaN                           NaN   \n",
       "3                                          NaN                           NaN   \n",
       "4                                          NaN                           NaN   \n",
       "...                                        ...                           ...   \n",
       "11127999                              0.126831                      0.135376   \n",
       "11128000                              0.094482                      0.135376   \n",
       "11128001                              0.126831                      0.135376   \n",
       "11128002                              0.083740                      0.135376   \n",
       "11128003                              0.126343                      0.135376   \n",
       "\n",
       "          date_type_avg_item_cnt_lag_1  date_subtype_avg_item_cnt_lag_1  \\\n",
       "0                                  NaN                              NaN   \n",
       "1                                  NaN                              NaN   \n",
       "2                                  NaN                              NaN   \n",
       "3                                  NaN                              NaN   \n",
       "4                                  NaN                              NaN   \n",
       "...                                ...                              ...   \n",
       "11127999                      0.146973                         0.196899   \n",
       "11128000                      0.237305                         0.155884   \n",
       "11128001                      0.146973                         0.196899   \n",
       "11128002                      0.224243                         0.220825   \n",
       "11128003                      0.224243                         0.240967   \n",
       "\n",
       "          delta_price_lag  delta_revenue_lag_1  \n",
       "0                0.000000                  NaN  \n",
       "1                0.000000                  NaN  \n",
       "2                0.000000                  NaN  \n",
       "3                0.000000                  NaN  \n",
       "4                0.000000                  NaN  \n",
       "...                   ...                  ...  \n",
       "11127999        -0.475098            -0.290039  \n",
       "11128000         0.081116            -0.290039  \n",
       "11128001         0.155884            -0.290039  \n",
       "11128002        -0.091736            -0.290039  \n",
       "11128003        -0.605957            -0.290039  \n",
       "\n",
       "[11128004 rows x 34 columns]"
      ]
     },
     "execution_count": 39,
     "metadata": {},
     "output_type": "execute_result"
    }
   ],
   "source": [
    "matrix"
   ]
  },
  {
   "cell_type": "markdown",
   "id": "ordinary-donna",
   "metadata": {},
   "source": [
    "### 고려해야 할 특징을 가지는 컬럼 데이터 처리"
   ]
  },
  {
   "cell_type": "markdown",
   "id": "confused-implement",
   "metadata": {},
   "source": [
    "* 각 월별 일수가 다르기 때문에 데이터 형평성을 위해 일정하게 맞춰주는 전처리 진행    \n",
    "* 해당 년/월에 처음 출시가 되어 판매가 시작된 상품이 있기 때문에 처음 판매가 시작된 것과 중간에 판매가 중지된 상품을 구분하는 컬럼 데이터 생성"
   ]
  },
  {
   "cell_type": "code",
   "execution_count": 40,
   "id": "renewable-amino",
   "metadata": {},
   "outputs": [],
   "source": [
    "matrix['month'] = matrix['date_block_num'] % 12"
   ]
  },
  {
   "cell_type": "code",
   "execution_count": 41,
   "id": "purple-sydney",
   "metadata": {},
   "outputs": [],
   "source": [
    "# 각 월별 일수\n",
    "days = pd.Series([31,28,31,30,31,30,31,31,30,31,30,31])\n",
    "matrix['days'] = matrix['month'].map(days).astype(np.int8)"
   ]
  },
  {
   "cell_type": "code",
   "execution_count": 42,
   "id": "cultural-conservative",
   "metadata": {},
   "outputs": [
    {
     "data": {
      "text/plain": [
       "771.5147931575775"
      ]
     },
     "execution_count": 42,
     "metadata": {},
     "output_type": "execute_result"
    }
   ],
   "source": [
    "ts = time.time()\n",
    "cache = {}\n",
    "matrix['item_shop_last_sale'] = -1\n",
    "matrix['item_shop_last_sale'] = matrix['item_shop_last_sale'].astype(np.int8)\n",
    "for idx, row in matrix.iterrows():    \n",
    "    key = str(row.item_id)+' '+str(row.shop_id)\n",
    "    if key not in cache:\n",
    "        if row.item_cnt_month!=0:\n",
    "            cache[key] = row.date_block_num\n",
    "    else:\n",
    "        last_date_block_num = cache[key]\n",
    "        matrix.at[idx, 'item_shop_last_sale'] = row.date_block_num - last_date_block_num\n",
    "        cache[key] = row.date_block_num         \n",
    "time.time() - ts"
   ]
  },
  {
   "cell_type": "code",
   "execution_count": 43,
   "id": "quantitative-mistake",
   "metadata": {},
   "outputs": [
    {
     "data": {
      "text/plain": [
       "541.7511274814606"
      ]
     },
     "execution_count": 43,
     "metadata": {},
     "output_type": "execute_result"
    }
   ],
   "source": [
    "ts = time.time()\n",
    "cache = {}\n",
    "matrix['item_last_sale'] = -1\n",
    "matrix['item_last_sale'] = matrix['item_last_sale'].astype(np.int8)\n",
    "for idx, row in matrix.iterrows():    \n",
    "    key = row.item_id\n",
    "    if key not in cache:\n",
    "        if row.item_cnt_month!=0:\n",
    "            cache[key] = row.date_block_num\n",
    "    else:\n",
    "        last_date_block_num = cache[key]\n",
    "        if row.date_block_num>last_date_block_num:\n",
    "            matrix.at[idx, 'item_last_sale'] = row.date_block_num - last_date_block_num\n",
    "            cache[key] = row.date_block_num         \n",
    "time.time() - ts"
   ]
  },
  {
   "cell_type": "markdown",
   "id": "stretch-snowboard",
   "metadata": {},
   "source": [
    "### 각 상점별 첫 판매월"
   ]
  },
  {
   "cell_type": "code",
   "execution_count": 44,
   "id": "willing-bottle",
   "metadata": {},
   "outputs": [
    {
     "data": {
      "text/plain": [
       "1.959000825881958"
      ]
     },
     "execution_count": 44,
     "metadata": {},
     "output_type": "execute_result"
    }
   ],
   "source": [
    "ts = time.time()\n",
    "matrix['item_shop_first_sale'] = matrix['date_block_num'] - matrix.groupby(['item_id','shop_id'])['date_block_num'].transform('min')\n",
    "matrix['item_first_sale'] = matrix['date_block_num'] - matrix.groupby('item_id')['date_block_num'].transform('min')\n",
    "time.time() - ts"
   ]
  },
  {
   "cell_type": "markdown",
   "id": "ultimate-paper",
   "metadata": {},
   "source": [
    "##### 각 컬럼별 관계를 연산한 데이터를 컬럼을 생성하여 축적시킨 최종 데이터 전처리 완료 데이터 "
   ]
  },
  {
   "cell_type": "code",
   "execution_count": 45,
   "id": "coated-james",
   "metadata": {},
   "outputs": [
    {
     "data": {
      "text/html": [
       "<div>\n",
       "<style scoped>\n",
       "    .dataframe tbody tr th:only-of-type {\n",
       "        vertical-align: middle;\n",
       "    }\n",
       "\n",
       "    .dataframe tbody tr th {\n",
       "        vertical-align: top;\n",
       "    }\n",
       "\n",
       "    .dataframe thead th {\n",
       "        text-align: right;\n",
       "    }\n",
       "</style>\n",
       "<table border=\"1\" class=\"dataframe\">\n",
       "  <thead>\n",
       "    <tr style=\"text-align: right;\">\n",
       "      <th></th>\n",
       "      <th>date_block_num</th>\n",
       "      <th>shop_id</th>\n",
       "      <th>item_id</th>\n",
       "      <th>item_cnt_month</th>\n",
       "      <th>ID</th>\n",
       "      <th>city_code</th>\n",
       "      <th>item_category_id</th>\n",
       "      <th>type_code</th>\n",
       "      <th>subtype_code</th>\n",
       "      <th>item_cnt_month_lag_1</th>\n",
       "      <th>...</th>\n",
       "      <th>date_type_avg_item_cnt_lag_1</th>\n",
       "      <th>date_subtype_avg_item_cnt_lag_1</th>\n",
       "      <th>delta_price_lag</th>\n",
       "      <th>delta_revenue_lag_1</th>\n",
       "      <th>month</th>\n",
       "      <th>days</th>\n",
       "      <th>item_shop_last_sale</th>\n",
       "      <th>item_last_sale</th>\n",
       "      <th>item_shop_first_sale</th>\n",
       "      <th>item_first_sale</th>\n",
       "    </tr>\n",
       "  </thead>\n",
       "  <tbody>\n",
       "    <tr>\n",
       "      <th>0</th>\n",
       "      <td>0</td>\n",
       "      <td>2</td>\n",
       "      <td>19</td>\n",
       "      <td>0.0</td>\n",
       "      <td>0.0</td>\n",
       "      <td>0</td>\n",
       "      <td>40</td>\n",
       "      <td>11</td>\n",
       "      <td>4</td>\n",
       "      <td>NaN</td>\n",
       "      <td>...</td>\n",
       "      <td>NaN</td>\n",
       "      <td>NaN</td>\n",
       "      <td>0.000000</td>\n",
       "      <td>NaN</td>\n",
       "      <td>0</td>\n",
       "      <td>31</td>\n",
       "      <td>-1</td>\n",
       "      <td>-1</td>\n",
       "      <td>0</td>\n",
       "      <td>0</td>\n",
       "    </tr>\n",
       "    <tr>\n",
       "      <th>1</th>\n",
       "      <td>0</td>\n",
       "      <td>2</td>\n",
       "      <td>27</td>\n",
       "      <td>1.0</td>\n",
       "      <td>0.0</td>\n",
       "      <td>0</td>\n",
       "      <td>19</td>\n",
       "      <td>5</td>\n",
       "      <td>10</td>\n",
       "      <td>NaN</td>\n",
       "      <td>...</td>\n",
       "      <td>NaN</td>\n",
       "      <td>NaN</td>\n",
       "      <td>0.000000</td>\n",
       "      <td>NaN</td>\n",
       "      <td>0</td>\n",
       "      <td>31</td>\n",
       "      <td>-1</td>\n",
       "      <td>-1</td>\n",
       "      <td>0</td>\n",
       "      <td>0</td>\n",
       "    </tr>\n",
       "    <tr>\n",
       "      <th>2</th>\n",
       "      <td>0</td>\n",
       "      <td>2</td>\n",
       "      <td>28</td>\n",
       "      <td>0.0</td>\n",
       "      <td>0.0</td>\n",
       "      <td>0</td>\n",
       "      <td>30</td>\n",
       "      <td>8</td>\n",
       "      <td>55</td>\n",
       "      <td>NaN</td>\n",
       "      <td>...</td>\n",
       "      <td>NaN</td>\n",
       "      <td>NaN</td>\n",
       "      <td>0.000000</td>\n",
       "      <td>NaN</td>\n",
       "      <td>0</td>\n",
       "      <td>31</td>\n",
       "      <td>-1</td>\n",
       "      <td>-1</td>\n",
       "      <td>0</td>\n",
       "      <td>0</td>\n",
       "    </tr>\n",
       "    <tr>\n",
       "      <th>3</th>\n",
       "      <td>0</td>\n",
       "      <td>2</td>\n",
       "      <td>29</td>\n",
       "      <td>0.0</td>\n",
       "      <td>0.0</td>\n",
       "      <td>0</td>\n",
       "      <td>23</td>\n",
       "      <td>5</td>\n",
       "      <td>16</td>\n",
       "      <td>NaN</td>\n",
       "      <td>...</td>\n",
       "      <td>NaN</td>\n",
       "      <td>NaN</td>\n",
       "      <td>0.000000</td>\n",
       "      <td>NaN</td>\n",
       "      <td>0</td>\n",
       "      <td>31</td>\n",
       "      <td>-1</td>\n",
       "      <td>-1</td>\n",
       "      <td>0</td>\n",
       "      <td>0</td>\n",
       "    </tr>\n",
       "    <tr>\n",
       "      <th>4</th>\n",
       "      <td>0</td>\n",
       "      <td>2</td>\n",
       "      <td>32</td>\n",
       "      <td>0.0</td>\n",
       "      <td>0.0</td>\n",
       "      <td>0</td>\n",
       "      <td>40</td>\n",
       "      <td>11</td>\n",
       "      <td>4</td>\n",
       "      <td>NaN</td>\n",
       "      <td>...</td>\n",
       "      <td>NaN</td>\n",
       "      <td>NaN</td>\n",
       "      <td>0.000000</td>\n",
       "      <td>NaN</td>\n",
       "      <td>0</td>\n",
       "      <td>31</td>\n",
       "      <td>-1</td>\n",
       "      <td>-1</td>\n",
       "      <td>0</td>\n",
       "      <td>0</td>\n",
       "    </tr>\n",
       "    <tr>\n",
       "      <th>...</th>\n",
       "      <td>...</td>\n",
       "      <td>...</td>\n",
       "      <td>...</td>\n",
       "      <td>...</td>\n",
       "      <td>...</td>\n",
       "      <td>...</td>\n",
       "      <td>...</td>\n",
       "      <td>...</td>\n",
       "      <td>...</td>\n",
       "      <td>...</td>\n",
       "      <td>...</td>\n",
       "      <td>...</td>\n",
       "      <td>...</td>\n",
       "      <td>...</td>\n",
       "      <td>...</td>\n",
       "      <td>...</td>\n",
       "      <td>...</td>\n",
       "      <td>...</td>\n",
       "      <td>...</td>\n",
       "      <td>...</td>\n",
       "      <td>...</td>\n",
       "    </tr>\n",
       "    <tr>\n",
       "      <th>11127999</th>\n",
       "      <td>34</td>\n",
       "      <td>45</td>\n",
       "      <td>18454</td>\n",
       "      <td>0.0</td>\n",
       "      <td>214195.0</td>\n",
       "      <td>20</td>\n",
       "      <td>55</td>\n",
       "      <td>13</td>\n",
       "      <td>2</td>\n",
       "      <td>1.0</td>\n",
       "      <td>...</td>\n",
       "      <td>0.146973</td>\n",
       "      <td>0.196899</td>\n",
       "      <td>-0.475098</td>\n",
       "      <td>-0.290039</td>\n",
       "      <td>10</td>\n",
       "      <td>30</td>\n",
       "      <td>1</td>\n",
       "      <td>-1</td>\n",
       "      <td>11</td>\n",
       "      <td>11</td>\n",
       "    </tr>\n",
       "    <tr>\n",
       "      <th>11128000</th>\n",
       "      <td>34</td>\n",
       "      <td>45</td>\n",
       "      <td>16188</td>\n",
       "      <td>0.0</td>\n",
       "      <td>214196.0</td>\n",
       "      <td>20</td>\n",
       "      <td>64</td>\n",
       "      <td>14</td>\n",
       "      <td>42</td>\n",
       "      <td>0.0</td>\n",
       "      <td>...</td>\n",
       "      <td>0.237305</td>\n",
       "      <td>0.155884</td>\n",
       "      <td>0.081116</td>\n",
       "      <td>-0.290039</td>\n",
       "      <td>10</td>\n",
       "      <td>30</td>\n",
       "      <td>-1</td>\n",
       "      <td>-1</td>\n",
       "      <td>2</td>\n",
       "      <td>2</td>\n",
       "    </tr>\n",
       "    <tr>\n",
       "      <th>11128001</th>\n",
       "      <td>34</td>\n",
       "      <td>45</td>\n",
       "      <td>15757</td>\n",
       "      <td>0.0</td>\n",
       "      <td>214197.0</td>\n",
       "      <td>20</td>\n",
       "      <td>55</td>\n",
       "      <td>13</td>\n",
       "      <td>2</td>\n",
       "      <td>0.0</td>\n",
       "      <td>...</td>\n",
       "      <td>0.146973</td>\n",
       "      <td>0.196899</td>\n",
       "      <td>0.155884</td>\n",
       "      <td>-0.290039</td>\n",
       "      <td>10</td>\n",
       "      <td>30</td>\n",
       "      <td>1</td>\n",
       "      <td>-1</td>\n",
       "      <td>34</td>\n",
       "      <td>34</td>\n",
       "    </tr>\n",
       "    <tr>\n",
       "      <th>11128002</th>\n",
       "      <td>34</td>\n",
       "      <td>45</td>\n",
       "      <td>19648</td>\n",
       "      <td>0.0</td>\n",
       "      <td>214198.0</td>\n",
       "      <td>20</td>\n",
       "      <td>40</td>\n",
       "      <td>11</td>\n",
       "      <td>4</td>\n",
       "      <td>0.0</td>\n",
       "      <td>...</td>\n",
       "      <td>0.224243</td>\n",
       "      <td>0.220825</td>\n",
       "      <td>-0.091736</td>\n",
       "      <td>-0.290039</td>\n",
       "      <td>10</td>\n",
       "      <td>30</td>\n",
       "      <td>-1</td>\n",
       "      <td>-1</td>\n",
       "      <td>11</td>\n",
       "      <td>11</td>\n",
       "    </tr>\n",
       "    <tr>\n",
       "      <th>11128003</th>\n",
       "      <td>34</td>\n",
       "      <td>45</td>\n",
       "      <td>969</td>\n",
       "      <td>0.0</td>\n",
       "      <td>214199.0</td>\n",
       "      <td>20</td>\n",
       "      <td>37</td>\n",
       "      <td>11</td>\n",
       "      <td>1</td>\n",
       "      <td>0.0</td>\n",
       "      <td>...</td>\n",
       "      <td>0.224243</td>\n",
       "      <td>0.240967</td>\n",
       "      <td>-0.605957</td>\n",
       "      <td>-0.290039</td>\n",
       "      <td>10</td>\n",
       "      <td>30</td>\n",
       "      <td>1</td>\n",
       "      <td>-1</td>\n",
       "      <td>17</td>\n",
       "      <td>17</td>\n",
       "    </tr>\n",
       "  </tbody>\n",
       "</table>\n",
       "<p>11128004 rows × 40 columns</p>\n",
       "</div>"
      ],
      "text/plain": [
       "          date_block_num  shop_id  item_id  item_cnt_month        ID  \\\n",
       "0                      0        2       19             0.0       0.0   \n",
       "1                      0        2       27             1.0       0.0   \n",
       "2                      0        2       28             0.0       0.0   \n",
       "3                      0        2       29             0.0       0.0   \n",
       "4                      0        2       32             0.0       0.0   \n",
       "...                  ...      ...      ...             ...       ...   \n",
       "11127999              34       45    18454             0.0  214195.0   \n",
       "11128000              34       45    16188             0.0  214196.0   \n",
       "11128001              34       45    15757             0.0  214197.0   \n",
       "11128002              34       45    19648             0.0  214198.0   \n",
       "11128003              34       45      969             0.0  214199.0   \n",
       "\n",
       "          city_code  item_category_id  type_code  subtype_code  \\\n",
       "0                 0                40         11             4   \n",
       "1                 0                19          5            10   \n",
       "2                 0                30          8            55   \n",
       "3                 0                23          5            16   \n",
       "4                 0                40         11             4   \n",
       "...             ...               ...        ...           ...   \n",
       "11127999         20                55         13             2   \n",
       "11128000         20                64         14            42   \n",
       "11128001         20                55         13             2   \n",
       "11128002         20                40         11             4   \n",
       "11128003         20                37         11             1   \n",
       "\n",
       "          item_cnt_month_lag_1  ...  date_type_avg_item_cnt_lag_1  \\\n",
       "0                          NaN  ...                           NaN   \n",
       "1                          NaN  ...                           NaN   \n",
       "2                          NaN  ...                           NaN   \n",
       "3                          NaN  ...                           NaN   \n",
       "4                          NaN  ...                           NaN   \n",
       "...                        ...  ...                           ...   \n",
       "11127999                   1.0  ...                      0.146973   \n",
       "11128000                   0.0  ...                      0.237305   \n",
       "11128001                   0.0  ...                      0.146973   \n",
       "11128002                   0.0  ...                      0.224243   \n",
       "11128003                   0.0  ...                      0.224243   \n",
       "\n",
       "          date_subtype_avg_item_cnt_lag_1  delta_price_lag  \\\n",
       "0                                     NaN         0.000000   \n",
       "1                                     NaN         0.000000   \n",
       "2                                     NaN         0.000000   \n",
       "3                                     NaN         0.000000   \n",
       "4                                     NaN         0.000000   \n",
       "...                                   ...              ...   \n",
       "11127999                         0.196899        -0.475098   \n",
       "11128000                         0.155884         0.081116   \n",
       "11128001                         0.196899         0.155884   \n",
       "11128002                         0.220825        -0.091736   \n",
       "11128003                         0.240967        -0.605957   \n",
       "\n",
       "          delta_revenue_lag_1  month  days  item_shop_last_sale  \\\n",
       "0                         NaN      0    31                   -1   \n",
       "1                         NaN      0    31                   -1   \n",
       "2                         NaN      0    31                   -1   \n",
       "3                         NaN      0    31                   -1   \n",
       "4                         NaN      0    31                   -1   \n",
       "...                       ...    ...   ...                  ...   \n",
       "11127999            -0.290039     10    30                    1   \n",
       "11128000            -0.290039     10    30                   -1   \n",
       "11128001            -0.290039     10    30                    1   \n",
       "11128002            -0.290039     10    30                   -1   \n",
       "11128003            -0.290039     10    30                    1   \n",
       "\n",
       "          item_last_sale  item_shop_first_sale  item_first_sale  \n",
       "0                     -1                     0                0  \n",
       "1                     -1                     0                0  \n",
       "2                     -1                     0                0  \n",
       "3                     -1                     0                0  \n",
       "4                     -1                     0                0  \n",
       "...                  ...                   ...              ...  \n",
       "11127999              -1                    11               11  \n",
       "11128000              -1                     2                2  \n",
       "11128001              -1                    34               34  \n",
       "11128002              -1                    11               11  \n",
       "11128003              -1                    17               17  \n",
       "\n",
       "[11128004 rows x 40 columns]"
      ]
     },
     "execution_count": 45,
     "metadata": {},
     "output_type": "execute_result"
    }
   ],
   "source": [
    "matrix"
   ]
  },
  {
   "cell_type": "code",
   "execution_count": 46,
   "id": "adjacent-brooklyn",
   "metadata": {},
   "outputs": [
    {
     "data": {
      "text/plain": [
       "1.1392028331756592"
      ]
     },
     "execution_count": 46,
     "metadata": {},
     "output_type": "execute_result"
    }
   ],
   "source": [
    "ts = time.time()\n",
    "matrix = matrix[matrix.date_block_num > 11]\n",
    "time.time() - ts"
   ]
  },
  {
   "cell_type": "markdown",
   "id": "congressional-reputation",
   "metadata": {},
   "source": [
    "### 최종 Train dataset null값 채워주기"
   ]
  },
  {
   "cell_type": "code",
   "execution_count": 47,
   "id": "seventh-botswana",
   "metadata": {},
   "outputs": [
    {
     "data": {
      "text/plain": [
       "0.6945309638977051"
      ]
     },
     "execution_count": 47,
     "metadata": {},
     "output_type": "execute_result"
    }
   ],
   "source": [
    "ts = time.time()\n",
    "def fill_na(df):\n",
    "    for col in df.columns:\n",
    "        if ('_lag_' in col) & (df[col].isnull().any()):\n",
    "            if ('item_cnt' in col):\n",
    "                df[col].fillna(0, inplace=True)         \n",
    "    return df\n",
    "\n",
    "matrix = fill_na(matrix)\n",
    "time.time() - ts"
   ]
  },
  {
   "cell_type": "code",
   "execution_count": 48,
   "id": "novel-minister",
   "metadata": {},
   "outputs": [
    {
     "data": {
      "text/plain": [
       "Index(['date_block_num', 'shop_id', 'item_id', 'item_cnt_month', 'ID',\n",
       "       'city_code', 'item_category_id', 'type_code', 'subtype_code',\n",
       "       'item_cnt_month_lag_1', 'item_cnt_month_lag_2', 'item_cnt_month_lag_3',\n",
       "       'item_cnt_month_lag_6', 'item_cnt_month_lag_12',\n",
       "       'date_avg_item_cnt_lag_1', 'date_item_avg_item_cnt_lag_1',\n",
       "       'date_item_avg_item_cnt_lag_2', 'date_item_avg_item_cnt_lag_3',\n",
       "       'date_item_avg_item_cnt_lag_6', 'date_item_avg_item_cnt_lag_12',\n",
       "       'date_shop_avg_item_cnt_lag_1', 'date_shop_avg_item_cnt_lag_2',\n",
       "       'date_shop_avg_item_cnt_lag_3', 'date_shop_avg_item_cnt_lag_6',\n",
       "       'date_shop_avg_item_cnt_lag_12', 'date_cat_avg_item_cnt_lag_1',\n",
       "       'date_shop_cat_avg_item_cnt_lag_1', 'date_shop_type_avg_item_cnt_lag_1',\n",
       "       'date_shop_subtype_avg_item_cnt_lag_1', 'date_city_avg_item_cnt_lag_1',\n",
       "       'date_type_avg_item_cnt_lag_1', 'date_subtype_avg_item_cnt_lag_1',\n",
       "       'delta_price_lag', 'delta_revenue_lag_1', 'month', 'days',\n",
       "       'item_shop_last_sale', 'item_last_sale', 'item_shop_first_sale',\n",
       "       'item_first_sale'],\n",
       "      dtype='object')"
      ]
     },
     "execution_count": 48,
     "metadata": {},
     "output_type": "execute_result"
    }
   ],
   "source": [
    "matrix.columns"
   ]
  },
  {
   "cell_type": "code",
   "execution_count": 49,
   "id": "boring-transport",
   "metadata": {},
   "outputs": [
    {
     "name": "stdout",
     "output_type": "stream",
     "text": [
      "<class 'pandas.core.frame.DataFrame'>\n",
      "Int64Index: 6639294 entries, 4488710 to 11128003\n",
      "Data columns (total 40 columns):\n",
      " #   Column                                Dtype  \n",
      "---  ------                                -----  \n",
      " 0   date_block_num                        int8   \n",
      " 1   shop_id                               int8   \n",
      " 2   item_id                               int16  \n",
      " 3   item_cnt_month                        float16\n",
      " 4   ID                                    float64\n",
      " 5   city_code                             int8   \n",
      " 6   item_category_id                      int8   \n",
      " 7   type_code                             int8   \n",
      " 8   subtype_code                          int8   \n",
      " 9   item_cnt_month_lag_1                  float16\n",
      " 10  item_cnt_month_lag_2                  float16\n",
      " 11  item_cnt_month_lag_3                  float16\n",
      " 12  item_cnt_month_lag_6                  float16\n",
      " 13  item_cnt_month_lag_12                 float16\n",
      " 14  date_avg_item_cnt_lag_1               float16\n",
      " 15  date_item_avg_item_cnt_lag_1          float16\n",
      " 16  date_item_avg_item_cnt_lag_2          float16\n",
      " 17  date_item_avg_item_cnt_lag_3          float16\n",
      " 18  date_item_avg_item_cnt_lag_6          float16\n",
      " 19  date_item_avg_item_cnt_lag_12         float16\n",
      " 20  date_shop_avg_item_cnt_lag_1          float16\n",
      " 21  date_shop_avg_item_cnt_lag_2          float16\n",
      " 22  date_shop_avg_item_cnt_lag_3          float16\n",
      " 23  date_shop_avg_item_cnt_lag_6          float16\n",
      " 24  date_shop_avg_item_cnt_lag_12         float16\n",
      " 25  date_cat_avg_item_cnt_lag_1           float16\n",
      " 26  date_shop_cat_avg_item_cnt_lag_1      float16\n",
      " 27  date_shop_type_avg_item_cnt_lag_1     float16\n",
      " 28  date_shop_subtype_avg_item_cnt_lag_1  float16\n",
      " 29  date_city_avg_item_cnt_lag_1          float16\n",
      " 30  date_type_avg_item_cnt_lag_1          float16\n",
      " 31  date_subtype_avg_item_cnt_lag_1       float16\n",
      " 32  delta_price_lag                       float16\n",
      " 33  delta_revenue_lag_1                   float16\n",
      " 34  month                                 int8   \n",
      " 35  days                                  int8   \n",
      " 36  item_shop_last_sale                   int8   \n",
      " 37  item_last_sale                        int8   \n",
      " 38  item_shop_first_sale                  int8   \n",
      " 39  item_first_sale                       int8   \n",
      "dtypes: float16(26), float64(1), int16(1), int8(12)\n",
      "memory usage: 519.2 MB\n"
     ]
    }
   ],
   "source": [
    "matrix.info()"
   ]
  },
  {
   "cell_type": "markdown",
   "id": "vocational-pregnancy",
   "metadata": {},
   "source": [
    "##### 전체 과정을 반복하지 않고, 필요에 따라 사용하기 위해 따로 파일로 저장하여 Train Data 가공 완료"
   ]
  },
  {
   "cell_type": "code",
   "execution_count": 50,
   "id": "widespread-neighborhood",
   "metadata": {},
   "outputs": [],
   "source": [
    "# 파일로 저장\n",
    "matrix.to_pickle('data.pkl')"
   ]
  },
  {
   "cell_type": "code",
   "execution_count": 51,
   "id": "fatty-trunk",
   "metadata": {
    "scrolled": true
   },
   "outputs": [
    {
     "data": {
      "text/html": [
       "<div>\n",
       "<style scoped>\n",
       "    .dataframe tbody tr th:only-of-type {\n",
       "        vertical-align: middle;\n",
       "    }\n",
       "\n",
       "    .dataframe tbody tr th {\n",
       "        vertical-align: top;\n",
       "    }\n",
       "\n",
       "    .dataframe thead th {\n",
       "        text-align: right;\n",
       "    }\n",
       "</style>\n",
       "<table border=\"1\" class=\"dataframe\">\n",
       "  <thead>\n",
       "    <tr style=\"text-align: right;\">\n",
       "      <th></th>\n",
       "      <th>date_block_num</th>\n",
       "      <th>shop_id</th>\n",
       "      <th>item_id</th>\n",
       "      <th>item_cnt_month</th>\n",
       "      <th>ID</th>\n",
       "      <th>city_code</th>\n",
       "      <th>item_category_id</th>\n",
       "      <th>type_code</th>\n",
       "      <th>subtype_code</th>\n",
       "      <th>item_cnt_month_lag_1</th>\n",
       "      <th>...</th>\n",
       "      <th>date_type_avg_item_cnt_lag_1</th>\n",
       "      <th>date_subtype_avg_item_cnt_lag_1</th>\n",
       "      <th>delta_price_lag</th>\n",
       "      <th>delta_revenue_lag_1</th>\n",
       "      <th>month</th>\n",
       "      <th>days</th>\n",
       "      <th>item_shop_last_sale</th>\n",
       "      <th>item_last_sale</th>\n",
       "      <th>item_shop_first_sale</th>\n",
       "      <th>item_first_sale</th>\n",
       "    </tr>\n",
       "  </thead>\n",
       "  <tbody>\n",
       "    <tr>\n",
       "      <th>4488710</th>\n",
       "      <td>12</td>\n",
       "      <td>2</td>\n",
       "      <td>27</td>\n",
       "      <td>0.0</td>\n",
       "      <td>0.0</td>\n",
       "      <td>0</td>\n",
       "      <td>19</td>\n",
       "      <td>5</td>\n",
       "      <td>10</td>\n",
       "      <td>0.0</td>\n",
       "      <td>...</td>\n",
       "      <td>1.034180</td>\n",
       "      <td>1.075195</td>\n",
       "      <td>-0.282715</td>\n",
       "      <td>1.211914</td>\n",
       "      <td>0</td>\n",
       "      <td>31</td>\n",
       "      <td>1</td>\n",
       "      <td>1</td>\n",
       "      <td>12</td>\n",
       "      <td>12</td>\n",
       "    </tr>\n",
       "    <tr>\n",
       "      <th>4488711</th>\n",
       "      <td>12</td>\n",
       "      <td>2</td>\n",
       "      <td>30</td>\n",
       "      <td>0.0</td>\n",
       "      <td>0.0</td>\n",
       "      <td>0</td>\n",
       "      <td>40</td>\n",
       "      <td>11</td>\n",
       "      <td>4</td>\n",
       "      <td>0.0</td>\n",
       "      <td>...</td>\n",
       "      <td>0.270020</td>\n",
       "      <td>0.291504</td>\n",
       "      <td>-0.483398</td>\n",
       "      <td>1.211914</td>\n",
       "      <td>0</td>\n",
       "      <td>31</td>\n",
       "      <td>1</td>\n",
       "      <td>1</td>\n",
       "      <td>11</td>\n",
       "      <td>11</td>\n",
       "    </tr>\n",
       "    <tr>\n",
       "      <th>4488712</th>\n",
       "      <td>12</td>\n",
       "      <td>2</td>\n",
       "      <td>31</td>\n",
       "      <td>0.0</td>\n",
       "      <td>0.0</td>\n",
       "      <td>0</td>\n",
       "      <td>37</td>\n",
       "      <td>11</td>\n",
       "      <td>1</td>\n",
       "      <td>0.0</td>\n",
       "      <td>...</td>\n",
       "      <td>0.270020</td>\n",
       "      <td>0.234009</td>\n",
       "      <td>-0.137451</td>\n",
       "      <td>1.211914</td>\n",
       "      <td>0</td>\n",
       "      <td>31</td>\n",
       "      <td>1</td>\n",
       "      <td>1</td>\n",
       "      <td>11</td>\n",
       "      <td>11</td>\n",
       "    </tr>\n",
       "    <tr>\n",
       "      <th>4488713</th>\n",
       "      <td>12</td>\n",
       "      <td>2</td>\n",
       "      <td>32</td>\n",
       "      <td>1.0</td>\n",
       "      <td>0.0</td>\n",
       "      <td>0</td>\n",
       "      <td>40</td>\n",
       "      <td>11</td>\n",
       "      <td>4</td>\n",
       "      <td>0.0</td>\n",
       "      <td>...</td>\n",
       "      <td>0.270020</td>\n",
       "      <td>0.291504</td>\n",
       "      <td>-0.407227</td>\n",
       "      <td>1.211914</td>\n",
       "      <td>0</td>\n",
       "      <td>31</td>\n",
       "      <td>-1</td>\n",
       "      <td>1</td>\n",
       "      <td>12</td>\n",
       "      <td>12</td>\n",
       "    </tr>\n",
       "    <tr>\n",
       "      <th>4488714</th>\n",
       "      <td>12</td>\n",
       "      <td>2</td>\n",
       "      <td>33</td>\n",
       "      <td>1.0</td>\n",
       "      <td>0.0</td>\n",
       "      <td>0</td>\n",
       "      <td>37</td>\n",
       "      <td>11</td>\n",
       "      <td>1</td>\n",
       "      <td>1.0</td>\n",
       "      <td>...</td>\n",
       "      <td>0.270020</td>\n",
       "      <td>0.234009</td>\n",
       "      <td>-0.225464</td>\n",
       "      <td>1.211914</td>\n",
       "      <td>0</td>\n",
       "      <td>31</td>\n",
       "      <td>1</td>\n",
       "      <td>1</td>\n",
       "      <td>12</td>\n",
       "      <td>12</td>\n",
       "    </tr>\n",
       "    <tr>\n",
       "      <th>...</th>\n",
       "      <td>...</td>\n",
       "      <td>...</td>\n",
       "      <td>...</td>\n",
       "      <td>...</td>\n",
       "      <td>...</td>\n",
       "      <td>...</td>\n",
       "      <td>...</td>\n",
       "      <td>...</td>\n",
       "      <td>...</td>\n",
       "      <td>...</td>\n",
       "      <td>...</td>\n",
       "      <td>...</td>\n",
       "      <td>...</td>\n",
       "      <td>...</td>\n",
       "      <td>...</td>\n",
       "      <td>...</td>\n",
       "      <td>...</td>\n",
       "      <td>...</td>\n",
       "      <td>...</td>\n",
       "      <td>...</td>\n",
       "      <td>...</td>\n",
       "    </tr>\n",
       "    <tr>\n",
       "      <th>11127999</th>\n",
       "      <td>34</td>\n",
       "      <td>45</td>\n",
       "      <td>18454</td>\n",
       "      <td>0.0</td>\n",
       "      <td>214195.0</td>\n",
       "      <td>20</td>\n",
       "      <td>55</td>\n",
       "      <td>13</td>\n",
       "      <td>2</td>\n",
       "      <td>1.0</td>\n",
       "      <td>...</td>\n",
       "      <td>0.146973</td>\n",
       "      <td>0.196899</td>\n",
       "      <td>-0.475098</td>\n",
       "      <td>-0.290039</td>\n",
       "      <td>10</td>\n",
       "      <td>30</td>\n",
       "      <td>1</td>\n",
       "      <td>-1</td>\n",
       "      <td>11</td>\n",
       "      <td>11</td>\n",
       "    </tr>\n",
       "    <tr>\n",
       "      <th>11128000</th>\n",
       "      <td>34</td>\n",
       "      <td>45</td>\n",
       "      <td>16188</td>\n",
       "      <td>0.0</td>\n",
       "      <td>214196.0</td>\n",
       "      <td>20</td>\n",
       "      <td>64</td>\n",
       "      <td>14</td>\n",
       "      <td>42</td>\n",
       "      <td>0.0</td>\n",
       "      <td>...</td>\n",
       "      <td>0.237305</td>\n",
       "      <td>0.155884</td>\n",
       "      <td>0.081116</td>\n",
       "      <td>-0.290039</td>\n",
       "      <td>10</td>\n",
       "      <td>30</td>\n",
       "      <td>-1</td>\n",
       "      <td>-1</td>\n",
       "      <td>2</td>\n",
       "      <td>2</td>\n",
       "    </tr>\n",
       "    <tr>\n",
       "      <th>11128001</th>\n",
       "      <td>34</td>\n",
       "      <td>45</td>\n",
       "      <td>15757</td>\n",
       "      <td>0.0</td>\n",
       "      <td>214197.0</td>\n",
       "      <td>20</td>\n",
       "      <td>55</td>\n",
       "      <td>13</td>\n",
       "      <td>2</td>\n",
       "      <td>0.0</td>\n",
       "      <td>...</td>\n",
       "      <td>0.146973</td>\n",
       "      <td>0.196899</td>\n",
       "      <td>0.155884</td>\n",
       "      <td>-0.290039</td>\n",
       "      <td>10</td>\n",
       "      <td>30</td>\n",
       "      <td>1</td>\n",
       "      <td>-1</td>\n",
       "      <td>34</td>\n",
       "      <td>34</td>\n",
       "    </tr>\n",
       "    <tr>\n",
       "      <th>11128002</th>\n",
       "      <td>34</td>\n",
       "      <td>45</td>\n",
       "      <td>19648</td>\n",
       "      <td>0.0</td>\n",
       "      <td>214198.0</td>\n",
       "      <td>20</td>\n",
       "      <td>40</td>\n",
       "      <td>11</td>\n",
       "      <td>4</td>\n",
       "      <td>0.0</td>\n",
       "      <td>...</td>\n",
       "      <td>0.224243</td>\n",
       "      <td>0.220825</td>\n",
       "      <td>-0.091736</td>\n",
       "      <td>-0.290039</td>\n",
       "      <td>10</td>\n",
       "      <td>30</td>\n",
       "      <td>-1</td>\n",
       "      <td>-1</td>\n",
       "      <td>11</td>\n",
       "      <td>11</td>\n",
       "    </tr>\n",
       "    <tr>\n",
       "      <th>11128003</th>\n",
       "      <td>34</td>\n",
       "      <td>45</td>\n",
       "      <td>969</td>\n",
       "      <td>0.0</td>\n",
       "      <td>214199.0</td>\n",
       "      <td>20</td>\n",
       "      <td>37</td>\n",
       "      <td>11</td>\n",
       "      <td>1</td>\n",
       "      <td>0.0</td>\n",
       "      <td>...</td>\n",
       "      <td>0.224243</td>\n",
       "      <td>0.240967</td>\n",
       "      <td>-0.605957</td>\n",
       "      <td>-0.290039</td>\n",
       "      <td>10</td>\n",
       "      <td>30</td>\n",
       "      <td>1</td>\n",
       "      <td>-1</td>\n",
       "      <td>17</td>\n",
       "      <td>17</td>\n",
       "    </tr>\n",
       "  </tbody>\n",
       "</table>\n",
       "<p>6639294 rows × 40 columns</p>\n",
       "</div>"
      ],
      "text/plain": [
       "          date_block_num  shop_id  item_id  item_cnt_month        ID  \\\n",
       "4488710               12        2       27             0.0       0.0   \n",
       "4488711               12        2       30             0.0       0.0   \n",
       "4488712               12        2       31             0.0       0.0   \n",
       "4488713               12        2       32             1.0       0.0   \n",
       "4488714               12        2       33             1.0       0.0   \n",
       "...                  ...      ...      ...             ...       ...   \n",
       "11127999              34       45    18454             0.0  214195.0   \n",
       "11128000              34       45    16188             0.0  214196.0   \n",
       "11128001              34       45    15757             0.0  214197.0   \n",
       "11128002              34       45    19648             0.0  214198.0   \n",
       "11128003              34       45      969             0.0  214199.0   \n",
       "\n",
       "          city_code  item_category_id  type_code  subtype_code  \\\n",
       "4488710           0                19          5            10   \n",
       "4488711           0                40         11             4   \n",
       "4488712           0                37         11             1   \n",
       "4488713           0                40         11             4   \n",
       "4488714           0                37         11             1   \n",
       "...             ...               ...        ...           ...   \n",
       "11127999         20                55         13             2   \n",
       "11128000         20                64         14            42   \n",
       "11128001         20                55         13             2   \n",
       "11128002         20                40         11             4   \n",
       "11128003         20                37         11             1   \n",
       "\n",
       "          item_cnt_month_lag_1  ...  date_type_avg_item_cnt_lag_1  \\\n",
       "4488710                    0.0  ...                      1.034180   \n",
       "4488711                    0.0  ...                      0.270020   \n",
       "4488712                    0.0  ...                      0.270020   \n",
       "4488713                    0.0  ...                      0.270020   \n",
       "4488714                    1.0  ...                      0.270020   \n",
       "...                        ...  ...                           ...   \n",
       "11127999                   1.0  ...                      0.146973   \n",
       "11128000                   0.0  ...                      0.237305   \n",
       "11128001                   0.0  ...                      0.146973   \n",
       "11128002                   0.0  ...                      0.224243   \n",
       "11128003                   0.0  ...                      0.224243   \n",
       "\n",
       "          date_subtype_avg_item_cnt_lag_1  delta_price_lag  \\\n",
       "4488710                          1.075195        -0.282715   \n",
       "4488711                          0.291504        -0.483398   \n",
       "4488712                          0.234009        -0.137451   \n",
       "4488713                          0.291504        -0.407227   \n",
       "4488714                          0.234009        -0.225464   \n",
       "...                                   ...              ...   \n",
       "11127999                         0.196899        -0.475098   \n",
       "11128000                         0.155884         0.081116   \n",
       "11128001                         0.196899         0.155884   \n",
       "11128002                         0.220825        -0.091736   \n",
       "11128003                         0.240967        -0.605957   \n",
       "\n",
       "          delta_revenue_lag_1  month  days  item_shop_last_sale  \\\n",
       "4488710              1.211914      0    31                    1   \n",
       "4488711              1.211914      0    31                    1   \n",
       "4488712              1.211914      0    31                    1   \n",
       "4488713              1.211914      0    31                   -1   \n",
       "4488714              1.211914      0    31                    1   \n",
       "...                       ...    ...   ...                  ...   \n",
       "11127999            -0.290039     10    30                    1   \n",
       "11128000            -0.290039     10    30                   -1   \n",
       "11128001            -0.290039     10    30                    1   \n",
       "11128002            -0.290039     10    30                   -1   \n",
       "11128003            -0.290039     10    30                    1   \n",
       "\n",
       "          item_last_sale  item_shop_first_sale  item_first_sale  \n",
       "4488710                1                    12               12  \n",
       "4488711                1                    11               11  \n",
       "4488712                1                    11               11  \n",
       "4488713                1                    12               12  \n",
       "4488714                1                    12               12  \n",
       "...                  ...                   ...              ...  \n",
       "11127999              -1                    11               11  \n",
       "11128000              -1                     2                2  \n",
       "11128001              -1                    34               34  \n",
       "11128002              -1                    11               11  \n",
       "11128003              -1                    17               17  \n",
       "\n",
       "[6639294 rows x 40 columns]"
      ]
     },
     "execution_count": 51,
     "metadata": {},
     "output_type": "execute_result"
    }
   ],
   "source": [
    "matrix"
   ]
  },
  {
   "cell_type": "code",
   "execution_count": 3,
   "id": "informational-stewart",
   "metadata": {},
   "outputs": [],
   "source": [
    "data = pd.read_pickle('data.pkl')"
   ]
  },
  {
   "cell_type": "code",
   "execution_count": 53,
   "id": "republican-portland",
   "metadata": {},
   "outputs": [
    {
     "data": {
      "text/html": [
       "<div>\n",
       "<style scoped>\n",
       "    .dataframe tbody tr th:only-of-type {\n",
       "        vertical-align: middle;\n",
       "    }\n",
       "\n",
       "    .dataframe tbody tr th {\n",
       "        vertical-align: top;\n",
       "    }\n",
       "\n",
       "    .dataframe thead th {\n",
       "        text-align: right;\n",
       "    }\n",
       "</style>\n",
       "<table border=\"1\" class=\"dataframe\">\n",
       "  <thead>\n",
       "    <tr style=\"text-align: right;\">\n",
       "      <th></th>\n",
       "      <th>date_block_num</th>\n",
       "      <th>shop_id</th>\n",
       "      <th>item_id</th>\n",
       "      <th>item_cnt_month</th>\n",
       "      <th>ID</th>\n",
       "      <th>city_code</th>\n",
       "      <th>item_category_id</th>\n",
       "      <th>type_code</th>\n",
       "      <th>subtype_code</th>\n",
       "      <th>item_cnt_month_lag_1</th>\n",
       "      <th>...</th>\n",
       "      <th>date_type_avg_item_cnt_lag_1</th>\n",
       "      <th>date_subtype_avg_item_cnt_lag_1</th>\n",
       "      <th>delta_price_lag</th>\n",
       "      <th>delta_revenue_lag_1</th>\n",
       "      <th>month</th>\n",
       "      <th>days</th>\n",
       "      <th>item_shop_last_sale</th>\n",
       "      <th>item_last_sale</th>\n",
       "      <th>item_shop_first_sale</th>\n",
       "      <th>item_first_sale</th>\n",
       "    </tr>\n",
       "  </thead>\n",
       "  <tbody>\n",
       "    <tr>\n",
       "      <th>10913804</th>\n",
       "      <td>34</td>\n",
       "      <td>5</td>\n",
       "      <td>5037</td>\n",
       "      <td>0.0</td>\n",
       "      <td>0.0</td>\n",
       "      <td>3</td>\n",
       "      <td>19</td>\n",
       "      <td>5</td>\n",
       "      <td>10</td>\n",
       "      <td>0.0</td>\n",
       "      <td>...</td>\n",
       "      <td>0.494141</td>\n",
       "      <td>0.337402</td>\n",
       "      <td>-0.222046</td>\n",
       "      <td>-0.048553</td>\n",
       "      <td>10</td>\n",
       "      <td>30</td>\n",
       "      <td>1</td>\n",
       "      <td>1</td>\n",
       "      <td>14</td>\n",
       "      <td>14</td>\n",
       "    </tr>\n",
       "    <tr>\n",
       "      <th>10913805</th>\n",
       "      <td>34</td>\n",
       "      <td>5</td>\n",
       "      <td>5320</td>\n",
       "      <td>0.0</td>\n",
       "      <td>1.0</td>\n",
       "      <td>3</td>\n",
       "      <td>55</td>\n",
       "      <td>13</td>\n",
       "      <td>2</td>\n",
       "      <td>0.0</td>\n",
       "      <td>...</td>\n",
       "      <td>0.000000</td>\n",
       "      <td>0.000000</td>\n",
       "      <td>0.000000</td>\n",
       "      <td>NaN</td>\n",
       "      <td>10</td>\n",
       "      <td>30</td>\n",
       "      <td>-1</td>\n",
       "      <td>-1</td>\n",
       "      <td>0</td>\n",
       "      <td>0</td>\n",
       "    </tr>\n",
       "    <tr>\n",
       "      <th>10913806</th>\n",
       "      <td>34</td>\n",
       "      <td>5</td>\n",
       "      <td>5233</td>\n",
       "      <td>0.0</td>\n",
       "      <td>2.0</td>\n",
       "      <td>3</td>\n",
       "      <td>19</td>\n",
       "      <td>5</td>\n",
       "      <td>10</td>\n",
       "      <td>1.0</td>\n",
       "      <td>...</td>\n",
       "      <td>0.494141</td>\n",
       "      <td>0.337402</td>\n",
       "      <td>0.496826</td>\n",
       "      <td>-0.048553</td>\n",
       "      <td>10</td>\n",
       "      <td>30</td>\n",
       "      <td>1</td>\n",
       "      <td>1</td>\n",
       "      <td>7</td>\n",
       "      <td>7</td>\n",
       "    </tr>\n",
       "    <tr>\n",
       "      <th>10913807</th>\n",
       "      <td>34</td>\n",
       "      <td>5</td>\n",
       "      <td>5232</td>\n",
       "      <td>0.0</td>\n",
       "      <td>3.0</td>\n",
       "      <td>3</td>\n",
       "      <td>23</td>\n",
       "      <td>5</td>\n",
       "      <td>16</td>\n",
       "      <td>0.0</td>\n",
       "      <td>...</td>\n",
       "      <td>0.494141</td>\n",
       "      <td>0.331787</td>\n",
       "      <td>0.505371</td>\n",
       "      <td>-0.048553</td>\n",
       "      <td>10</td>\n",
       "      <td>30</td>\n",
       "      <td>1</td>\n",
       "      <td>1</td>\n",
       "      <td>3</td>\n",
       "      <td>3</td>\n",
       "    </tr>\n",
       "    <tr>\n",
       "      <th>10913808</th>\n",
       "      <td>34</td>\n",
       "      <td>5</td>\n",
       "      <td>5268</td>\n",
       "      <td>0.0</td>\n",
       "      <td>4.0</td>\n",
       "      <td>3</td>\n",
       "      <td>20</td>\n",
       "      <td>5</td>\n",
       "      <td>11</td>\n",
       "      <td>0.0</td>\n",
       "      <td>...</td>\n",
       "      <td>0.000000</td>\n",
       "      <td>0.000000</td>\n",
       "      <td>0.000000</td>\n",
       "      <td>NaN</td>\n",
       "      <td>10</td>\n",
       "      <td>30</td>\n",
       "      <td>-1</td>\n",
       "      <td>-1</td>\n",
       "      <td>0</td>\n",
       "      <td>0</td>\n",
       "    </tr>\n",
       "    <tr>\n",
       "      <th>...</th>\n",
       "      <td>...</td>\n",
       "      <td>...</td>\n",
       "      <td>...</td>\n",
       "      <td>...</td>\n",
       "      <td>...</td>\n",
       "      <td>...</td>\n",
       "      <td>...</td>\n",
       "      <td>...</td>\n",
       "      <td>...</td>\n",
       "      <td>...</td>\n",
       "      <td>...</td>\n",
       "      <td>...</td>\n",
       "      <td>...</td>\n",
       "      <td>...</td>\n",
       "      <td>...</td>\n",
       "      <td>...</td>\n",
       "      <td>...</td>\n",
       "      <td>...</td>\n",
       "      <td>...</td>\n",
       "      <td>...</td>\n",
       "      <td>...</td>\n",
       "    </tr>\n",
       "    <tr>\n",
       "      <th>11127999</th>\n",
       "      <td>34</td>\n",
       "      <td>45</td>\n",
       "      <td>18454</td>\n",
       "      <td>0.0</td>\n",
       "      <td>214195.0</td>\n",
       "      <td>20</td>\n",
       "      <td>55</td>\n",
       "      <td>13</td>\n",
       "      <td>2</td>\n",
       "      <td>1.0</td>\n",
       "      <td>...</td>\n",
       "      <td>0.146973</td>\n",
       "      <td>0.196899</td>\n",
       "      <td>-0.475098</td>\n",
       "      <td>-0.290039</td>\n",
       "      <td>10</td>\n",
       "      <td>30</td>\n",
       "      <td>1</td>\n",
       "      <td>-1</td>\n",
       "      <td>11</td>\n",
       "      <td>11</td>\n",
       "    </tr>\n",
       "    <tr>\n",
       "      <th>11128000</th>\n",
       "      <td>34</td>\n",
       "      <td>45</td>\n",
       "      <td>16188</td>\n",
       "      <td>0.0</td>\n",
       "      <td>214196.0</td>\n",
       "      <td>20</td>\n",
       "      <td>64</td>\n",
       "      <td>14</td>\n",
       "      <td>42</td>\n",
       "      <td>0.0</td>\n",
       "      <td>...</td>\n",
       "      <td>0.237305</td>\n",
       "      <td>0.155884</td>\n",
       "      <td>0.081116</td>\n",
       "      <td>-0.290039</td>\n",
       "      <td>10</td>\n",
       "      <td>30</td>\n",
       "      <td>-1</td>\n",
       "      <td>-1</td>\n",
       "      <td>2</td>\n",
       "      <td>2</td>\n",
       "    </tr>\n",
       "    <tr>\n",
       "      <th>11128001</th>\n",
       "      <td>34</td>\n",
       "      <td>45</td>\n",
       "      <td>15757</td>\n",
       "      <td>0.0</td>\n",
       "      <td>214197.0</td>\n",
       "      <td>20</td>\n",
       "      <td>55</td>\n",
       "      <td>13</td>\n",
       "      <td>2</td>\n",
       "      <td>0.0</td>\n",
       "      <td>...</td>\n",
       "      <td>0.146973</td>\n",
       "      <td>0.196899</td>\n",
       "      <td>0.155884</td>\n",
       "      <td>-0.290039</td>\n",
       "      <td>10</td>\n",
       "      <td>30</td>\n",
       "      <td>1</td>\n",
       "      <td>-1</td>\n",
       "      <td>34</td>\n",
       "      <td>34</td>\n",
       "    </tr>\n",
       "    <tr>\n",
       "      <th>11128002</th>\n",
       "      <td>34</td>\n",
       "      <td>45</td>\n",
       "      <td>19648</td>\n",
       "      <td>0.0</td>\n",
       "      <td>214198.0</td>\n",
       "      <td>20</td>\n",
       "      <td>40</td>\n",
       "      <td>11</td>\n",
       "      <td>4</td>\n",
       "      <td>0.0</td>\n",
       "      <td>...</td>\n",
       "      <td>0.224243</td>\n",
       "      <td>0.220825</td>\n",
       "      <td>-0.091736</td>\n",
       "      <td>-0.290039</td>\n",
       "      <td>10</td>\n",
       "      <td>30</td>\n",
       "      <td>-1</td>\n",
       "      <td>-1</td>\n",
       "      <td>11</td>\n",
       "      <td>11</td>\n",
       "    </tr>\n",
       "    <tr>\n",
       "      <th>11128003</th>\n",
       "      <td>34</td>\n",
       "      <td>45</td>\n",
       "      <td>969</td>\n",
       "      <td>0.0</td>\n",
       "      <td>214199.0</td>\n",
       "      <td>20</td>\n",
       "      <td>37</td>\n",
       "      <td>11</td>\n",
       "      <td>1</td>\n",
       "      <td>0.0</td>\n",
       "      <td>...</td>\n",
       "      <td>0.224243</td>\n",
       "      <td>0.240967</td>\n",
       "      <td>-0.605957</td>\n",
       "      <td>-0.290039</td>\n",
       "      <td>10</td>\n",
       "      <td>30</td>\n",
       "      <td>1</td>\n",
       "      <td>-1</td>\n",
       "      <td>17</td>\n",
       "      <td>17</td>\n",
       "    </tr>\n",
       "  </tbody>\n",
       "</table>\n",
       "<p>214200 rows × 40 columns</p>\n",
       "</div>"
      ],
      "text/plain": [
       "          date_block_num  shop_id  item_id  item_cnt_month        ID  \\\n",
       "10913804              34        5     5037             0.0       0.0   \n",
       "10913805              34        5     5320             0.0       1.0   \n",
       "10913806              34        5     5233             0.0       2.0   \n",
       "10913807              34        5     5232             0.0       3.0   \n",
       "10913808              34        5     5268             0.0       4.0   \n",
       "...                  ...      ...      ...             ...       ...   \n",
       "11127999              34       45    18454             0.0  214195.0   \n",
       "11128000              34       45    16188             0.0  214196.0   \n",
       "11128001              34       45    15757             0.0  214197.0   \n",
       "11128002              34       45    19648             0.0  214198.0   \n",
       "11128003              34       45      969             0.0  214199.0   \n",
       "\n",
       "          city_code  item_category_id  type_code  subtype_code  \\\n",
       "10913804          3                19          5            10   \n",
       "10913805          3                55         13             2   \n",
       "10913806          3                19          5            10   \n",
       "10913807          3                23          5            16   \n",
       "10913808          3                20          5            11   \n",
       "...             ...               ...        ...           ...   \n",
       "11127999         20                55         13             2   \n",
       "11128000         20                64         14            42   \n",
       "11128001         20                55         13             2   \n",
       "11128002         20                40         11             4   \n",
       "11128003         20                37         11             1   \n",
       "\n",
       "          item_cnt_month_lag_1  ...  date_type_avg_item_cnt_lag_1  \\\n",
       "10913804                   0.0  ...                      0.494141   \n",
       "10913805                   0.0  ...                      0.000000   \n",
       "10913806                   1.0  ...                      0.494141   \n",
       "10913807                   0.0  ...                      0.494141   \n",
       "10913808                   0.0  ...                      0.000000   \n",
       "...                        ...  ...                           ...   \n",
       "11127999                   1.0  ...                      0.146973   \n",
       "11128000                   0.0  ...                      0.237305   \n",
       "11128001                   0.0  ...                      0.146973   \n",
       "11128002                   0.0  ...                      0.224243   \n",
       "11128003                   0.0  ...                      0.224243   \n",
       "\n",
       "          date_subtype_avg_item_cnt_lag_1  delta_price_lag  \\\n",
       "10913804                         0.337402        -0.222046   \n",
       "10913805                         0.000000         0.000000   \n",
       "10913806                         0.337402         0.496826   \n",
       "10913807                         0.331787         0.505371   \n",
       "10913808                         0.000000         0.000000   \n",
       "...                                   ...              ...   \n",
       "11127999                         0.196899        -0.475098   \n",
       "11128000                         0.155884         0.081116   \n",
       "11128001                         0.196899         0.155884   \n",
       "11128002                         0.220825        -0.091736   \n",
       "11128003                         0.240967        -0.605957   \n",
       "\n",
       "          delta_revenue_lag_1  month  days  item_shop_last_sale  \\\n",
       "10913804            -0.048553     10    30                    1   \n",
       "10913805                  NaN     10    30                   -1   \n",
       "10913806            -0.048553     10    30                    1   \n",
       "10913807            -0.048553     10    30                    1   \n",
       "10913808                  NaN     10    30                   -1   \n",
       "...                       ...    ...   ...                  ...   \n",
       "11127999            -0.290039     10    30                    1   \n",
       "11128000            -0.290039     10    30                   -1   \n",
       "11128001            -0.290039     10    30                    1   \n",
       "11128002            -0.290039     10    30                   -1   \n",
       "11128003            -0.290039     10    30                    1   \n",
       "\n",
       "          item_last_sale  item_shop_first_sale  item_first_sale  \n",
       "10913804               1                    14               14  \n",
       "10913805              -1                     0                0  \n",
       "10913806               1                     7                7  \n",
       "10913807               1                     3                3  \n",
       "10913808              -1                     0                0  \n",
       "...                  ...                   ...              ...  \n",
       "11127999              -1                    11               11  \n",
       "11128000              -1                     2                2  \n",
       "11128001              -1                    34               34  \n",
       "11128002              -1                    11               11  \n",
       "11128003              -1                    17               17  \n",
       "\n",
       "[214200 rows x 40 columns]"
      ]
     },
     "execution_count": 53,
     "metadata": {},
     "output_type": "execute_result"
    }
   ],
   "source": [
    "data.loc[data['date_block_num'] == 34]"
   ]
  },
  {
   "cell_type": "code",
   "execution_count": null,
   "id": "swiss-stuff",
   "metadata": {},
   "outputs": [],
   "source": []
  },
  {
   "cell_type": "markdown",
   "id": "juvenile-radar",
   "metadata": {},
   "source": [
    "## 3) 데이터 시각화"
   ]
  },
  {
   "cell_type": "markdown",
   "id": "wrong-medicine",
   "metadata": {},
   "source": [
    "##### 전체 시기별 상품 판매량"
   ]
  },
  {
   "cell_type": "code",
   "execution_count": 12,
   "id": "seeing-filling",
   "metadata": {},
   "outputs": [
    {
     "data": {
      "image/png": "[encoded data removed]",
      "text/plain": [
       "<Figure size 1152x576 with 1 Axes>"
      ]
     },
     "metadata": {
      "needs_background": "light"
     },
     "output_type": "display_data"
    }
   ],
   "source": [
    "sell = train.groupby([\"date_block_num\"])[\"item_cnt_day\"].sum()\n",
    "sell.astype('float')\n",
    "\n",
    "plt.figure(figsize=(16,8))\n",
    "plt.title('Total Sales of the company')\n",
    "plt.xlabel('Time')\n",
    "plt.ylabel('Sales')\n",
    "plt.plot(sell);"
   ]
  },
  {
   "cell_type": "markdown",
   "id": "tired-group",
   "metadata": {},
   "source": [
    "* 판매량이 급등하는 시기가 매년 한번씩 존재하며, 전체적으로 판매량은 시간이 흐를수록 감소하는 추세를 보이고 있다."
   ]
  },
  {
   "cell_type": "code",
   "execution_count": 13,
   "id": "compatible-jewelry",
   "metadata": {},
   "outputs": [
    {
     "data": {
      "image/png": "[encoded data removed]",
      "text/plain": [
       "<Figure size 432x288 with 4 Axes>"
      ]
     },
     "metadata": {
      "needs_background": "light"
     },
     "output_type": "display_data"
    }
   ],
   "source": [
    "import statsmodels.api as sm\n",
    "# multiplicative\n",
    "res = sm.tsa.seasonal_decompose(sell.values,freq=12,model=\"multiplicative\")\n",
    "fig = res.plot()"
   ]
  },
  {
   "cell_type": "markdown",
   "id": "rising-designer",
   "metadata": {},
   "source": [
    "##### 연도별 상품 판매량     \n",
    "* 상단의 전체 시기별 판매량을 연도별로 나누어 비교해 보았을 때, 연도별로 비슷한 모양의 패턴을 보이고 있는 것을 뚜렷히 알 수 있다.   \n",
    "* y축의 판매량을 보았을 때, 매년 판매량이 감소하고 있는 것도 뚜렷히 알 수 있다.   \n",
    "* 결론적으로, 2015년 11월의 판매량 패턴을 예측할 수 있다."
   ]
  },
  {
   "cell_type": "code",
   "execution_count": 55,
   "id": "injured-providence",
   "metadata": {},
   "outputs": [],
   "source": [
    "train013=train[train.date_block_num <=11]\n",
    "train014=train.loc[(train['date_block_num'] > 11) & (train['date_block_num'] <= 23)]\n",
    "train015=train[train.date_block_num >23 ]"
   ]
  },
  {
   "cell_type": "code",
   "execution_count": 56,
   "id": "abroad-split",
   "metadata": {},
   "outputs": [
    {
     "data": {
      "text/plain": [
       "Text(0.5, 1.0, ' 2013 Item count per day, per Month')"
      ]
     },
     "execution_count": 56,
     "metadata": {},
     "output_type": "execute_result"
    },
    {
     "data": {
      "image/png": "[encoded data removed]",
      "text/plain": [
       "<Figure size 864x360 with 1 Axes>"
      ]
     },
     "metadata": {
      "needs_background": "light"
     },
     "output_type": "display_data"
    }
   ],
   "source": [
    "train013.groupby(train.date_block_num )['item_cnt_day'].sum().plot(figsize=(12, 5), color='peru')\n",
    "plt.ylabel('Item count')\n",
    "plt.title(\" 2013 Item count per day, per Month\", fontsize=18)"
   ]
  },
  {
   "cell_type": "code",
   "execution_count": 57,
   "id": "viral-shanghai",
   "metadata": {},
   "outputs": [
    {
     "data": {
      "text/plain": [
       "Text(0.5, 1.0, ' 2014 Item count per day, per Month')"
      ]
     },
     "execution_count": 57,
     "metadata": {},
     "output_type": "execute_result"
    },
    {
     "data": {
      "image/png": "[encoded data removed]",
      "text/plain": [
       "<Figure size 864x360 with 1 Axes>"
      ]
     },
     "metadata": {
      "needs_background": "light"
     },
     "output_type": "display_data"
    }
   ],
   "source": [
    "train014.groupby(train.date_block_num )['item_cnt_day'].sum().plot(figsize=(12, 5), color='peru')\n",
    "plt.ylabel('Item count')\n",
    "plt.title(\" 2014 Item count per day, per Month\", fontsize=18)"
   ]
  },
  {
   "cell_type": "code",
   "execution_count": 58,
   "id": "random-italian",
   "metadata": {},
   "outputs": [
    {
     "data": {
      "text/plain": [
       "Text(0.5, 1.0, ' 2015 Item count per day, per Month')"
      ]
     },
     "execution_count": 58,
     "metadata": {},
     "output_type": "execute_result"
    },
    {
     "data": {
      "image/png": "[encoded data removed]",
      "text/plain": [
       "<Figure size 864x360 with 1 Axes>"
      ]
     },
     "metadata": {
      "needs_background": "light"
     },
     "output_type": "display_data"
    }
   ],
   "source": [
    "train015.groupby(train.date_block_num )['item_cnt_day'].sum().plot(figsize=(12, 5), color='peru')\n",
    "plt.ylabel('Item count')\n",
    "plt.title(\" 2015 Item count per day, per Month\", fontsize=18)"
   ]
  },
  {
   "cell_type": "markdown",
   "id": "dominant-flower",
   "metadata": {},
   "source": [
    "##### 상품 카테고리별 아이템 종류 분포 히스토그램     \n",
    "* 어떠한 카테고리에 가장 많은 아이템이 분포하는지 확인하고, 해당하는 아이템 카테고리의 판매량을 비교하여 어떠한 관계를 가지는지 , 해당 카테고리가 많이 팔리는 지역 및 시기를 확인하여 해당 카테고리 상품을 추가적으로 생산하거나 개발할 수 있다."
   ]
  },
  {
   "cell_type": "code",
   "execution_count": 59,
   "id": "swiss-navigation",
   "metadata": {},
   "outputs": [
    {
     "data": {
      "image/png": "[encoded data removed]",
      "text/plain": [
       "<Figure size 576x432 with 1 Axes>"
      ]
     },
     "metadata": {
      "needs_background": "light"
     },
     "output_type": "display_data"
    }
   ],
   "source": [
    "# number of items per cat \n",
    "x = items.groupby(['item_category_id']).count()\n",
    "x = x.sort_values(by='item_id',ascending=False)\n",
    "x = x.iloc[0:10].reset_index()\n",
    "x\n",
    "\n",
    "# plot\n",
    "plt.figure(figsize=(8,6))\n",
    "ax = sns.barplot(x.item_category_id, x.item_id, alpha=0.8) # alpha 는 투명도\n",
    "\n",
    "plt.title(\"Items per Category\")\n",
    "plt.ylabel('# of items', fontsize=12)\n",
    "plt.xlabel('Category', fontsize=12)\n",
    "plt.show()"
   ]
  },
  {
   "cell_type": "markdown",
   "id": "reasonable-default",
   "metadata": {},
   "source": [
    "##### 지역코드별 판매량 비교 :: city_code    \n",
    "* shop.csv 파일을 상단 데이터 전처리 과정에서 city_code로 LabelEncoder한 수치형 라벨을 활용하여 판매량 시각화 가능   \n",
    "* city_code 0~30으로 총 31개의 도시로 구분되어 있음.   \n",
    "* 일별 상품 판매량을 합친 월별 상품 판매량으로 구분하여 그래프 생성   "
   ]
  },
  {
   "cell_type": "code",
   "execution_count": 4,
   "id": "julian-rabbit",
   "metadata": {},
   "outputs": [
    {
     "data": {
      "image/png": "[encoded data removed]",
      "text/plain": [
       "<Figure size 432x288 with 1 Axes>"
      ]
     },
     "metadata": {
      "needs_background": "light"
     },
     "output_type": "display_data"
    }
   ],
   "source": [
    "g = sns.barplot(data=data, x=\"city_code\", y=\"item_cnt_month\", ci=None)\n",
    "ax = g\n",
    "\n",
    "plt.xticks(fontsize=12, rotation=45)\n",
    "plt.show()"
   ]
  },
  {
   "cell_type": "markdown",
   "id": "coordinate-alliance",
   "metadata": {},
   "source": [
    "* 가장 판매량이 많은 도시는 city_code == 5인 곳이며, 한달 판매량이 가장 많은 도시에 위치하는 상점의 분포 및 추세를 확인할 수 있을 것이며, 판매량이 없는 곳은 지역별 상점의 유무를 확인하여 추가적으로 지역의 수요가 있는지 확인 가능하다."
   ]
  },
  {
   "cell_type": "markdown",
   "id": "inappropriate-optics",
   "metadata": {},
   "source": [
    "##### 상점별 판매량 비교 :: shop_id       \n",
    "* shop.csv 파일을 상단 데이터 전처리 과정에서 shop_id 로 LabelEncoder한 수치형 라벨을 활용하여 판매량 시각화 가능"
   ]
  },
  {
   "cell_type": "code",
   "execution_count": 5,
   "id": "collect-popularity",
   "metadata": {},
   "outputs": [
    {
     "data": {
      "image/png": "[encoded data removed]",
      "text/plain": [
       "<Figure size 432x288 with 1 Axes>"
      ]
     },
     "metadata": {
      "needs_background": "light"
     },
     "output_type": "display_data"
    }
   ],
   "source": [
    "g = sns.barplot(data=data, x=\"shop_id\", y=\"item_cnt_month\", ci=None)\n",
    "ax = g\n",
    "\n",
    "#plt.figure(figsize=(30, 8))\n",
    "plt.xticks(fontsize=5, rotation=45)\n",
    "plt.show()"
   ]
  },
  {
   "cell_type": "markdown",
   "id": "knowing-ceramic",
   "metadata": {},
   "source": [
    "* 가장 높은 판매량을 가지는 상점은 shop_id == 20   \n",
    "* 해당 상점만의 특성, 이벤트, 지역 특성, 소비자 유형을 파악하면 판매량이 높은 이유를 알 수 있다.    \n",
    "* 해당 상점에서 판매량에 해당하는 아이템 분포를 알 수 있다."
   ]
  },
  {
   "cell_type": "markdown",
   "id": "floating-birth",
   "metadata": {},
   "source": [
    "## 4) 모델 생성 / 학습 / 예측"
   ]
  },
  {
   "cell_type": "markdown",
   "id": "tested-mercy",
   "metadata": {},
   "source": [
    "### ① Baseline Model :: XGBRegressor "
   ]
  },
  {
   "cell_type": "markdown",
   "id": "clear-action",
   "metadata": {},
   "source": [
    "##### 모든 연산에 대하여 컬럼을 생성하여 최종 데이터를 가공했기 때문에 데이터 중 필요하지 않은 컬럼은 주석처리하여 모델 학습 진행"
   ]
  },
  {
   "cell_type": "code",
   "execution_count": 60,
   "id": "musical-design",
   "metadata": {},
   "outputs": [],
   "source": [
    "# 메모리 관리를 위해 garbage collection 진행\n",
    "del matrix\n",
    "gc.collect();"
   ]
  },
  {
   "cell_type": "code",
   "execution_count": 70,
   "id": "constitutional-tyler",
   "metadata": {},
   "outputs": [],
   "source": [
    "data = data[[\n",
    "    'date_block_num',\n",
    "    'shop_id',\n",
    "    'item_id',\n",
    "    'item_cnt_month',\n",
    "    'city_code',\n",
    "    'item_category_id',\n",
    "    'type_code',\n",
    "    'subtype_code',\n",
    "    'item_cnt_month_lag_1',\n",
    "    'item_cnt_month_lag_2',\n",
    "    'item_cnt_month_lag_3',\n",
    "    'item_cnt_month_lag_6',\n",
    "    'item_cnt_month_lag_12',\n",
    "    'date_avg_item_cnt_lag_1',\n",
    "    'date_item_avg_item_cnt_lag_1',\n",
    "    'date_item_avg_item_cnt_lag_2',\n",
    "    'date_item_avg_item_cnt_lag_3',\n",
    "    'date_item_avg_item_cnt_lag_6',\n",
    "    'date_item_avg_item_cnt_lag_12',\n",
    "    #'date_shop_avg_item_cnt_lag_1',\n",
    "    #'date_shop_avg_item_cnt_lag_2',\n",
    "    #'date_shop_avg_item_cnt_lag_3',\n",
    "    #'date_shop_avg_item_cnt_lag_6',\n",
    "    #'date_shop_avg_item_cnt_lag_12',\n",
    "    'date_cat_avg_item_cnt_lag_1',\n",
    "    #'date_shop_cat_avg_item_cnt_lag_1',\n",
    "    #'date_shop_type_avg_item_cnt_lag_1',\n",
    "    #'date_shop_subtype_avg_item_cnt_lag_1',\n",
    "    #'date_city_avg_item_cnt_lag_1',\n",
    "    #'date_type_avg_item_cnt_lag_1',\n",
    "    #'date_subtype_avg_item_cnt_lag_1',\n",
    "    'delta_price_lag',\n",
    "    'month',\n",
    "    'days',\n",
    "    'item_shop_last_sale',\n",
    "    'item_last_sale',\n",
    "    'item_shop_first_sale',\n",
    "    'item_first_sale'\n",
    "]]"
   ]
  },
  {
   "cell_type": "markdown",
   "id": "bridal-daughter",
   "metadata": {},
   "source": [
    "* 최종 train data에 포함되어 있는 '34'(test로 예측해야 하는 년/월)와 시계열 데이터의 특성 상 33~34의 흐름을 알아야 하기 때문에 이는 Validation data로 활용    \n",
    "* train은 33까지 분리하고, 33데이터는 Validation 으로 활용하여 test 데이터를 입력했을 때 예측할 수 있도록 함."
   ]
  },
  {
   "cell_type": "code",
   "execution_count": 71,
   "id": "verified-alloy",
   "metadata": {},
   "outputs": [],
   "source": [
    "X_train = data[data.date_block_num < 33].drop(['item_cnt_month'], axis=1)\n",
    "Y_train = data[data.date_block_num < 33]['item_cnt_month']\n",
    "X_valid = data[data.date_block_num == 33].drop(['item_cnt_month'], axis=1)\n",
    "Y_valid = data[data.date_block_num == 33]['item_cnt_month']\n",
    "X_test = data[data.date_block_num == 34].drop(['item_cnt_month'], axis=1)"
   ]
  },
  {
   "cell_type": "markdown",
   "id": "certain-unemployment",
   "metadata": {},
   "source": [
    "##### 모델 생성 및 학습 진행 :: XGBRegressor 사용"
   ]
  },
  {
   "cell_type": "code",
   "execution_count": 72,
   "id": "understood-reflection",
   "metadata": {
    "scrolled": true
   },
   "outputs": [
    {
     "name": "stdout",
     "output_type": "stream",
     "text": [
      "[0]\tvalidation_0-rmse:1.05240\tvalidation_1-rmse:1.04130\n",
      "[1]\tvalidation_0-rmse:0.96568\tvalidation_1-rmse:0.97828\n",
      "[2]\tvalidation_0-rmse:0.91817\tvalidation_1-rmse:0.94986\n",
      "[3]\tvalidation_0-rmse:0.89045\tvalidation_1-rmse:0.93582\n",
      "[4]\tvalidation_0-rmse:0.87443\tvalidation_1-rmse:0.92775\n",
      "[5]\tvalidation_0-rmse:0.86316\tvalidation_1-rmse:0.92396\n",
      "[6]\tvalidation_0-rmse:0.85484\tvalidation_1-rmse:0.92180\n",
      "[7]\tvalidation_0-rmse:0.84897\tvalidation_1-rmse:0.91745\n",
      "[8]\tvalidation_0-rmse:0.84439\tvalidation_1-rmse:0.91732\n",
      "[9]\tvalidation_0-rmse:0.84011\tvalidation_1-rmse:0.91497\n",
      "[10]\tvalidation_0-rmse:0.83758\tvalidation_1-rmse:0.91502\n",
      "[11]\tvalidation_0-rmse:0.83416\tvalidation_1-rmse:0.91357\n",
      "[12]\tvalidation_0-rmse:0.83222\tvalidation_1-rmse:0.91286\n",
      "[13]\tvalidation_0-rmse:0.82930\tvalidation_1-rmse:0.91140\n",
      "[14]\tvalidation_0-rmse:0.82790\tvalidation_1-rmse:0.91147\n",
      "[15]\tvalidation_0-rmse:0.82675\tvalidation_1-rmse:0.91096\n",
      "[16]\tvalidation_0-rmse:0.82530\tvalidation_1-rmse:0.91176\n",
      "[17]\tvalidation_0-rmse:0.82254\tvalidation_1-rmse:0.90825\n",
      "[18]\tvalidation_0-rmse:0.82200\tvalidation_1-rmse:0.90766\n",
      "[19]\tvalidation_0-rmse:0.82124\tvalidation_1-rmse:0.90732\n",
      "[20]\tvalidation_0-rmse:0.81821\tvalidation_1-rmse:0.90751\n",
      "[21]\tvalidation_0-rmse:0.81727\tvalidation_1-rmse:0.90926\n",
      "[22]\tvalidation_0-rmse:0.81636\tvalidation_1-rmse:0.90867\n",
      "[23]\tvalidation_0-rmse:0.81554\tvalidation_1-rmse:0.90851\n",
      "[24]\tvalidation_0-rmse:0.81387\tvalidation_1-rmse:0.90911\n",
      "[25]\tvalidation_0-rmse:0.81143\tvalidation_1-rmse:0.91453\n",
      "[26]\tvalidation_0-rmse:0.81093\tvalidation_1-rmse:0.91403\n",
      "[27]\tvalidation_0-rmse:0.81017\tvalidation_1-rmse:0.91427\n",
      "[28]\tvalidation_0-rmse:0.80935\tvalidation_1-rmse:0.91412\n",
      "[29]\tvalidation_0-rmse:0.80832\tvalidation_1-rmse:0.91369\n"
     ]
    },
    {
     "data": {
      "text/plain": [
       "117.54389953613281"
      ]
     },
     "execution_count": 72,
     "metadata": {},
     "output_type": "execute_result"
    }
   ],
   "source": [
    "ts = time.time()\n",
    "\n",
    "model = XGBRegressor(\n",
    "    max_depth=8,\n",
    "    n_estimators=1000,\n",
    "    min_child_weight=300, \n",
    "    colsample_bytree=0.8, \n",
    "    subsample=0.8, \n",
    "    eta=0.3,    \n",
    "    seed=42)\n",
    "\n",
    "model.fit(\n",
    "    X_train, \n",
    "    Y_train, \n",
    "    eval_metric=\"rmse\", \n",
    "    eval_set=[(X_train, Y_train), (X_valid, Y_valid)], \n",
    "    verbose=True, \n",
    "    early_stopping_rounds = 10)\n",
    "\n",
    "time.time() - ts"
   ]
  },
  {
   "cell_type": "markdown",
   "id": "floppy-tennessee",
   "metadata": {},
   "source": [
    "##### 모델 예측"
   ]
  },
  {
   "cell_type": "code",
   "execution_count": 73,
   "id": "valuable-sussex",
   "metadata": {},
   "outputs": [],
   "source": [
    "Y_pred = model.predict(X_valid).clip(0, 20)\n",
    "Y_test = model.predict(X_test).clip(0, 20)\n",
    "\n",
    "submission = pd.DataFrame({\n",
    "    \"ID\": test.index, \n",
    "    \"item_cnt_month\": Y_test\n",
    "})\n",
    "submission.to_csv('xgb_submission_RMSE_90732.csv', index=False)"
   ]
  },
  {
   "cell_type": "markdown",
   "id": "excess-campaign",
   "metadata": {},
   "source": [
    "##### 모델을 학습하면서 데이터 간의 가양 영향을 많이 미친 컬럼(특징)을 순서대로 시각화 해주는 함수 정의"
   ]
  },
  {
   "cell_type": "code",
   "execution_count": 74,
   "id": "detailed-porter",
   "metadata": {},
   "outputs": [],
   "source": [
    "def plot_features(booster, figsize):    \n",
    "    fig, ax = plt.subplots(1,1,figsize=figsize)\n",
    "    return plot_importance(booster=booster, ax=ax)"
   ]
  },
  {
   "cell_type": "code",
   "execution_count": 75,
   "id": "excited-relative",
   "metadata": {
    "scrolled": true
   },
   "outputs": [
    {
     "data": {
      "text/plain": [
       "<AxesSubplot:title={'center':'Feature importance'}, xlabel='F score', ylabel='Features'>"
      ]
     },
     "execution_count": 75,
     "metadata": {},
     "output_type": "execute_result"
    },
    {
     "data": {
      "image/png": "[encoded data removed]",
      "text/plain": [
       "<Figure size 720x1008 with 1 Axes>"
      ]
     },
     "metadata": {
      "needs_background": "light"
     },
     "output_type": "display_data"
    }
   ],
   "source": [
    "plot_features(model, (10,14))"
   ]
  },
  {
   "cell_type": "markdown",
   "id": "foreign-heritage",
   "metadata": {},
   "source": [
    "##### 최종 예측 결과 저장"
   ]
  },
  {
   "cell_type": "code",
   "execution_count": 76,
   "id": "addressed-brighton",
   "metadata": {},
   "outputs": [],
   "source": [
    "# save predictions for an ensemble\n",
    "pickle.dump(Y_pred, open('xgb_train_90732.pickle', 'wb'))\n",
    "pickle.dump(Y_test, open('xgb_test_90732.pickle', 'wb'))"
   ]
  },
  {
   "cell_type": "markdown",
   "id": "lasting-savings",
   "metadata": {},
   "source": [
    "### Optuna를 이용한 Hyperparameter 최적화"
   ]
  },
  {
   "cell_type": "code",
   "execution_count": 80,
   "id": "chemical-retention",
   "metadata": {},
   "outputs": [],
   "source": [
    "import optuna\n",
    "from sklearn.metrics import mean_squared_error"
   ]
  },
  {
   "cell_type": "code",
   "execution_count": 78,
   "id": "dutch-tyler",
   "metadata": {},
   "outputs": [],
   "source": [
    "def objective(trial):\n",
    "    \n",
    "    data = pd.read_pickle('data.pkl')\n",
    "    \n",
    "    train_x = data[data.date_block_num < 33].drop(['item_cnt_month'], axis=1)\n",
    "    train_y = data[data.date_block_num < 33]['item_cnt_month']\n",
    "    test_x = data[data.date_block_num == 33].drop(['item_cnt_month'], axis=1)\n",
    "    test_y = data[data.date_block_num == 33]['item_cnt_month']\n",
    "    \n",
    "    \n",
    "    # To select which parameters to optimize, please look at the XGBoost documentation:\n",
    "    # https://xgboost.readthedocs.io/en/latest/parameter.html\n",
    "    param = {\n",
    "        'tree_method':'gpu_hist',  # Use GPU acceleration\n",
    "        'lambda': trial.suggest_loguniform(\n",
    "            'lambda', 1e-3, 10.0\n",
    "        ),\n",
    "        'alpha': trial.suggest_loguniform(\n",
    "            'alpha', 1e-3, 10.0\n",
    "        ),\n",
    "        'colsample_bytree': trial.suggest_categorical(\n",
    "            'colsample_bytree', [0.5,0.6,0.7,0.8,0.9,1.0]\n",
    "        ),\n",
    "        'subsample': trial.suggest_categorical(\n",
    "            'subsample', [0.6,0.7,0.8,1.0]\n",
    "        ),\n",
    "        'learning_rate': trial.suggest_categorical(\n",
    "            'learning_rate', [0.018, 0.02, 0.021, 0.023, 0.025, 0.027]\n",
    "        ),\n",
    "        'n_estimators': trial.suggest_categorical(\n",
    "            \"n_estimators\", [400, 600, 800, 1000, 1200, 1600]\n",
    "        ),\n",
    "        'max_depth': trial.suggest_categorical(\n",
    "            'max_depth', [11,13,15,17,19]\n",
    "        ),\n",
    "        'random_state': 42,\n",
    "        'min_child_weight': trial.suggest_int(\n",
    "            'min_child_weight', 1, 300\n",
    "        ),\n",
    "    }\n",
    "    model = XGBRegressor(**param)  \n",
    "    \n",
    "    model.fit(train_x,train_y,eval_set=[(test_x,test_y)],early_stopping_rounds=100,verbose=False)\n",
    "    \n",
    "    preds = model.predict(test_x)\n",
    "    \n",
    "    rmse = mean_squared_error(test_y, preds,squared=False)\n",
    "    \n",
    "    return rmse\n"
   ]
  },
  {
   "cell_type": "code",
   "execution_count": 81,
   "id": "surprising-boring",
   "metadata": {},
   "outputs": [
    {
     "name": "stderr",
     "output_type": "stream",
     "text": [
      "\u001b[32m[I 2021-02-10 11:03:04,793]\u001b[0m A new study created in memory with name: no-name-4d09776a-0fae-4914-a53b-c3fe50aa700f\u001b[0m\n",
      "\u001b[32m[I 2021-02-10 11:05:01,272]\u001b[0m Trial 0 finished with value: 0.8895706534385681 and parameters: {'lambda': 0.00783766714751088, 'alpha': 0.020628036007110023, 'colsample_bytree': 0.5, 'subsample': 0.7, 'learning_rate': 0.023, 'n_estimators': 400, 'max_depth': 17, 'min_child_weight': 216}. Best is trial 0 with value: 0.8895706534385681.\u001b[0m\n",
      "\u001b[32m[I 2021-02-10 11:12:30,295]\u001b[0m Trial 1 finished with value: 0.9026198983192444 and parameters: {'lambda': 0.19268190754733022, 'alpha': 0.16464351415512204, 'colsample_bytree': 0.5, 'subsample': 0.7, 'learning_rate': 0.018, 'n_estimators': 600, 'max_depth': 17, 'min_child_weight': 7}. Best is trial 0 with value: 0.8895706534385681.\u001b[0m\n",
      "\u001b[32m[I 2021-02-10 11:13:42,428]\u001b[0m Trial 2 finished with value: 0.8986179828643799 and parameters: {'lambda': 9.567894462550752, 'alpha': 0.007014754541677076, 'colsample_bytree': 0.7, 'subsample': 1.0, 'learning_rate': 0.02, 'n_estimators': 1200, 'max_depth': 13, 'min_child_weight': 194}. Best is trial 0 with value: 0.8895706534385681.\u001b[0m\n",
      "\u001b[32m[I 2021-02-10 11:14:27,749]\u001b[0m Trial 3 finished with value: 0.9002985954284668 and parameters: {'lambda': 1.7335664869669813, 'alpha': 0.9903063311901527, 'colsample_bytree': 0.7, 'subsample': 0.7, 'learning_rate': 0.027, 'n_estimators': 1000, 'max_depth': 11, 'min_child_weight': 80}. Best is trial 0 with value: 0.8895706534385681.\u001b[0m\n",
      "\u001b[32m[I 2021-02-10 11:15:37,258]\u001b[0m Trial 4 finished with value: 0.8974436521530151 and parameters: {'lambda': 0.0049554711779455154, 'alpha': 0.004653107521163406, 'colsample_bytree': 0.7, 'subsample': 0.6, 'learning_rate': 0.018, 'n_estimators': 600, 'max_depth': 13, 'min_child_weight': 132}. Best is trial 0 with value: 0.8895706534385681.\u001b[0m\n",
      "\u001b[32m[I 2021-02-10 11:16:53,199]\u001b[0m Trial 5 finished with value: 0.8954391479492188 and parameters: {'lambda': 0.0017979177715004547, 'alpha': 0.022449618610356353, 'colsample_bytree': 0.7, 'subsample': 0.7, 'learning_rate': 0.02, 'n_estimators': 600, 'max_depth': 13, 'min_child_weight': 188}. Best is trial 0 with value: 0.8895706534385681.\u001b[0m\n",
      "\u001b[32m[I 2021-02-10 11:17:39,208]\u001b[0m Trial 6 finished with value: 0.8970022797584534 and parameters: {'lambda': 0.005954284227751196, 'alpha': 0.001490624863440358, 'colsample_bytree': 0.9, 'subsample': 0.8, 'learning_rate': 0.025, 'n_estimators': 1000, 'max_depth': 11, 'min_child_weight': 225}. Best is trial 0 with value: 0.8895706534385681.\u001b[0m\n",
      "\u001b[32m[I 2021-02-10 11:18:39,603]\u001b[0m Trial 7 finished with value: 0.8959394097328186 and parameters: {'lambda': 0.21092551214803634, 'alpha': 0.019215201265837208, 'colsample_bytree': 0.5, 'subsample': 1.0, 'learning_rate': 0.018, 'n_estimators': 600, 'max_depth': 11, 'min_child_weight': 88}. Best is trial 0 with value: 0.8895706534385681.\u001b[0m\n",
      "\u001b[32m[I 2021-02-10 11:19:30,272]\u001b[0m Trial 8 finished with value: 0.9030324816703796 and parameters: {'lambda': 0.0356239296163074, 'alpha': 0.017163119788826106, 'colsample_bytree': 1.0, 'subsample': 0.7, 'learning_rate': 0.021, 'n_estimators': 400, 'max_depth': 11, 'min_child_weight': 296}. Best is trial 0 with value: 0.8895706534385681.\u001b[0m\n",
      "\u001b[32m[I 2021-02-10 11:20:19,620]\u001b[0m Trial 9 finished with value: 0.899737536907196 and parameters: {'lambda': 0.0038602865064242217, 'alpha': 0.645098228277245, 'colsample_bytree': 0.6, 'subsample': 1.0, 'learning_rate': 0.027, 'n_estimators': 1000, 'max_depth': 11, 'min_child_weight': 194}. Best is trial 0 with value: 0.8895706534385681.\u001b[0m\n"
     ]
    },
    {
     "name": "stdout",
     "output_type": "stream",
     "text": [
      "Number of finished trials: 10\n",
      "Best trial: {'lambda': 0.00783766714751088, 'alpha': 0.020628036007110023, 'colsample_bytree': 0.5, 'subsample': 0.7, 'learning_rate': 0.023, 'n_estimators': 400, 'max_depth': 17, 'min_child_weight': 216}\n"
     ]
    }
   ],
   "source": [
    "study = optuna.create_study(direction='minimize')\n",
    "study.optimize(objective, n_trials=10)\n",
    "print('Number of finished trials:', len(study.trials))\n",
    "print('Best trial:', study.best_trial.params)"
   ]
  },
  {
   "cell_type": "code",
   "execution_count": 82,
   "id": "editorial-origin",
   "metadata": {},
   "outputs": [
    {
     "data": {
      "text/html": [
       "<div>\n",
       "<style scoped>\n",
       "    .dataframe tbody tr th:only-of-type {\n",
       "        vertical-align: middle;\n",
       "    }\n",
       "\n",
       "    .dataframe tbody tr th {\n",
       "        vertical-align: top;\n",
       "    }\n",
       "\n",
       "    .dataframe thead th {\n",
       "        text-align: right;\n",
       "    }\n",
       "</style>\n",
       "<table border=\"1\" class=\"dataframe\">\n",
       "  <thead>\n",
       "    <tr style=\"text-align: right;\">\n",
       "      <th></th>\n",
       "      <th>number</th>\n",
       "      <th>value</th>\n",
       "      <th>datetime_start</th>\n",
       "      <th>datetime_complete</th>\n",
       "      <th>duration</th>\n",
       "      <th>params_alpha</th>\n",
       "      <th>params_colsample_bytree</th>\n",
       "      <th>params_lambda</th>\n",
       "      <th>params_learning_rate</th>\n",
       "      <th>params_max_depth</th>\n",
       "      <th>params_min_child_weight</th>\n",
       "      <th>params_n_estimators</th>\n",
       "      <th>params_subsample</th>\n",
       "      <th>state</th>\n",
       "    </tr>\n",
       "  </thead>\n",
       "  <tbody>\n",
       "    <tr>\n",
       "      <th>0</th>\n",
       "      <td>0</td>\n",
       "      <td>0.889571</td>\n",
       "      <td>2021-02-10 11:03:04.794150</td>\n",
       "      <td>2021-02-10 11:05:01.271525</td>\n",
       "      <td>0 days 00:01:56.477375</td>\n",
       "      <td>0.020628</td>\n",
       "      <td>0.5</td>\n",
       "      <td>0.007838</td>\n",
       "      <td>0.023</td>\n",
       "      <td>17</td>\n",
       "      <td>216</td>\n",
       "      <td>400</td>\n",
       "      <td>0.7</td>\n",
       "      <td>COMPLETE</td>\n",
       "    </tr>\n",
       "    <tr>\n",
       "      <th>5</th>\n",
       "      <td>5</td>\n",
       "      <td>0.895439</td>\n",
       "      <td>2021-02-10 11:15:37.258463</td>\n",
       "      <td>2021-02-10 11:16:53.198927</td>\n",
       "      <td>0 days 00:01:15.940464</td>\n",
       "      <td>0.022450</td>\n",
       "      <td>0.7</td>\n",
       "      <td>0.001798</td>\n",
       "      <td>0.020</td>\n",
       "      <td>13</td>\n",
       "      <td>188</td>\n",
       "      <td>600</td>\n",
       "      <td>0.7</td>\n",
       "      <td>COMPLETE</td>\n",
       "    </tr>\n",
       "    <tr>\n",
       "      <th>7</th>\n",
       "      <td>7</td>\n",
       "      <td>0.895939</td>\n",
       "      <td>2021-02-10 11:17:39.209212</td>\n",
       "      <td>2021-02-10 11:18:39.602114</td>\n",
       "      <td>0 days 00:01:00.392902</td>\n",
       "      <td>0.019215</td>\n",
       "      <td>0.5</td>\n",
       "      <td>0.210926</td>\n",
       "      <td>0.018</td>\n",
       "      <td>11</td>\n",
       "      <td>88</td>\n",
       "      <td>600</td>\n",
       "      <td>1.0</td>\n",
       "      <td>COMPLETE</td>\n",
       "    </tr>\n",
       "    <tr>\n",
       "      <th>6</th>\n",
       "      <td>6</td>\n",
       "      <td>0.897002</td>\n",
       "      <td>2021-02-10 11:16:53.199929</td>\n",
       "      <td>2021-02-10 11:17:39.208210</td>\n",
       "      <td>0 days 00:00:46.008281</td>\n",
       "      <td>0.001491</td>\n",
       "      <td>0.9</td>\n",
       "      <td>0.005954</td>\n",
       "      <td>0.025</td>\n",
       "      <td>11</td>\n",
       "      <td>225</td>\n",
       "      <td>1000</td>\n",
       "      <td>0.8</td>\n",
       "      <td>COMPLETE</td>\n",
       "    </tr>\n",
       "    <tr>\n",
       "      <th>4</th>\n",
       "      <td>4</td>\n",
       "      <td>0.897444</td>\n",
       "      <td>2021-02-10 11:14:27.749199</td>\n",
       "      <td>2021-02-10 11:15:37.257459</td>\n",
       "      <td>0 days 00:01:09.508260</td>\n",
       "      <td>0.004653</td>\n",
       "      <td>0.7</td>\n",
       "      <td>0.004955</td>\n",
       "      <td>0.018</td>\n",
       "      <td>13</td>\n",
       "      <td>132</td>\n",
       "      <td>600</td>\n",
       "      <td>0.6</td>\n",
       "      <td>COMPLETE</td>\n",
       "    </tr>\n",
       "    <tr>\n",
       "      <th>2</th>\n",
       "      <td>2</td>\n",
       "      <td>0.898618</td>\n",
       "      <td>2021-02-10 11:12:30.296177</td>\n",
       "      <td>2021-02-10 11:13:42.428617</td>\n",
       "      <td>0 days 00:01:12.132440</td>\n",
       "      <td>0.007015</td>\n",
       "      <td>0.7</td>\n",
       "      <td>9.567894</td>\n",
       "      <td>0.020</td>\n",
       "      <td>13</td>\n",
       "      <td>194</td>\n",
       "      <td>1200</td>\n",
       "      <td>1.0</td>\n",
       "      <td>COMPLETE</td>\n",
       "    </tr>\n",
       "    <tr>\n",
       "      <th>9</th>\n",
       "      <td>9</td>\n",
       "      <td>0.899738</td>\n",
       "      <td>2021-02-10 11:19:30.273110</td>\n",
       "      <td>2021-02-10 11:20:19.619515</td>\n",
       "      <td>0 days 00:00:49.346405</td>\n",
       "      <td>0.645098</td>\n",
       "      <td>0.6</td>\n",
       "      <td>0.003860</td>\n",
       "      <td>0.027</td>\n",
       "      <td>11</td>\n",
       "      <td>194</td>\n",
       "      <td>1000</td>\n",
       "      <td>1.0</td>\n",
       "      <td>COMPLETE</td>\n",
       "    </tr>\n",
       "    <tr>\n",
       "      <th>3</th>\n",
       "      <td>3</td>\n",
       "      <td>0.900299</td>\n",
       "      <td>2021-02-10 11:13:42.429617</td>\n",
       "      <td>2021-02-10 11:14:27.748199</td>\n",
       "      <td>0 days 00:00:45.318582</td>\n",
       "      <td>0.990306</td>\n",
       "      <td>0.7</td>\n",
       "      <td>1.733566</td>\n",
       "      <td>0.027</td>\n",
       "      <td>11</td>\n",
       "      <td>80</td>\n",
       "      <td>1000</td>\n",
       "      <td>0.7</td>\n",
       "      <td>COMPLETE</td>\n",
       "    </tr>\n",
       "    <tr>\n",
       "      <th>1</th>\n",
       "      <td>1</td>\n",
       "      <td>0.902620</td>\n",
       "      <td>2021-02-10 11:05:01.273525</td>\n",
       "      <td>2021-02-10 11:12:30.294175</td>\n",
       "      <td>0 days 00:07:29.020650</td>\n",
       "      <td>0.164644</td>\n",
       "      <td>0.5</td>\n",
       "      <td>0.192682</td>\n",
       "      <td>0.018</td>\n",
       "      <td>17</td>\n",
       "      <td>7</td>\n",
       "      <td>600</td>\n",
       "      <td>0.7</td>\n",
       "      <td>COMPLETE</td>\n",
       "    </tr>\n",
       "    <tr>\n",
       "      <th>8</th>\n",
       "      <td>8</td>\n",
       "      <td>0.903032</td>\n",
       "      <td>2021-02-10 11:18:39.603113</td>\n",
       "      <td>2021-02-10 11:19:30.271110</td>\n",
       "      <td>0 days 00:00:50.667997</td>\n",
       "      <td>0.017163</td>\n",
       "      <td>1.0</td>\n",
       "      <td>0.035624</td>\n",
       "      <td>0.021</td>\n",
       "      <td>11</td>\n",
       "      <td>296</td>\n",
       "      <td>400</td>\n",
       "      <td>0.7</td>\n",
       "      <td>COMPLETE</td>\n",
       "    </tr>\n",
       "  </tbody>\n",
       "</table>\n",
       "</div>"
      ],
      "text/plain": [
       "   number     value             datetime_start          datetime_complete  \\\n",
       "0       0  0.889571 2021-02-10 11:03:04.794150 2021-02-10 11:05:01.271525   \n",
       "5       5  0.895439 2021-02-10 11:15:37.258463 2021-02-10 11:16:53.198927   \n",
       "7       7  0.895939 2021-02-10 11:17:39.209212 2021-02-10 11:18:39.602114   \n",
       "6       6  0.897002 2021-02-10 11:16:53.199929 2021-02-10 11:17:39.208210   \n",
       "4       4  0.897444 2021-02-10 11:14:27.749199 2021-02-10 11:15:37.257459   \n",
       "2       2  0.898618 2021-02-10 11:12:30.296177 2021-02-10 11:13:42.428617   \n",
       "9       9  0.899738 2021-02-10 11:19:30.273110 2021-02-10 11:20:19.619515   \n",
       "3       3  0.900299 2021-02-10 11:13:42.429617 2021-02-10 11:14:27.748199   \n",
       "1       1  0.902620 2021-02-10 11:05:01.273525 2021-02-10 11:12:30.294175   \n",
       "8       8  0.903032 2021-02-10 11:18:39.603113 2021-02-10 11:19:30.271110   \n",
       "\n",
       "                duration  params_alpha  params_colsample_bytree  \\\n",
       "0 0 days 00:01:56.477375      0.020628                      0.5   \n",
       "5 0 days 00:01:15.940464      0.022450                      0.7   \n",
       "7 0 days 00:01:00.392902      0.019215                      0.5   \n",
       "6 0 days 00:00:46.008281      0.001491                      0.9   \n",
       "4 0 days 00:01:09.508260      0.004653                      0.7   \n",
       "2 0 days 00:01:12.132440      0.007015                      0.7   \n",
       "9 0 days 00:00:49.346405      0.645098                      0.6   \n",
       "3 0 days 00:00:45.318582      0.990306                      0.7   \n",
       "1 0 days 00:07:29.020650      0.164644                      0.5   \n",
       "8 0 days 00:00:50.667997      0.017163                      1.0   \n",
       "\n",
       "   params_lambda  params_learning_rate  params_max_depth  \\\n",
       "0       0.007838                 0.023                17   \n",
       "5       0.001798                 0.020                13   \n",
       "7       0.210926                 0.018                11   \n",
       "6       0.005954                 0.025                11   \n",
       "4       0.004955                 0.018                13   \n",
       "2       9.567894                 0.020                13   \n",
       "9       0.003860                 0.027                11   \n",
       "3       1.733566                 0.027                11   \n",
       "1       0.192682                 0.018                17   \n",
       "8       0.035624                 0.021                11   \n",
       "\n",
       "   params_min_child_weight  params_n_estimators  params_subsample     state  \n",
       "0                      216                  400               0.7  COMPLETE  \n",
       "5                      188                  600               0.7  COMPLETE  \n",
       "7                       88                  600               1.0  COMPLETE  \n",
       "6                      225                 1000               0.8  COMPLETE  \n",
       "4                      132                  600               0.6  COMPLETE  \n",
       "2                      194                 1200               1.0  COMPLETE  \n",
       "9                      194                 1000               1.0  COMPLETE  \n",
       "3                       80                 1000               0.7  COMPLETE  \n",
       "1                        7                  600               0.7  COMPLETE  \n",
       "8                      296                  400               0.7  COMPLETE  "
      ]
     },
     "execution_count": 82,
     "metadata": {},
     "output_type": "execute_result"
    }
   ],
   "source": [
    "study.trials_dataframe().sort_values(['value'])"
   ]
  },
  {
   "cell_type": "code",
   "execution_count": 83,
   "id": "cardiovascular-scale",
   "metadata": {},
   "outputs": [
    {
     "data": {
      "text/plain": [
       "{'lambda': 0.00783766714751088,\n",
       " 'alpha': 0.020628036007110023,\n",
       " 'colsample_bytree': 0.5,\n",
       " 'subsample': 0.7,\n",
       " 'learning_rate': 0.023,\n",
       " 'n_estimators': 400,\n",
       " 'max_depth': 17,\n",
       " 'min_child_weight': 216}"
      ]
     },
     "execution_count": 83,
     "metadata": {},
     "output_type": "execute_result"
    }
   ],
   "source": [
    "study.best_params"
   ]
  },
  {
   "cell_type": "code",
   "execution_count": 84,
   "id": "educated-hybrid",
   "metadata": {},
   "outputs": [],
   "source": [
    "best_params = study.best_params\n",
    "best_params['tree_method'] = 'gpu_hist'\n",
    "best_params['random_state'] = 42\n",
    "\n",
    "clf = XGBRegressor(**(best_params))"
   ]
  },
  {
   "cell_type": "code",
   "execution_count": 85,
   "id": "agricultural-material",
   "metadata": {},
   "outputs": [
    {
     "name": "stdout",
     "output_type": "stream",
     "text": [
      "[0]\tvalidation_0-rmse:1.19404\tvalidation_1-rmse:1.15210\n",
      "[1]\tvalidation_0-rmse:1.18122\tvalidation_1-rmse:1.14144\n",
      "[2]\tvalidation_0-rmse:1.16919\tvalidation_1-rmse:1.13189\n",
      "[3]\tvalidation_0-rmse:1.15861\tvalidation_1-rmse:1.12357\n",
      "[4]\tvalidation_0-rmse:1.14696\tvalidation_1-rmse:1.11450\n",
      "[5]\tvalidation_0-rmse:1.13641\tvalidation_1-rmse:1.10698\n",
      "[6]\tvalidation_0-rmse:1.12760\tvalidation_1-rmse:1.09962\n",
      "[7]\tvalidation_0-rmse:1.11664\tvalidation_1-rmse:1.09125\n",
      "[8]\tvalidation_0-rmse:1.10623\tvalidation_1-rmse:1.08356\n",
      "[9]\tvalidation_0-rmse:1.09627\tvalidation_1-rmse:1.07626\n",
      "[10]\tvalidation_0-rmse:1.08684\tvalidation_1-rmse:1.06912\n",
      "[11]\tvalidation_0-rmse:1.07774\tvalidation_1-rmse:1.06255\n",
      "[12]\tvalidation_0-rmse:1.06917\tvalidation_1-rmse:1.05624\n",
      "[13]\tvalidation_0-rmse:1.06207\tvalidation_1-rmse:1.05117\n",
      "[14]\tvalidation_0-rmse:1.05340\tvalidation_1-rmse:1.04447\n",
      "[15]\tvalidation_0-rmse:1.04581\tvalidation_1-rmse:1.03888\n",
      "[16]\tvalidation_0-rmse:1.03742\tvalidation_1-rmse:1.03251\n",
      "[17]\tvalidation_0-rmse:1.03002\tvalidation_1-rmse:1.02705\n",
      "[18]\tvalidation_0-rmse:1.02258\tvalidation_1-rmse:1.02169\n",
      "[19]\tvalidation_0-rmse:1.01549\tvalidation_1-rmse:1.01673\n",
      "[20]\tvalidation_0-rmse:1.01082\tvalidation_1-rmse:1.01293\n",
      "[21]\tvalidation_0-rmse:1.00378\tvalidation_1-rmse:1.00781\n",
      "[22]\tvalidation_0-rmse:0.99786\tvalidation_1-rmse:1.00371\n",
      "[23]\tvalidation_0-rmse:0.99224\tvalidation_1-rmse:1.00002\n",
      "[24]\tvalidation_0-rmse:0.98751\tvalidation_1-rmse:0.99657\n",
      "[25]\tvalidation_0-rmse:0.98199\tvalidation_1-rmse:0.99283\n",
      "[26]\tvalidation_0-rmse:0.97589\tvalidation_1-rmse:0.98859\n",
      "[27]\tvalidation_0-rmse:0.96966\tvalidation_1-rmse:0.98417\n",
      "[28]\tvalidation_0-rmse:0.96459\tvalidation_1-rmse:0.98084\n",
      "[29]\tvalidation_0-rmse:0.95930\tvalidation_1-rmse:0.97719\n",
      "[30]\tvalidation_0-rmse:0.95417\tvalidation_1-rmse:0.97359\n",
      "[31]\tvalidation_0-rmse:0.94979\tvalidation_1-rmse:0.97038\n",
      "[32]\tvalidation_0-rmse:0.94534\tvalidation_1-rmse:0.96769\n",
      "[33]\tvalidation_0-rmse:0.94050\tvalidation_1-rmse:0.96453\n",
      "[34]\tvalidation_0-rmse:0.93592\tvalidation_1-rmse:0.96150\n",
      "[35]\tvalidation_0-rmse:0.93151\tvalidation_1-rmse:0.95864\n",
      "[36]\tvalidation_0-rmse:0.92695\tvalidation_1-rmse:0.95562\n",
      "[37]\tvalidation_0-rmse:0.92378\tvalidation_1-rmse:0.95308\n",
      "[38]\tvalidation_0-rmse:0.91958\tvalidation_1-rmse:0.95014\n",
      "[39]\tvalidation_0-rmse:0.91530\tvalidation_1-rmse:0.94806\n",
      "[40]\tvalidation_0-rmse:0.91160\tvalidation_1-rmse:0.94570\n",
      "[41]\tvalidation_0-rmse:0.90821\tvalidation_1-rmse:0.94361\n",
      "[42]\tvalidation_0-rmse:0.90471\tvalidation_1-rmse:0.94154\n",
      "[43]\tvalidation_0-rmse:0.90143\tvalidation_1-rmse:0.93978\n",
      "[44]\tvalidation_0-rmse:0.89843\tvalidation_1-rmse:0.93832\n",
      "[45]\tvalidation_0-rmse:0.89534\tvalidation_1-rmse:0.93656\n",
      "[46]\tvalidation_0-rmse:0.89242\tvalidation_1-rmse:0.93488\n",
      "[47]\tvalidation_0-rmse:0.88939\tvalidation_1-rmse:0.93324\n",
      "[48]\tvalidation_0-rmse:0.88598\tvalidation_1-rmse:0.93161\n",
      "[49]\tvalidation_0-rmse:0.88328\tvalidation_1-rmse:0.93036\n",
      "[50]\tvalidation_0-rmse:0.88033\tvalidation_1-rmse:0.92832\n",
      "[51]\tvalidation_0-rmse:0.87795\tvalidation_1-rmse:0.92689\n",
      "[52]\tvalidation_0-rmse:0.87543\tvalidation_1-rmse:0.92585\n",
      "[53]\tvalidation_0-rmse:0.87335\tvalidation_1-rmse:0.92453\n",
      "[54]\tvalidation_0-rmse:0.87117\tvalidation_1-rmse:0.92343\n",
      "[55]\tvalidation_0-rmse:0.86853\tvalidation_1-rmse:0.92229\n",
      "[56]\tvalidation_0-rmse:0.86639\tvalidation_1-rmse:0.92139\n",
      "[57]\tvalidation_0-rmse:0.86358\tvalidation_1-rmse:0.92016\n",
      "[58]\tvalidation_0-rmse:0.86153\tvalidation_1-rmse:0.91878\n",
      "[59]\tvalidation_0-rmse:0.85946\tvalidation_1-rmse:0.91770\n",
      "[60]\tvalidation_0-rmse:0.85724\tvalidation_1-rmse:0.91644\n",
      "[61]\tvalidation_0-rmse:0.85498\tvalidation_1-rmse:0.91555\n",
      "[62]\tvalidation_0-rmse:0.85279\tvalidation_1-rmse:0.91424\n",
      "[63]\tvalidation_0-rmse:0.85076\tvalidation_1-rmse:0.91285\n",
      "[64]\tvalidation_0-rmse:0.84856\tvalidation_1-rmse:0.91201\n",
      "[65]\tvalidation_0-rmse:0.84670\tvalidation_1-rmse:0.91082\n",
      "[66]\tvalidation_0-rmse:0.84510\tvalidation_1-rmse:0.90999\n",
      "[67]\tvalidation_0-rmse:0.84340\tvalidation_1-rmse:0.90930\n",
      "[68]\tvalidation_0-rmse:0.84143\tvalidation_1-rmse:0.90873\n",
      "[69]\tvalidation_0-rmse:0.83960\tvalidation_1-rmse:0.90807\n",
      "[70]\tvalidation_0-rmse:0.83818\tvalidation_1-rmse:0.90726\n",
      "[71]\tvalidation_0-rmse:0.83658\tvalidation_1-rmse:0.90682\n",
      "[72]\tvalidation_0-rmse:0.83519\tvalidation_1-rmse:0.90624\n",
      "[73]\tvalidation_0-rmse:0.83394\tvalidation_1-rmse:0.90555\n",
      "[74]\tvalidation_0-rmse:0.83213\tvalidation_1-rmse:0.90560\n",
      "[75]\tvalidation_0-rmse:0.83089\tvalidation_1-rmse:0.90517\n",
      "[76]\tvalidation_0-rmse:0.82946\tvalidation_1-rmse:0.90448\n",
      "[77]\tvalidation_0-rmse:0.82830\tvalidation_1-rmse:0.90395\n",
      "[78]\tvalidation_0-rmse:0.82696\tvalidation_1-rmse:0.90330\n",
      "[79]\tvalidation_0-rmse:0.82572\tvalidation_1-rmse:0.90274\n",
      "[80]\tvalidation_0-rmse:0.82460\tvalidation_1-rmse:0.90229\n",
      "[81]\tvalidation_0-rmse:0.82354\tvalidation_1-rmse:0.90191\n",
      "[82]\tvalidation_0-rmse:0.82240\tvalidation_1-rmse:0.90190\n",
      "[83]\tvalidation_0-rmse:0.82142\tvalidation_1-rmse:0.90155\n",
      "[84]\tvalidation_0-rmse:0.82051\tvalidation_1-rmse:0.90117\n",
      "[85]\tvalidation_0-rmse:0.81943\tvalidation_1-rmse:0.90068\n",
      "[86]\tvalidation_0-rmse:0.81833\tvalidation_1-rmse:0.90016\n",
      "[87]\tvalidation_0-rmse:0.81723\tvalidation_1-rmse:0.89966\n",
      "[88]\tvalidation_0-rmse:0.81624\tvalidation_1-rmse:0.89921\n",
      "[89]\tvalidation_0-rmse:0.81518\tvalidation_1-rmse:0.89946\n",
      "[90]\tvalidation_0-rmse:0.81435\tvalidation_1-rmse:0.89915\n",
      "[91]\tvalidation_0-rmse:0.81351\tvalidation_1-rmse:0.89889\n",
      "[92]\tvalidation_0-rmse:0.81262\tvalidation_1-rmse:0.89849\n",
      "[93]\tvalidation_0-rmse:0.81191\tvalidation_1-rmse:0.89823\n",
      "[94]\tvalidation_0-rmse:0.81118\tvalidation_1-rmse:0.89805\n",
      "[95]\tvalidation_0-rmse:0.81026\tvalidation_1-rmse:0.89787\n",
      "[96]\tvalidation_0-rmse:0.80921\tvalidation_1-rmse:0.89807\n",
      "[97]\tvalidation_0-rmse:0.80841\tvalidation_1-rmse:0.89773\n",
      "[98]\tvalidation_0-rmse:0.80769\tvalidation_1-rmse:0.89761\n",
      "[99]\tvalidation_0-rmse:0.80693\tvalidation_1-rmse:0.89721\n",
      "[100]\tvalidation_0-rmse:0.80590\tvalidation_1-rmse:0.89751\n",
      "[101]\tvalidation_0-rmse:0.80526\tvalidation_1-rmse:0.89724\n",
      "[102]\tvalidation_0-rmse:0.80429\tvalidation_1-rmse:0.89730\n",
      "[103]\tvalidation_0-rmse:0.80321\tvalidation_1-rmse:0.89733\n",
      "[104]\tvalidation_0-rmse:0.80206\tvalidation_1-rmse:0.89693\n",
      "[105]\tvalidation_0-rmse:0.80139\tvalidation_1-rmse:0.89670\n",
      "[106]\tvalidation_0-rmse:0.80071\tvalidation_1-rmse:0.89669\n",
      "[107]\tvalidation_0-rmse:0.80001\tvalidation_1-rmse:0.89639\n",
      "[108]\tvalidation_0-rmse:0.79904\tvalidation_1-rmse:0.89641\n",
      "[109]\tvalidation_0-rmse:0.79852\tvalidation_1-rmse:0.89625\n",
      "[110]\tvalidation_0-rmse:0.79778\tvalidation_1-rmse:0.89619\n",
      "[111]\tvalidation_0-rmse:0.79709\tvalidation_1-rmse:0.89605\n",
      "[112]\tvalidation_0-rmse:0.79653\tvalidation_1-rmse:0.89592\n",
      "[113]\tvalidation_0-rmse:0.79569\tvalidation_1-rmse:0.89569\n",
      "[114]\tvalidation_0-rmse:0.79501\tvalidation_1-rmse:0.89545\n",
      "[115]\tvalidation_0-rmse:0.79418\tvalidation_1-rmse:0.89578\n",
      "[116]\tvalidation_0-rmse:0.79356\tvalidation_1-rmse:0.89552\n",
      "[117]\tvalidation_0-rmse:0.79302\tvalidation_1-rmse:0.89536\n",
      "[118]\tvalidation_0-rmse:0.79205\tvalidation_1-rmse:0.89587\n",
      "[119]\tvalidation_0-rmse:0.79139\tvalidation_1-rmse:0.89576\n",
      "[120]\tvalidation_0-rmse:0.79089\tvalidation_1-rmse:0.89553\n",
      "[121]\tvalidation_0-rmse:0.79023\tvalidation_1-rmse:0.89554\n",
      "[122]\tvalidation_0-rmse:0.78966\tvalidation_1-rmse:0.89565\n",
      "[123]\tvalidation_0-rmse:0.78907\tvalidation_1-rmse:0.89583\n",
      "[124]\tvalidation_0-rmse:0.78849\tvalidation_1-rmse:0.89580\n",
      "[125]\tvalidation_0-rmse:0.78784\tvalidation_1-rmse:0.89582\n",
      "[126]\tvalidation_0-rmse:0.78710\tvalidation_1-rmse:0.89596\n",
      "[127]\tvalidation_0-rmse:0.78654\tvalidation_1-rmse:0.89591\n"
     ]
    },
    {
     "data": {
      "text/plain": [
       "XGBRegressor(alpha=0.020628036007110023, base_score=0.5, booster='gbtree',\n",
       "             colsample_bylevel=1, colsample_bynode=1, colsample_bytree=0.5,\n",
       "             gamma=0, gpu_id=0, importance_type='gain',\n",
       "             interaction_constraints='', lambda=0.00783766714751088,\n",
       "             learning_rate=0.023, max_delta_step=0, max_depth=17,\n",
       "             min_child_weight=216, missing=nan, monotone_constraints='()',\n",
       "             n_estimators=400, n_jobs=16, num_parallel_tree=1, random_state=42,\n",
       "             reg_alpha=0.0206280369, reg_lambda=0.00783766713,\n",
       "             scale_pos_weight=1, subsample=0.7, tree_method='gpu_hist',\n",
       "             validate_parameters=1, verbosity=None)"
      ]
     },
     "execution_count": 85,
     "metadata": {},
     "output_type": "execute_result"
    }
   ],
   "source": [
    "clf.fit(\n",
    "    X_train, \n",
    "    Y_train, \n",
    "    eval_metric=\"rmse\", \n",
    "    eval_set=[(X_train, Y_train), (X_valid, Y_valid)], \n",
    "    verbose=True, \n",
    "    early_stopping_rounds = 10)"
   ]
  },
  {
   "cell_type": "code",
   "execution_count": 86,
   "id": "altered-comparative",
   "metadata": {},
   "outputs": [],
   "source": [
    "Y_pred = clf.predict(X_valid).clip(0, 20)\n",
    "Y_test = clf.predict(X_test).clip(0, 20)\n",
    "\n",
    "submission = pd.DataFrame({\n",
    "    \"ID\": test.index, \n",
    "    \"item_cnt_month\": Y_test\n",
    "})\n",
    "submission.to_csv('xgb_submission_RMSE_89536.csv', index=False)"
   ]
  },
  {
   "cell_type": "code",
   "execution_count": 87,
   "id": "allied-equilibrium",
   "metadata": {},
   "outputs": [],
   "source": [
    "def plot_features(booster, figsize):    \n",
    "    fig, ax = plt.subplots(1,1,figsize=figsize)\n",
    "    return plot_importance(booster=booster, ax=ax)"
   ]
  },
  {
   "cell_type": "code",
   "execution_count": 88,
   "id": "irish-copper",
   "metadata": {},
   "outputs": [
    {
     "data": {
      "text/plain": [
       "<AxesSubplot:title={'center':'Feature importance'}, xlabel='F score', ylabel='Features'>"
      ]
     },
     "execution_count": 88,
     "metadata": {},
     "output_type": "execute_result"
    },
    {
     "data": {
      "image/png": "[encoded data removed]",
      "text/plain": [
       "<Figure size 720x1008 with 1 Axes>"
      ]
     },
     "metadata": {
      "needs_background": "light"
     },
     "output_type": "display_data"
    }
   ],
   "source": [
    "plot_features(clf, (10,14))"
   ]
  },
  {
   "cell_type": "markdown",
   "id": "affiliated-representation",
   "metadata": {},
   "source": [
    "### ② 최종 제출 모델 :: LGBRegressor"
   ]
  },
  {
   "cell_type": "code",
   "execution_count": 93,
   "id": "monthly-bible",
   "metadata": {},
   "outputs": [],
   "source": [
    "import lightgbm as lgb"
   ]
  },
  {
   "cell_type": "code",
   "execution_count": 89,
   "id": "monetary-breakfast",
   "metadata": {},
   "outputs": [],
   "source": [
    "def build_lgb_model(params, X_train, X_val, y_train, y_val, cat_features):\n",
    "    lgb_train = lgb.Dataset(X_train, y_train)\n",
    "    lgb_val = lgb.Dataset(X_val, y_val)\n",
    "    model = lgb.train(params=params, train_set=lgb_train, valid_sets=(lgb_train, lgb_val), verbose_eval=50,\n",
    "                     categorical_feature=cat_features)\n",
    "    return model"
   ]
  },
  {
   "cell_type": "code",
   "execution_count": null,
   "id": "friendly-filename",
   "metadata": {},
   "outputs": [],
   "source": [
    "{'lambda_l1': 0.0003107507719222102,\n",
    " 'lambda_l2': 0.6646083396957045,\n",
    " 'num_leaves': 1458,\n",
    " 'feature_fraction': 0.5806154804111331,\n",
    " 'learning_rate': 0.02789273649891212,\n",
    " 'bagging_freq': 1,\n",
    " 'min_child_samples': 20}"
   ]
  },
  {
   "cell_type": "code",
   "execution_count": 90,
   "id": "proprietary-ballet",
   "metadata": {},
   "outputs": [],
   "source": [
    "params = {\n",
    "    'objective': 'rmse',\n",
    "    'metric': 'rmse',\n",
    "    'num_leaves': 1023,\n",
    "    'min_data_in_leaf':10,\n",
    "    'feature_fraction':0.7,\n",
    "    'learning_rate': 0.01,\n",
    "    'num_rounds': 1000,\n",
    "    'early_stopping_rounds': 30,\n",
    "    'seed': 1\n",
    "}"
   ]
  },
  {
   "cell_type": "code",
   "execution_count": 91,
   "id": "wrong-statement",
   "metadata": {},
   "outputs": [],
   "source": [
    "cat_features = ['item_category_id','month','date_item_avg_item_cnt_lag_1','delta_price_lag']"
   ]
  },
  {
   "cell_type": "code",
   "execution_count": 94,
   "id": "continent-hearts",
   "metadata": {},
   "outputs": [
    {
     "name": "stdout",
     "output_type": "stream",
     "text": [
      "[LightGBM] [Warning] Auto-choosing row-wise multi-threading, the overhead of testing was 0.170949 seconds.\n",
      "You can set `force_row_wise=true` to remove the overhead.\n",
      "And if memory is not enough, you can set `force_col_wise=true`.\n",
      "[LightGBM] [Info] Total Bins 2071\n",
      "[LightGBM] [Info] Number of data points in the train set: 6186922, number of used features: 26\n",
      "[LightGBM] [Info] Start training from score 0.288852\n",
      "Training until validation scores don't improve for 30 rounds\n",
      "[50]\ttraining's rmse: 0.963827\tvalid_1's rmse: 0.991633\n",
      "[100]\ttraining's rmse: 0.848131\tvalid_1's rmse: 0.935631\n",
      "[150]\ttraining's rmse: 0.786804\tvalid_1's rmse: 0.916555\n",
      "[200]\ttraining's rmse: 0.751856\tvalid_1's rmse: 0.9109\n",
      "Early stopping, best iteration is:\n",
      "[213]\ttraining's rmse: 0.74527\tvalid_1's rmse: 0.9103\n"
     ]
    }
   ],
   "source": [
    "lgb_model = build_lgb_model(params, X_train, X_valid, Y_train, Y_valid, cat_features)"
   ]
  },
  {
   "cell_type": "code",
   "execution_count": 95,
   "id": "operational-baptist",
   "metadata": {},
   "outputs": [],
   "source": [
    "submission = pd.read_csv('./data/sample_submission.csv')\n",
    "submission['item_cnt_month'] = lgb_model.predict(X_test).clip(0,20)\n",
    "submission[['ID', 'item_cnt_month']].to_csv('lgb_submission_RMSE_91030.csv', index=False)"
   ]
  },
  {
   "cell_type": "code",
   "execution_count": null,
   "id": "accompanied-numbers",
   "metadata": {},
   "outputs": [],
   "source": []
  },
  {
   "cell_type": "markdown",
   "id": "anonymous-pontiac",
   "metadata": {},
   "source": [
    "## Result of Project    \n",
    "\n",
    "#### Good Point   \n",
    "* 다양한 도메인을 가지고 있는 팀원들과 데이터 분석 과정에서 함께 고민하며 많은 인사이트를 얻을 수 있었다.    \n",
    "* 정형 데이터 / 시계열 데이터를 활용한 프로젝트를 경험하며 Sequence Data 특성에 대하여 다시 한번 학습할 수 있었고, 그렇기 때문에 데이터 전처리 과정에서 유의해야 할 사항을 알게 되었다.    \n",
    "* 시계열 데이터에 적합한 api 라이브러리를 분석 도구로 활용하였고, 새로운 분석과 시각화 기법을 시도하였다.     \n",
    "* 다양한 모델을 생성하고 학습하고 최적화 하는 과정에서 모델 구조와 기법에 대하여 적용하였다.\n",
    "\n",
    "#### Difficulties    \n",
    "* 시계열 데이터에서 중요한 이전 데이터의 흐름이 중요하게 작용한다는 점을 유의하며 데이터 가공을 하는 것이 중요했다.   \n",
    "* 시계열 데이터의 특성 상 이전 데이터와의 연관성 때문에 랜덤하게 데이터를 뽑아서 사용하면 안된다.     \n",
    "* 모델 최적화 과정에서 얻은 score 값이 좋다고 실제 test 결과에 높은 score가 나오지는 않았는데, 이는 여러가지 이유가 있을 것 같다.    \n",
    "    - 데이터 전처리/가공 과정에서 Feature Engineering의 부족   \n",
    "    - Test Data에는 있는 아이템(상품)의 종류가 Train Data에는 없었기 때문에 Test score가 높게 나올 수가 없다.   \n",
    "    "
   ]
  }
 ],
 "metadata": {
  "kernelspec": {
   "display_name": "aiffel",
   "language": "python",
   "name": "aiffel"
  },
  "language_info": {
   "codemirror_mode": {
    "name": "ipython",
    "version": 3
   },
   "file_extension": ".py",
   "mimetype": "text/x-python",
   "name": "python",
   "nbconvert_exporter": "python",
   "pygments_lexer": "ipython3",
   "version": "3.7.9"
  }
 },
 "nbformat": 4,
 "nbformat_minor": 5
}
